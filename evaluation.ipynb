{
 "cells": [
  {
   "cell_type": "markdown",
   "id": "0d7e08e5-bf03-4196-97dc-f81ac7fbef05",
   "metadata": {},
   "source": [
    "## Evaluation"
   ]
  },
  {
   "cell_type": "code",
   "execution_count": 2,
   "id": "41d7b90c-c9ad-4869-ae9c-0ce9b755598c",
   "metadata": {},
   "outputs": [],
   "source": [
    "import torch\n",
    "import numpy as np\n",
    "import random\n",
    "from models.architectures import srgan, srflow\n",
    "import PIL\n",
    "import os\n",
    "import torchvision\n",
    "from torchvision import transforms\n",
    "import matplotlib as mpl\n",
    "from mpl_toolkits.axes_grid1 import make_axes_locatable\n",
    "import pandas as pd\n",
    "import numpy as np\n",
    "\n",
    "# Set a seed for reproducibility\n",
    "np.random.seed(42)\n",
    "\n",
    "# Dataset loading\n",
    "from data import dataloading\n",
    "from data.era5_temp_dataset import InverseMinMaxScaler\n",
    "\n",
    "from os.path import exists, join\n",
    "import matplotlib.pyplot as plt\n",
    "from matplotlib import transforms\n",
    "import timeit\n",
    "import pdb\n",
    "import argparse\n",
    "import seaborn as sns\n",
    "\n",
    "from utils.metrics import *\n",
    "\n",
    "%load_ext autoreload\n",
    "%autoreload 2"
   ]
  },
  {
   "cell_type": "code",
   "execution_count": 3,
   "id": "cf303f0b-d257-450b-9402-0709994f1cf8",
   "metadata": {},
   "outputs": [
    {
     "name": "stdout",
     "output_type": "stream",
     "text": [
      "GPUs avail: 1\n"
     ]
    }
   ],
   "source": [
    "print('GPUs avail:', torch.cuda.device_count())\n",
    "\n",
    "# Parse Settings\n",
    "parser = argparse.ArgumentParser()\n",
    "\n",
    "# train configs\n",
    "parser.add_argument(\"--model\", type=str, default=\"srflow\",\n",
    "                    help=\"Model you want to train.\")\n",
    "parser.add_argument(\"--modeltype\", type=str, default=\"srflow\",\n",
    "                    help=\"Specify modeltype you would like to train [srflow, cdiff, srgan].\")\n",
    "parser.add_argument(\"--model_path\", type=str, default=\"runs/\",\n",
    "                    help=\"Directory where models are saved.\")\n",
    "parser.add_argument(\"--modelname\", type=str, default=None,\n",
    "                    help=\"Sepcify modelname to be tested.\")\n",
    "parser.add_argument(\"--epochs\", type=int, default=10000,\n",
    "                    help=\"number of epochs\")\n",
    "parser.add_argument(\"--max_steps\", type=int, default=2000000,\n",
    "                    help=\"For training on a large dataset.\")\n",
    "parser.add_argument(\"--log_interval\", type=int, default=100,\n",
    "                    help=\"Interval in which results should be logged.\")\n",
    "\n",
    "# runtime configs\n",
    "parser.add_argument(\"--visual\", action=\"store_true\",\n",
    "                    help=\"Visualizing the samples at test time.\")\n",
    "parser.add_argument(\"--noscaletest\", action=\"store_true\",\n",
    "                    help=\"Disable scale in coupling layers only at test time.\")\n",
    "parser.add_argument(\"--noscale\", action=\"store_true\",\n",
    "                    help=\"Disable scale in coupling layers.\")\n",
    "parser.add_argument(\"--testmode\", action=\"store_true\",\n",
    "                    help=\"Model run on test set.\")\n",
    "parser.add_argument(\"--train\", action=\"store_true\",\n",
    "                    help=\"If model should be trained.\")\n",
    "parser.add_argument(\"--resume_training\", action=\"store_true\",\n",
    "                    help=\"If training should be resumed.\")\n",
    "parser.add_argument(\"--constraint\", type=str, default='scaddDS',\n",
    "                    help=\"Physical Constraint to be applied during training.\")                   \n",
    "\n",
    "# hyperparameters\n",
    "parser.add_argument(\"--nbits\", type=int, default=8,\n",
    "                    help=\"Images converted to n-bit representations.\")\n",
    "parser.add_argument(\"--s\", type=int, default=16, help=\"Upscaling factor.\")\n",
    "parser.add_argument(\"--bsz\", type=int, default=16, help=\"batch size\")\n",
    "parser.add_argument(\"--lr\", type=float, default=0.0002, help=\"learning rate\")\n",
    "parser.add_argument(\"--filter_size\", type=int, default=512, help=\"filter size NN in Affine Coupling Layer\")\n",
    "parser.add_argument(\"--L\", type=int, default=3, help=\"# of levels\")\n",
    "parser.add_argument(\"--K\", type=int, default=2,\n",
    "                    help=\"# of flow steps, i.e. model depth\")\n",
    "parser.add_argument(\"--nb\", type=int, default=16,\n",
    "                    help=\"# of residual-in-residual blocks LR network.\")\n",
    "parser.add_argument(\"--condch\", type=int, default=128//8,\n",
    "                    help=\"# of residual-in-residual blocks in LR network.\")\n",
    "\n",
    "# data\n",
    "parser.add_argument(\"--datadir\", type=str, default=\"/home/christina/Documents/clim-var-ds-cnf-own/data/\",\n",
    "                    help=\"Dataset to train the model on.\")\n",
    "parser.add_argument(\"--trainset\", type=str, default=\"era5-TCW\", help='[era5-TCW, era5-T2M]')\n",
    "parser.add_argument(\"--testset\", type=str, default=\"era5-TCW\", help=\"Specify test dataset\")\n",
    "\n",
    "args = parser.parse_args('')\n",
    "config = vars(args)"
   ]
  },
  {
   "cell_type": "code",
   "execution_count": 4,
   "id": "b59199d9-ddfe-4f61-9996-f3c2cdde57a1",
   "metadata": {},
   "outputs": [],
   "source": [
    "if torch.cuda.is_available():\n",
    "    args.device = torch.device(\"cuda\")\n",
    "    args.num_gpus = torch.cuda.device_count()\n",
    "    args.parallel = False\n",
    "\n",
    "else:\n",
    "    args.device = \"cpu\""
   ]
  },
  {
   "cell_type": "code",
   "execution_count": 5,
   "id": "7d3eae76-6cfb-47a1-96ad-b2285e4070f7",
   "metadata": {},
   "outputs": [],
   "source": [
    "# use min-max due to non-gaussian distribution of data and outlier handling\n",
    "def min_max_scaler(x, min_val=0, max_val=124):\n",
    "    if min_val is None:\n",
    "        min_val = x.min()\n",
    "    if max_val is None:\n",
    "        max_val = x.max()\n",
    "    scaled_x = (x - min_val) / (max_val - min_val)\n",
    "    return scaled_x, min_val, max_val\n",
    "\n",
    "def inv_min_max_scaler(scaled_x, min_val=0, max_val=124):\n",
    "    x = scaled_x * (max_val - min_val) + min_val\n",
    "    return x"
   ]
  },
  {
   "cell_type": "code",
   "execution_count": 6,
   "id": "f1e7190a-dee1-4360-9ff4-1295164c4c1c",
   "metadata": {},
   "outputs": [],
   "source": [
    "import os\n",
    "import torch\n",
    "\n",
    "def load_model(exp_dir, model, mpath):\n",
    "    \"\"\"\n",
    "    Load a model from the specified directory and checkpoint file.\n",
    "    \n",
    "    Parameters:\n",
    "    exp_dir (str): The experiment directory path.\n",
    "    model (torch.nn.Module): The model instance to load the state dictionary into.\n",
    "    mpath (str): The path to the model checkpoint file.\n",
    "    \n",
    "    Returns:\n",
    "    torch.nn.Module: The loaded model with the state dictionary.\n",
    "    \n",
    "    Raises:\n",
    "    FileNotFoundError: If the model file does not exist at the specified path.\n",
    "    \"\"\"\n",
    "    try:\n",
    "        # Check if the file exists\n",
    "        if not os.path.exists(mpath):\n",
    "            raise FileNotFoundError(f\"Model file not found at {mpath}\")\n",
    "        \n",
    "        # Load the checkpoint\n",
    "        ckpt = torch.load(mpath)\n",
    "        \n",
    "        # Load the state dictionary into the model\n",
    "        model.load_state_dict(ckpt['model_state_dict'])\n",
    "        \n",
    "        print(\"Model loaded successfully.\")\n",
    "        return model\n",
    "\n",
    "    except FileNotFoundError as e:\n",
    "        print(e)\n",
    "        return None"
   ]
  },
  {
   "cell_type": "markdown",
   "id": "07f40f74-4d8f-4c05-8efd-36e0db120ac7",
   "metadata": {},
   "source": [
    "### Metric Evaluation\n",
    "Evaluations: \n",
    "- CNF unconstrained vs. constrained\n",
    "- CNF vs. GAN vs. CDiff\n",
    "- Residual Error Plots for ???\n",
    "- Metrics for 2x,4x,8x,16x with and without constraints"
   ]
  },
  {
   "cell_type": "code",
   "execution_count": 7,
   "id": "f1250faf-85e6-4045-ae46-90555ca3b66c",
   "metadata": {},
   "outputs": [],
   "source": [
    "import matplotlib.pyplot as plt\n",
    "import numpy as np\n",
    "import torch\n",
    "from matplotlib.gridspec import GridSpec\n",
    "import sys\n",
    "\n",
    "sys.path.append(\"../../\")\n",
    "from utils import metrics\n",
    "\n",
    "def save_snapshot(tensor, path):\n",
    "    \"\"\"Save tensor as image in Viridis color scheme.\"\"\"\n",
    "    plt.figure()\n",
    "    plt.imshow(tensor[0,...].cpu().numpy().squeeze(), cmap='viridis')\n",
    "    plt.axis('off')\n",
    "    plt.savefig(path, bbox_inches='tight', pad_inches=0)\n",
    "    plt.close()\n",
    "\n",
    "\n",
    "def save_grid_images(tensor_batch, save_path, nrow=3, title=None):\n",
    "    \"\"\"Create and save a grid of images.\"\"\"\n",
    "    grid_img = vutils.make_grid(tensor_batch[0:9], nrow=nrow, normalize=True, scale_each=True)\n",
    "    np_grid = grid_img.cpu().numpy().transpose((1, 2, 0))\n",
    "    plt.figure(figsize=(10, 10))\n",
    "    plt.imshow(np_grid[:, :, 0], cmap='viridis')\n",
    "    plt.axis('off')\n",
    "    plt.title(title)\n",
    "    plt.tight_layout(pad=0)\n",
    "    plt.savefig(save_path, dpi=300, bbox_inches='tight')\n",
    "    plt.close()\n",
    "    \n",
    "\n",
    "def plot_absolute_error_with_grid(y_unorm, predictions, save_path_grid, save_path_error_bar):\n",
    "    \"\"\"Plot and save a 3x3 grid of normalized absolute error images and a separate error bar plot.\"\"\"\n",
    "    \n",
    "    # Calculate absolute errors and their normalization\n",
    "    abs_error = torch.abs(predictions - y_unorm).cpu().numpy()\n",
    "    abs_error_min = np.min(abs_error)\n",
    "    abs_error_max = np.max(abs_error)\n",
    "    abs_error_normalized = (abs_error - abs_error_min) / (abs_error_max - abs_error_min)\n",
    "    \n",
    "    # Remove singleton dimensions if present\n",
    "    abs_error_normalized = abs_error_normalized.squeeze()  # Remove single-dimensional entries from shape\n",
    "    \n",
    "    # Extract the first 9 normalized absolute error images\n",
    "    num_images = min(abs_error_normalized.shape[0], 9)\n",
    "    error_images = [torch.tensor(abs_error_normalized[i]).unsqueeze(0) for i in range(num_images)]\n",
    "    \n",
    "    # Create a grid of images using PyTorch\n",
    "    grid = vutils.make_grid(torch.stack(error_images), nrow=3, padding=0)\n",
    "    \n",
    "    # Convert the grid to a NumPy array\n",
    "    np_grid = grid.cpu().numpy().transpose((1, 2, 0))\n",
    "    \n",
    "    # Create a figure for the grid of error images\n",
    "    plt.figure(figsize=(15, 15))\n",
    "    # pdb.set_trace()\n",
    "    plt.imshow(np_grid[...,0], cmap='inferno', vmin=0, vmax=1)  # Set vmin and vmax for consistent color mapping\n",
    "    plt.axis('off')  # Turn off the axis\n",
    "    \n",
    "    # Add a color bar\n",
    "    cbar = plt.colorbar()\n",
    "    cbar.set_label('Normalized Absolute Error')\n",
    "    \n",
    "    # Save the grid figure\n",
    "    plt.savefig(save_path_grid, bbox_inches='tight', pad_inches=0)\n",
    "    plt.close()\n",
    "\n",
    "    # Compute and plot the error bar chart\n",
    "    means = [np.mean(abs_error_normalized[i]) for i in range(num_images)]\n",
    "    stds = [np.std(abs_error_normalized[i]) for i in range(num_images)]\n",
    "    \n",
    "    # Create a separate figure for the error bar plot\n",
    "    plt.figure(figsize=(10, 10))\n",
    "    plt.errorbar(range(num_images), means, yerr=stds, fmt='o', capsize=5, capthick=2, ecolor='red', color='blue')\n",
    "    plt.xlabel('Image Index')\n",
    "    plt.ylabel('Normalized Absolute Error')\n",
    "    plt.title('Error Bar Plot')\n",
    "    \n",
    "    # Save the error bar plot figure\n",
    "    plt.savefig(save_path_error_bar, bbox_inches='tight')\n",
    "    plt.close()\n",
    "    \n",
    "def metric_eval_flow(dataloader, model, exp_name, args):\n",
    "    metric_dict = {\n",
    "        'rmse0': [], 'mse0': [], 'mae0': [],\n",
    "        'rmse05': [], 'mse05': [], 'mae05': [],\n",
    "        'rmse08': [], 'mse08': [], 'mae08': [],\n",
    "        'rmse1': [], 'mse1': [], 'mae1': [],\n",
    "        'crps0': [], 'crps05': [], 'crps08': [], 'crps1': [],\n",
    "    }\n",
    "\n",
    "    results_dir = os.path.join(exp_name, 'experiment_results')\n",
    "    os.makedirs(results_dir, exist_ok=True)\n",
    "    \n",
    "    snapshots_dir = os.path.join(results_dir, 'snapshots')\n",
    "    os.makedirs(snapshots_dir, exist_ok=True)\n",
    "\n",
    "    model.eval()\n",
    "    with torch.no_grad():\n",
    "        for batch_idx, item in enumerate(dataloader):\n",
    "            \n",
    "            y = item[0].to(args.device)\n",
    "            x = item[1].to(args.device)\n",
    "            y_unorm = item[2].to(args.device)\n",
    "            x_unorm = item[3].to(args.device)\n",
    "\n",
    "            z, _ = model.forward(x_hr=y, xlr=x)\n",
    "\n",
    "            # Predictions at different eps values\n",
    "            mu0, _, _ = model(xlr=x, reverse=True, eps=0)\n",
    "            mu05, _, _ = model(xlr=x, reverse=True, eps=0.5)\n",
    "            mu08, _, _ = model(xlr=x, reverse=True, eps=0.8)\n",
    "            mu1, _, _ = model(xlr=x, reverse=True, eps=1.0)\n",
    "\n",
    "            # Compute and store metrics\n",
    "            mse_values = {\n",
    "                'mse0': metrics.MSE(inv_min_max_scaler(mu0), y_unorm).detach().cpu().numpy(),\n",
    "                'mse05': metrics.MSE(inv_min_max_scaler(mu05), y_unorm).detach().cpu().numpy(),\n",
    "                'mse08': metrics.MSE(inv_min_max_scaler(mu08), y_unorm).detach().cpu().numpy(),\n",
    "                'mse1': metrics.MSE(inv_min_max_scaler(mu1), y_unorm).detach().cpu().numpy(),\n",
    "            }\n",
    "            mae_values = {\n",
    "                'mae0': metrics.MAE(inv_min_max_scaler(mu0), y_unorm).detach().cpu().numpy(),\n",
    "                'mae05': metrics.MAE(inv_min_max_scaler(mu05), y_unorm).detach().cpu().numpy(),\n",
    "                'mae08': metrics.MAE(inv_min_max_scaler(mu08), y_unorm).detach().cpu().numpy(),\n",
    "                'mae1': metrics.MAE(inv_min_max_scaler(mu1), y_unorm).detach().cpu().numpy(),\n",
    "            }\n",
    "            rmse_values = {\n",
    "                'rmse0': metrics.RMSE(inv_min_max_scaler(mu0), y_unorm).detach().cpu().numpy(),\n",
    "                'rmse05': metrics.RMSE(inv_min_max_scaler(mu05), y_unorm).detach().cpu().numpy(),\n",
    "                'rmse08': metrics.RMSE(inv_min_max_scaler(mu08), y_unorm).detach().cpu().numpy(),\n",
    "                'rmse1': metrics.RMSE(inv_min_max_scaler(mu1), y_unorm).detach().cpu().numpy(),\n",
    "            }\n",
    "\n",
    "            # Calculate CRPS for ensemble\n",
    "            crps_values = {\n",
    "                'crps0': crps_ensemble(y_unorm, inv_min_max_scaler(mu0)),\n",
    "                'crps05': crps_ensemble(y_unorm, inv_min_max_scaler(mu05)),\n",
    "                'crps08': crps_ensemble(y_unorm, inv_min_max_scaler(mu08)),\n",
    "                'crps1': crps_ensemble(y_unorm, inv_min_max_scaler(mu1)),\n",
    "            }\n",
    "\n",
    "            # Append metrics\n",
    "            metric_dict['mse0'].append(mse_values['mse0'])\n",
    "            metric_dict['mse05'].append(mse_values['mse05'])\n",
    "            metric_dict['mse08'].append(mse_values['mse08'])\n",
    "            metric_dict['mse1'].append(mse_values['mse1'])\n",
    "            metric_dict['mae0'].append(mae_values['mae0'])\n",
    "            metric_dict['mae05'].append(mae_values['mae05'])\n",
    "            metric_dict['mae08'].append(mae_values['mae08'])\n",
    "            metric_dict['mae1'].append(mae_values['mae1'])\n",
    "            metric_dict['rmse0'].append(rmse_values['rmse0'])\n",
    "            metric_dict['rmse05'].append(rmse_values['rmse05'])\n",
    "            metric_dict['rmse08'].append(rmse_values['rmse08'])\n",
    "            metric_dict['rmse1'].append(rmse_values['rmse1'])\n",
    "            metric_dict['crps0'].append(crps_values['crps0'])\n",
    "            metric_dict['crps05'].append(crps_values['crps05'])\n",
    "            metric_dict['crps08'].append(crps_values['crps08'])\n",
    "            metric_dict['crps1'].append(crps_values['crps1'])\n",
    "\n",
    "            # Save grid of images (for simplicity, only the first batch)\n",
    "            if batch_idx == 0:\n",
    "                save_grid_images(y_unorm, os.path.join(snapshots_dir, f'ground_truth_{batch_idx}.png'))\n",
    "                save_grid_images(mu0, os.path.join(snapshots_dir, f'prediction_mu0_{batch_idx}.png'))\n",
    "                save_grid_images(mu05, os.path.join(snapshots_dir, f'prediction_mu05_{batch_idx}.png'))\n",
    "                save_grid_images(mu08, os.path.join(snapshots_dir, f'prediction_mu08_{batch_idx}.png'))\n",
    "                save_grid_images(mu1, os.path.join(snapshots_dir, f'prediction_mu1_{batch_idx}.png'))\n",
    "                save_grid_images(x_unorm, os.path.join(snapshots_dir, f'low_res_{batch_idx}.png'))\n",
    "\n",
    "            print(f'Current RMSE - mu0: {rmse_values[\"rmse0\"]}, mu05: {rmse_values[\"rmse05\"]}, mu08: {rmse_values[\"rmse08\"]}, mu1: {rmse_values[\"rmse1\"]}')\n",
    "            print(f'Current MAE - mu0: {mae_values[\"mae0\"]}, mu05: {mae_values[\"mae05\"]}, mu08: {mae_values[\"mae08\"]}, mu1: {mae_values[\"mae1\"]}')\n",
    "\n",
    "            if batch_idx ==1:\n",
    "                break\n",
    "\n",
    "        \n",
    "        # Plot absolute errors\n",
    "        predictions = inv_min_max_scaler(mu08)\n",
    "        plot_absolute_error_with_grid(y_unorm, predictions, os.path.join(results_dir, 'absolute_error_mu08.png'), os.path.join(results_dir, 'error_bars_mu08.png'))\n",
    "        \n",
    "        # Create mean metrics\n",
    "        mean_dict = {key: np.mean(value) for key, value in metric_dict.items() if len(value) > 0}\n",
    "\n",
    "        # Save metrics to file\n",
    "        with open(os.path.join(results_dir, 'metrics.txt'), 'w') as f:\n",
    "            json.dump(mean_dict, f, indent=4)\n",
    "\n",
    "        print(mean_dict)\n",
    "\n",
    "\n",
    "\n",
    "    return mean_dict\n"
   ]
  },
  {
   "cell_type": "code",
   "execution_count": null,
   "id": "554ab046-8165-44d2-9318-26029f7534d1",
   "metadata": {},
   "outputs": [],
   "source": []
  },
  {
   "cell_type": "code",
   "execution_count": null,
   "id": "f0a8bc6b-680f-4948-9907-4974e3e7ac0c",
   "metadata": {},
   "outputs": [],
   "source": []
  },
  {
   "cell_type": "markdown",
   "id": "9d0b1ea6-82ef-47c3-b12c-5218d3d5229d",
   "metadata": {},
   "source": [
    "# Experiments: Comparing across upsampling factors\n"
   ]
  },
  {
   "cell_type": "code",
   "execution_count": 8,
   "id": "336f9b86-94ba-4ba6-aa51-2a2bcb6c322b",
   "metadata": {},
   "outputs": [
    {
     "name": "stdout",
     "output_type": "stream",
     "text": [
      "Num of avail GPUs: 1\n"
     ]
    }
   ],
   "source": [
    "# load model\n",
    "print('Num of avail GPUs:', torch.cuda.device_count())"
   ]
  },
  {
   "cell_type": "code",
   "execution_count": null,
   "id": "aa0022d1-64a6-4afb-87ec-ecf73572ad87",
   "metadata": {},
   "outputs": [],
   "source": []
  },
  {
   "cell_type": "code",
   "execution_count": 9,
   "id": "b44a420e-e59f-4b93-9a70-7f6523e0089d",
   "metadata": {},
   "outputs": [
    {
     "data": {
      "text/plain": [
       "44"
      ]
     },
     "execution_count": 9,
     "metadata": {},
     "output_type": "execute_result"
    }
   ],
   "source": [
    "import gc\n",
    "gc.collect()"
   ]
  },
  {
   "cell_type": "markdown",
   "id": "12ada07c-0d18-42f8-9b9b-1e9f5bee2692",
   "metadata": {},
   "source": [
    "### Conditional Flow Model"
   ]
  },
  {
   "cell_type": "code",
   "execution_count": null,
   "id": "533cb3e7-9282-4cf0-b5eb-31d39fc3a8e2",
   "metadata": {},
   "outputs": [
    {
     "name": "stdout",
     "output_type": "stream",
     "text": [
      "Loading ERA5 TCW ...\n"
     ]
    }
   ],
   "source": [
    "args.s = 2\n",
    "train_loader, val_loader, test_loader, args = dataloading.load_data(args)\n",
    "in_channels = next(iter(test_loader))[0].shape[1]\n",
    "height, width = next(iter(test_loader))[0].shape[2], next(iter(test_loader))[0].shape[3]\n",
    "cnf2x = srflow.SRFlow((in_channels, height, width), args.filter_size, args.L, args.K, args.bsz, 2, args.constraint, args.nb, args.condch, args.noscale, args.noscaletest)\n",
    "exp_dir = 'runs/srflow_era5-TCW_None_2024_06_29_13_26_09_2x/'\n",
    "cnf_path = '/home/christina/Documents/clim-var-ds-cnf-own/runs/srflow_era5-TCW_None_2024_06_29_13_26_09_2x/model_checkpoints/model_epoch_8_step_21500.tar'\n",
    "\n",
    "# load the model\n",
    "cnf2x = load_model(exp_dir, cnf2x, cnf_path).to(args.device)\n",
    "metric_eval_flow(test_loader, cnf2x, exp_dir, args)"
   ]
  },
  {
   "cell_type": "code",
   "execution_count": 1,
   "id": "40b6d0d8-40e7-4219-9ce2-3885c493c5cf",
   "metadata": {},
   "outputs": [
    {
     "ename": "NameError",
     "evalue": "name 'gc' is not defined",
     "output_type": "error",
     "traceback": [
      "\u001b[0;31m---------------------------------------------------------------------------\u001b[0m",
      "\u001b[0;31mNameError\u001b[0m                                 Traceback (most recent call last)",
      "\u001b[0;32m<ipython-input-1-35e5c8a5ab93>\u001b[0m in \u001b[0;36m<module>\u001b[0;34m\u001b[0m\n\u001b[0;32m----> 1\u001b[0;31m \u001b[0mgc\u001b[0m\u001b[0;34m.\u001b[0m\u001b[0mcollect\u001b[0m\u001b[0;34m(\u001b[0m\u001b[0;34m)\u001b[0m\u001b[0;34m\u001b[0m\u001b[0;34m\u001b[0m\u001b[0m\n\u001b[0m",
      "\u001b[0;31mNameError\u001b[0m: name 'gc' is not defined"
     ]
    }
   ],
   "source": [
    "gc.collect()"
   ]
  },
  {
   "cell_type": "code",
   "execution_count": null,
   "id": "ada11319-96bd-444c-843c-791a51369f2c",
   "metadata": {},
   "outputs": [],
   "source": [
    "args.s = 4\n",
    "train_loader, val_loader, test_loader, args = dataloading.load_data(args)\n",
    "in_channels = next(iter(test_loader))[0].shape[1]\n",
    "height, width = next(iter(test_loader))[0].shape[2], next(iter(test_loader))[0].shape[3]\n",
    "cnf4x = srflow.SRFlow((in_channels, height, width), args.filter_size, args.L, args.K, args.bsz, 4, args.constraint, args.nb, args.condch, args.noscale, args.noscaletest)\n",
    "exp_dir = 'runs/srflow_era5-TCW_None_2024_06_29_13_26_13_4x/'\n",
    "cnf_path = '/home/christina/Documents/clim-var-ds-cnf-own/runs/srflow_era5-TCW_None_2024_06_29_13_26_13_4x/model_checkpoints/model_epoch_10_step_26250.tar'\n",
    "# Load the model\n",
    "cnf4x = load_model(exp_dir, cnf4x, cnf_path).to(args.device)\n",
    "metric_eval_flow(test_loader, cnf4x, exp_dir, args)"
   ]
  },
  {
   "cell_type": "code",
   "execution_count": null,
   "id": "f6de1c2d-f081-48cb-95c0-07666a2257c3",
   "metadata": {},
   "outputs": [],
   "source": [
    "gc.collect()"
   ]
  },
  {
   "cell_type": "code",
   "execution_count": null,
   "id": "f49e969c-be78-4747-811d-7b6b46e2a6ae",
   "metadata": {},
   "outputs": [],
   "source": [
    "args.s = 8\n",
    "args.device = 'cuda'\n",
    "train_loader, val_loader, test_loader, args = dataloading.load_data(args)\n",
    "in_channels = next(iter(test_loader))[0].shape[1]\n",
    "height, width = next(iter(test_loader))[0].shape[2], next(iter(test_loader))[0].shape[3]\n",
    "cnf8x = srflow.SRFlow((in_channels, height, width), args.filter_size, args.L, args.K, args.bsz, args.s, args.constraint, args.nb, args.condch, args.noscale, args.noscaletest)\n",
    "exp_dir = 'runs/srflow_era5-TCW_None_2024_06_29_13_26_12_8x/'\n",
    "cnf_path = '/home/christina/Documents/clim-var-ds-cnf-own/runs/srflow_era5-TCW_None_2024_06_29_13_26_12_8x/model_checkpoints/model_epoch_4_step_11500.tar'\n",
    "# Load the model\n",
    "cnf8x = load_model(exp_dir, cnf8x, cnf_path).to(args.device)\n",
    "metric_eval_flow(test_loader, cnf8x, exp_dir, args)"
   ]
  },
  {
   "cell_type": "code",
   "execution_count": null,
   "id": "c584e157-a39b-4293-bb1c-a73a3d28f5b6",
   "metadata": {},
   "outputs": [],
   "source": [
    "gc.collect()"
   ]
  },
  {
   "cell_type": "code",
   "execution_count": null,
   "id": "5db1cdd4-2f74-48aa-ba38-7878fa28f4f0",
   "metadata": {},
   "outputs": [],
   "source": [
    "args.s = 16\n",
    "args.device = 'cuda'\n",
    "train_loader, val_loader, test_loader, args = dataloading.load_data(args)\n",
    "in_channels = next(iter(test_loader))[0].shape[1]\n",
    "height, width = next(iter(test_loader))[0].shape[2], next(iter(test_loader))[0].shape[3]\n",
    "cnf16x = srflow.SRFlow((in_channels, height, width), args.filter_size, args.L, args.K, args.bsz, 16, args.constraint, args.nb, args.condch, args.noscale, args.noscaletest)\n",
    "exp_dir = 'runs/srflow_era5-TCW_None_2024_06_29_13_26_12_16x/'\n",
    "cnf_path = '/home/christina/Documents/clim-var-ds-cnf-own/runs/srflow_era5-TCW_None_2024_06_29_13_26_12_16x/model_checkpoints/model_epoch_5_step_13750.tar'\n",
    "# Load the model\n",
    "cnf16x = load_model(exp_dir, cnf16x, cnf_path).to(args.device)\n",
    "metric_eval_flow(test_loader, cnf16x, exp_dir, args)"
   ]
  },
  {
   "cell_type": "code",
   "execution_count": null,
   "id": "1e3725bf-cc8e-41fb-ab3f-ce2088f40626",
   "metadata": {},
   "outputs": [],
   "source": [
    "gc.collect()"
   ]
  },
  {
   "cell_type": "markdown",
   "id": "db3f74fe-5503-4486-947c-dbda69ec1572",
   "metadata": {},
   "source": [
    "### Conditional GAN"
   ]
  },
  {
   "cell_type": "code",
   "execution_count": 90,
   "id": "327c47de-4d26-4577-a3bf-b4e80818bb0a",
   "metadata": {},
   "outputs": [],
   "source": [
    "import os\n",
    "import json\n",
    "import torch\n",
    "import torchvision.utils as vutils\n",
    "import sys\n",
    "sys.path.append(\"../../\")\n",
    "from utils import metrics\n",
    "\n",
    "def save_snapshot(tensor, path):\n",
    "    \"\"\"Save tensor as image in Viridis color scheme.\"\"\"\n",
    "    plt.figure()\n",
    "    plt.imshow(tensor[0,...].cpu().numpy().squeeze(), cmap='viridis')\n",
    "    plt.axis('off')\n",
    "    plt.savefig(path, bbox_inches='tight', pad_inches=0)\n",
    "    plt.close()\n",
    "\n",
    "\n",
    "def save_grid_images(tensor_batch, save_path, nrow=3, title=None):\n",
    "    \"\"\"Create and save a grid of images.\"\"\"\n",
    "    grid_img = vutils.make_grid(tensor_batch[0:9], nrow=nrow, normalize=True, scale_each=True)\n",
    "    np_grid = grid_img.cpu().numpy().transpose((1, 2, 0))\n",
    "    plt.figure(figsize=(10, 10))\n",
    "    plt.imshow(np_grid[:, :, 0], cmap='viridis')\n",
    "    plt.axis('off')\n",
    "    plt.title(title)\n",
    "    plt.tight_layout()\n",
    "    plt.savefig(save_path, dpi=300, bbox_inches='tight')\n",
    "    plt.close()\n",
    "    \n",
    "def metric_eval_gan(dataloader, model, exp_name, args):\n",
    "    metric_dict = {\n",
    "        'rmse0': [], 'mse0': [], 'mae0': [],\n",
    "        'rmse05': [], 'mse05': [], 'mae05': [],\n",
    "        'rmse08': [], 'mse08': [], 'mae08': [],\n",
    "        'rmse1': [], 'mse1': [], 'mae1': [],\n",
    "        'crps0': [], 'crps05': [],'crps08': [],'crps1': [],\n",
    "    }\n",
    "\n",
    "    # Create directories\n",
    "    results_dir = os.path.join(exp_name, 'experiment_results')\n",
    "    os.makedirs(results_dir, exist_ok=True)\n",
    "    \n",
    "    snapshots_dir = os.path.join(results_dir, 'snapshots')\n",
    "    os.makedirs(snapshots_dir, exist_ok=True)\n",
    "\n",
    "    model.eval()\n",
    "    with torch.no_grad():\n",
    "        for batch_idx, item in enumerate(dataloader):\n",
    "            \n",
    "            y = item[0].to(args.device)\n",
    "            x = item[1].to(args.device)\n",
    "\n",
    "            y_unorm = item[2].to(args.device)\n",
    "            x_unorm = item[3].to(args.device)\n",
    "\n",
    "            # Evaluate for different temperatures\n",
    "            mu0 = model(x, eps=0)\n",
    "            mu05 = model(x, eps=0.5)\n",
    "            mu08 = model(x, eps=0.8)\n",
    "            mu1 = model(x, eps=1.0)\n",
    "\n",
    "            # Compute and store MSE for each temperature\n",
    "            mse0 = metrics.MSE(inv_min_max_scaler(mu0), y_unorm).detach().cpu().numpy()\n",
    "            mse05 = metrics.MSE(inv_min_max_scaler(mu05), y_unorm).detach().cpu().numpy()\n",
    "            mse08 = metrics.MSE(inv_min_max_scaler(mu08), y_unorm).detach().cpu().numpy()\n",
    "            mse1 = metrics.MSE(inv_min_max_scaler(mu1), y_unorm).detach().cpu().numpy()\n",
    "            \n",
    "            metric_dict['mse0'].append(mse0)\n",
    "            metric_dict['mse05'].append(mse05)\n",
    "            metric_dict['mse08'].append(mse08)\n",
    "            metric_dict['mse1'].append(mse1)\n",
    "\n",
    "            # Compute and store MAE for each temperature\n",
    "            mae0 = metrics.MAE(inv_min_max_scaler(mu0), y_unorm).detach().cpu().numpy()\n",
    "            mae05 = metrics.MAE(inv_min_max_scaler(mu05), y_unorm).detach().cpu().numpy()\n",
    "            mae08 = metrics.MAE(inv_min_max_scaler(mu08), y_unorm).detach().cpu().numpy()\n",
    "            mae1 = metrics.MAE(inv_min_max_scaler(mu1), y_unorm).detach().cpu().numpy()\n",
    "\n",
    "            metric_dict['mae0'].append(mae0)\n",
    "            metric_dict['mae05'].append(mae05)\n",
    "            metric_dict['mae08'].append(mae08)\n",
    "            metric_dict['mae1'].append(mae1)\n",
    "\n",
    "            # Compute and store RMSE for each temperature\n",
    "            rmse0 = metrics.RMSE(inv_min_max_scaler(mu0), y_unorm).detach().cpu().numpy()\n",
    "            rmse05 = metrics.RMSE(inv_min_max_scaler(mu05), y_unorm).detach().cpu().numpy()\n",
    "            rmse08 = metrics.RMSE(inv_min_max_scaler(mu08), y_unorm).detach().cpu().numpy()\n",
    "            rmse1 = metrics.RMSE(inv_min_max_scaler(mu1), y_unorm).detach().cpu().numpy()\n",
    "\n",
    "            metric_dict['rmse0'].append(rmse0)\n",
    "            metric_dict['rmse05'].append(rmse05)\n",
    "            metric_dict['rmse08'].append(rmse08)\n",
    "            metric_dict['rmse1'].append(rmse1)\n",
    "\n",
    "             # Calculate CRPS for ensemble\n",
    "            metric_dict['crps0'].append(crps_ensemble(y_unorm, inv_min_max_scaler(mu0)))\n",
    "            metric_dict['crps05'].append(crps_ensemble(y_unorm, inv_min_max_scaler(mu05)))\n",
    "            metric_dict['crps08'].append(crps_ensemble(y_unorm, inv_min_max_scaler(mu08)))\n",
    "            metric_dict['crps1'].append(crps_ensemble(y_unorm, inv_min_max_scaler(mu1)))\n",
    "            \n",
    "            # Save grid of images for visualization (adjust as needed)\n",
    "            if batch_idx == 0:  # Save only for the first batch for simplicity\n",
    "                # Save snapshots\n",
    "                save_grid_images(y_unorm, os.path.join(snapshots_dir, f'ground_truth_{batch_idx}.png'))\n",
    "                save_grid_images(mu0, os.path.join(snapshots_dir, f'prediction_mu0_{batch_idx}.png'))\n",
    "                save_grid_images(mu05, os.path.join(snapshots_dir, f'prediction_mu05_{batch_idx}.png'))\n",
    "                save_grid_images(mu08, os.path.join(snapshots_dir, f'prediction_mu08_{batch_idx}.png'))\n",
    "                save_grid_images(mu1, os.path.join(snapshots_dir, f'prediction_mu1_{batch_idx}.png'))\n",
    "                save_grid_images(x_unorm, os.path.join(snapshots_dir, f'low_res_{batch_idx}.png'))\n",
    "                \n",
    "            print(f'Current RMSE - mu0: {rmse0}, mu05: {rmse05}, mu08: {rmse08}, mu1: {rmse1}')\n",
    "            print(f'Current MAE - mu0: {mae0}, mu05: {mae05}, mu08: {mae08}, mu1: {mae1}')\n",
    "            # print(f'Current CRPS - mu0:{crps0}, mu05: {crps05}, mu08: {crps08}, m1: {crps1}')\n",
    "\n",
    "            if batch_idx == 2:\n",
    "                break\n",
    "    \n",
    "    # Plot absolute errors\n",
    "    predictions = inv_min_max_scaler(mu08)\n",
    "    plot_absolute_error_with_grid(y_unorm, predictions, os.path.join(results_dir, 'absolute_error_mu08.png'), os.path.join(results_dir, 'error_bars_mu08.png'))\n",
    "       \n",
    "    # Create a string representation of the metric_dict\n",
    "    mean_dict = {}\n",
    "    for key, value in metric_dict.items():\n",
    "        if len(value) > 0:\n",
    "            mean_dict[key] = np.mean(value)   \n",
    "            \n",
    "    metric_str = \"\\n\".join([f\"{key}: {value}\" for key, value in mean_dict.items()])\n",
    "\n",
    "    # Save metric_dict to a text file\n",
    "    with open(os.path.join(results_dir, 'metrics.txt'), 'w') as f:\n",
    "        json.dump(metric_str, f, indent=4)\n",
    "        \n",
    "    print(mean_dict)\n",
    "    return mean_dict"
   ]
  },
  {
   "cell_type": "code",
   "execution_count": 91,
   "id": "8915b8f2-1f71-4aac-b446-6d75d75fa065",
   "metadata": {},
   "outputs": [
    {
     "name": "stdout",
     "output_type": "stream",
     "text": [
      "Loading ERA5 TCW ...\n",
      "Model loaded successfully.\n",
      "Current RMSE - mu0: 0.44392889738082886, mu05: 0.4507226347923279, mu08: 0.462285578250885, mu1: 0.4773579239845276\n",
      "Current MAE - mu0: 0.23985344171524048, mu05: 0.24803069233894348, mu08: 0.2599413990974426, mu1: 0.2741978168487549\n",
      "Current RMSE - mu0: 0.5369295477867126, mu05: 0.5400278568267822, mu08: 0.5484990477561951, mu1: 0.5570924282073975\n",
      "Current MAE - mu0: 0.29851919412612915, mu05: 0.30288976430892944, mu08: 0.3110339343547821, mu1: 0.3204658627510071\n",
      "Current RMSE - mu0: 0.48289233446121216, mu05: 0.4892057776451111, mu08: 0.5027265548706055, mu1: 0.5172818303108215\n",
      "Current MAE - mu0: 0.25939661264419556, mu05: 0.26741722226142883, mu08: 0.2800706624984741, mu1: 0.2948504686355591\n",
      "{'rmse0': 0.48791695, 'mse0': 0.32238808, 'mae0': 0.26592308, 'rmse05': 0.49331877, 'mse05': 0.3259026, 'mae05': 0.27277923, 'rmse08': 0.5045037, 'mse08': 0.33466363, 'mae08': 0.283682, 'rmse1': 0.51724404, 'mse1': 0.34356046, 'mae1': 0.2965047, 'crps0': 0.14127511, 'crps05': 0.14377257, 'crps08': 0.14578807, 'crps1': 0.14809906}\n"
     ]
    },
    {
     "data": {
      "text/plain": [
       "{'rmse0': 0.48791695,\n",
       " 'mse0': 0.32238808,\n",
       " 'mae0': 0.26592308,\n",
       " 'rmse05': 0.49331877,\n",
       " 'mse05': 0.3259026,\n",
       " 'mae05': 0.27277923,\n",
       " 'rmse08': 0.5045037,\n",
       " 'mse08': 0.33466363,\n",
       " 'mae08': 0.283682,\n",
       " 'rmse1': 0.51724404,\n",
       " 'mse1': 0.34356046,\n",
       " 'mae1': 0.2965047,\n",
       " 'crps0': 0.14127511,\n",
       " 'crps05': 0.14377257,\n",
       " 'crps08': 0.14578807,\n",
       " 'crps1': 0.14809906}"
      ]
     },
     "execution_count": 91,
     "metadata": {},
     "output_type": "execute_result"
    }
   ],
   "source": [
    "args.s = 2\n",
    "train_loader, val_loader, test_loader, args = dataloading.load_data(args)\n",
    "in_channels = next(iter(test_loader))[0].shape[1]\n",
    "height, width = next(iter(test_loader))[0].shape[2], next(iter(test_loader))[0].shape[3]\n",
    "srgan2x = srgan.Generator(in_channels, out_nc=1, height=height, width=width, nf=128, s=args.s, nb=1)\n",
    "exp_dir = 'runs/SRGANruns/srgan_era5-TCW_None__2024_07_13_14_29_28_2x/'\n",
    "gan_path = '/home/christina/Documents/clim-var-ds-cnf-own/runs/SRGANruns/srgan_era5-TCW_None__2024_07_13_14_29_28_2x/model_checkpoints/generator_epoch_13_step_34000.tar'\n",
    "# Load the model\n",
    "srgan2x = load_model(exp_dir, srgan2x, gan_path).to(args.device)\n",
    "metric_eval_gan(test_loader, srgan2x, exp_dir, args)"
   ]
  },
  {
   "cell_type": "code",
   "execution_count": 92,
   "id": "8fc75cc2-9686-48e8-90c2-096174bf910a",
   "metadata": {},
   "outputs": [
    {
     "name": "stdout",
     "output_type": "stream",
     "text": [
      "Loading ERA5 TCW ...\n",
      "Model loaded successfully.\n",
      "Current RMSE - mu0: 0.7338263988494873, mu05: 0.7398586273193359, mu08: 0.7587447166442871, mu1: 0.777892529964447\n",
      "Current MAE - mu0: 0.446969211101532, mu05: 0.4507952630519867, mu08: 0.4637916684150696, mu1: 0.4810130298137665\n",
      "Current RMSE - mu0: 0.9192687273025513, mu05: 0.924476146697998, mu08: 0.9367569088935852, mu1: 0.9539824724197388\n",
      "Current MAE - mu0: 0.5594886541366577, mu05: 0.5634498596191406, mu08: 0.5734217166900635, mu1: 0.5872389078140259\n",
      "Current RMSE - mu0: 0.7814721465110779, mu05: 0.7875902056694031, mu08: 0.8047618269920349, mu1: 0.8229349851608276\n",
      "Current MAE - mu0: 0.47751161456108093, mu05: 0.4818885922431946, mu08: 0.49502676725387573, mu1: 0.5092750787734985\n",
      "{'rmse0': 0.8115224, 'mse0': 0.86444336, 'mae0': 0.49465647, 'rmse05': 0.81730837, 'mse05': 0.87228394, 'mae05': 0.49871126, 'rmse08': 0.8334212, 'mse08': 0.89187956, 'mae08': 0.5107467, 'rmse1': 0.8516033, 'mse1': 0.9152675, 'mae1': 0.52584237, 'crps0': 0.24559386, 'crps05': 0.25030568, 'crps08': 0.25956845, 'crps1': 0.27146026}\n"
     ]
    },
    {
     "data": {
      "text/plain": [
       "{'rmse0': 0.8115224,\n",
       " 'mse0': 0.86444336,\n",
       " 'mae0': 0.49465647,\n",
       " 'rmse05': 0.81730837,\n",
       " 'mse05': 0.87228394,\n",
       " 'mae05': 0.49871126,\n",
       " 'rmse08': 0.8334212,\n",
       " 'mse08': 0.89187956,\n",
       " 'mae08': 0.5107467,\n",
       " 'rmse1': 0.8516033,\n",
       " 'mse1': 0.9152675,\n",
       " 'mae1': 0.52584237,\n",
       " 'crps0': 0.24559386,\n",
       " 'crps05': 0.25030568,\n",
       " 'crps08': 0.25956845,\n",
       " 'crps1': 0.27146026}"
      ]
     },
     "execution_count": 92,
     "metadata": {},
     "output_type": "execute_result"
    }
   ],
   "source": [
    "args.s = 4\n",
    "train_loader, val_loader, test_loader, args = dataloading.load_data(args)\n",
    "in_channels = next(iter(test_loader))[0].shape[1]\n",
    "height, width = next(iter(test_loader))[0].shape[2], next(iter(test_loader))[0].shape[3]\n",
    "srgan4x = srgan.Generator(in_channels, out_nc=1, height=height, width=width, nf=128, s=args.s, nb=1)\n",
    "exp_dir = 'runs/SRGANruns/srgan_era5-TCW_None__2024_07_13_14_29_33_4x/'\n",
    "gan_path = '/home/christina/Documents/clim-var-ds-cnf-own/runs/SRGANruns/srgan_era5-TCW_None__2024_07_13_14_29_33_4x/model_checkpoints/generator_epoch_11_step_28250.tar'\n",
    "# Load the model\n",
    "srgan4x = load_model(exp_dir, srgan4x, gan_path).to(args.device)\n",
    "metric_eval_gan(test_loader, srgan4x, exp_dir, args)"
   ]
  },
  {
   "cell_type": "code",
   "execution_count": 93,
   "id": "fd0db310-8f71-4c37-b060-3880fa8d8844",
   "metadata": {},
   "outputs": [
    {
     "name": "stdout",
     "output_type": "stream",
     "text": [
      "Loading ERA5 TCW ...\n",
      "Model loaded successfully.\n",
      "Current RMSE - mu0: 1.410731315612793, mu05: 1.4458110332489014, mu08: 1.5120079517364502, mu1: 1.5991230010986328\n",
      "Current MAE - mu0: 0.913824200630188, mu05: 0.9370038509368896, mu08: 0.981981635093689, mu1: 1.0293774604797363\n",
      "Current RMSE - mu0: 1.7806434631347656, mu05: 1.7995271682739258, mu08: 1.8555786609649658, mu1: 1.887093424797058\n",
      "Current MAE - mu0: 1.168839454650879, mu05: 1.1808850765228271, mu08: 1.213746190071106, mu1: 1.2455253601074219\n",
      "Current RMSE - mu0: 1.4909443855285645, mu05: 1.528975248336792, mu08: 1.5871379375457764, mu1: 1.6607849597930908\n",
      "Current MAE - mu0: 0.9728440642356873, mu05: 0.99462890625, mu08: 1.034603476524353, mu1: 1.0830531120300293\n",
      "{'rmse0': 1.560773, 'mse0': 2.956913, 'mae0': 1.0185026, 'rmse05': 1.5914378, 'mse05': 3.0359204, 'mae05': 1.037506, 'rmse08': 1.6515747, 'mse08': 3.1983001, 'mae08': 1.0767771, 'rmse1': 1.7156671, 'mse1': 3.3827927, 'mae1': 1.1193186, 'crps0': 0.49616468, 'crps05': 0.505349, 'crps08': 0.5288534, 'crps1': 0.5538419}\n"
     ]
    },
    {
     "data": {
      "text/plain": [
       "{'rmse0': 1.560773,\n",
       " 'mse0': 2.956913,\n",
       " 'mae0': 1.0185026,\n",
       " 'rmse05': 1.5914378,\n",
       " 'mse05': 3.0359204,\n",
       " 'mae05': 1.037506,\n",
       " 'rmse08': 1.6515747,\n",
       " 'mse08': 3.1983001,\n",
       " 'mae08': 1.0767771,\n",
       " 'rmse1': 1.7156671,\n",
       " 'mse1': 3.3827927,\n",
       " 'mae1': 1.1193186,\n",
       " 'crps0': 0.49616468,\n",
       " 'crps05': 0.505349,\n",
       " 'crps08': 0.5288534,\n",
       " 'crps1': 0.5538419}"
      ]
     },
     "execution_count": 93,
     "metadata": {},
     "output_type": "execute_result"
    }
   ],
   "source": [
    "args.s = 8\n",
    "train_loader, val_loader, test_loader, args = dataloading.load_data(args)\n",
    "in_channels = next(iter(test_loader))[0].shape[1]\n",
    "height, width = next(iter(test_loader))[0].shape[2], next(iter(test_loader))[0].shape[3]\n",
    "srgan8x = srgan.Generator(in_channels, out_nc=1, height=height, width=width, nf=128, s=args.s, nb=1)\n",
    "exp_dir = 'runs/SRGANruns/srgan_era5-TCW_None__2024_07_13_14_29_38_8x/'\n",
    "gan_path = '/home/christina/Documents/clim-var-ds-cnf-own/runs/SRGANruns/srgan_era5-TCW_None__2024_07_13_14_29_38_8x/model_checkpoints/generator_epoch_11_step_30000.tar'\n",
    "# Load the model\n",
    "srgan8x = load_model(exp_dir, srgan8x, gan_path).to(args.device)\n",
    "metric_eval_gan(test_loader, srgan8x, exp_dir, args)"
   ]
  },
  {
   "cell_type": "code",
   "execution_count": 94,
   "id": "45910044-096c-4fa4-8466-3b3ea6f2cc0a",
   "metadata": {},
   "outputs": [
    {
     "name": "stdout",
     "output_type": "stream",
     "text": [
      "Loading ERA5 TCW ...\n",
      "Model loaded successfully.\n",
      "Current RMSE - mu0: 2.1359100341796875, mu05: 2.1393063068389893, mu08: 2.1428451538085938, mu1: 2.1576788425445557\n",
      "Current MAE - mu0: 1.4943206310272217, mu05: 1.4971261024475098, mu08: 1.4999451637268066, mu1: 1.5148606300354004\n",
      "Current RMSE - mu0: 2.81673526763916, mu05: 2.8172407150268555, mu08: 2.8217549324035645, mu1: 2.823082447052002\n",
      "Current MAE - mu0: 1.9477269649505615, mu05: 1.9482349157333374, mu08: 1.9527755975723267, mu1: 1.9545542001724243\n",
      "Current RMSE - mu0: 2.197573661804199, mu05: 2.2010083198547363, mu08: 2.212495803833008, mu1: 2.2246718406677246\n",
      "Current MAE - mu0: 1.5478706359863281, mu05: 1.5514025688171387, mu08: 1.5587632656097412, mu1: 1.5706472396850586\n",
      "{'rmse0': 2.3834064, 'mse0': 6.884238, 'mae0': 1.6633061, 'rmse05': 2.3858516, 'mse05': 6.891504, 'mae05': 1.6655879, 'rmse08': 2.3923652, 'mse08': 6.9139276, 'mae08': 1.6704947, 'rmse1': 2.4018111, 'mse1': 6.9380417, 'mae1': 1.6800207, 'crps0': 0.8809101, 'crps05': 0.87483007, 'crps08': 0.8740557, 'crps1': 0.86938554}\n"
     ]
    },
    {
     "data": {
      "text/plain": [
       "{'rmse0': 2.3834064,\n",
       " 'mse0': 6.884238,\n",
       " 'mae0': 1.6633061,\n",
       " 'rmse05': 2.3858516,\n",
       " 'mse05': 6.891504,\n",
       " 'mae05': 1.6655879,\n",
       " 'rmse08': 2.3923652,\n",
       " 'mse08': 6.9139276,\n",
       " 'mae08': 1.6704947,\n",
       " 'rmse1': 2.4018111,\n",
       " 'mse1': 6.9380417,\n",
       " 'mae1': 1.6800207,\n",
       " 'crps0': 0.8809101,\n",
       " 'crps05': 0.87483007,\n",
       " 'crps08': 0.8740557,\n",
       " 'crps1': 0.86938554}"
      ]
     },
     "execution_count": 94,
     "metadata": {},
     "output_type": "execute_result"
    }
   ],
   "source": [
    "args.s = 16\n",
    "train_loader, val_loader, test_loader, args = dataloading.load_data(args)\n",
    "in_channels = next(iter(test_loader))[0].shape[1]\n",
    "height, width = next(iter(test_loader))[0].shape[2], next(iter(test_loader))[0].shape[3]\n",
    "srgan16x = srgan.Generator(in_channels, out_nc=1, height=height, width=width, nf=128, s=args.s, nb=1)\n",
    "\n",
    "exp_dir = 'runs/SRGANruns/srgan_era5-TCW_None__2024_07_20_14_56_31_16x/'\n",
    "gan_path = '/home/christina/Documents/clim-var-ds-cnf-own/runs/SRGANruns/srgan_era5-TCW_None__2024_07_20_14_56_31_16x/model_checkpoints/generator_epoch_13_step_34250.tar'\n",
    "\n",
    "# Load the model\n",
    "srgan16x = load_model(exp_dir, srgan16x, gan_path).to(args.device)\n",
    "metric_eval_gan(test_loader, srgan16x, exp_dir, args)"
   ]
  },
  {
   "cell_type": "code",
   "execution_count": null,
   "id": "07b2c4ec-d39d-45ed-beae-d65a3666d29b",
   "metadata": {},
   "outputs": [],
   "source": []
  },
  {
   "cell_type": "code",
   "execution_count": null,
   "id": "b3c9fc02-1ed2-4c23-a9b1-9cdf2cc1143a",
   "metadata": {},
   "outputs": [],
   "source": []
  },
  {
   "cell_type": "code",
   "execution_count": null,
   "id": "92f0cc4b-3d76-48ba-a86d-4d18706e6750",
   "metadata": {},
   "outputs": [],
   "source": []
  },
  {
   "cell_type": "code",
   "execution_count": null,
   "id": "3f1691f5-b543-444e-9204-cde4cebe7737",
   "metadata": {},
   "outputs": [],
   "source": []
  },
  {
   "cell_type": "code",
   "execution_count": 10,
   "id": "25a48072-d21e-4428-b9d3-391ea4a32304",
   "metadata": {},
   "outputs": [],
   "source": [
    "def plot_std(model):\n",
    "    \"\"\"\n",
    "    For this experiment we visualize the super-resolution space for a single\n",
    "    low-resolution image and its possible HR target predictions. We visualize\n",
    "    the standard deviation of these predictions from the mean of the model.\n",
    "    \"\"\"\n",
    "    color = 'plasma'\n",
    "    savedir_viz = \"experiments/{}_{}_{}/snapshots/population_std/\".format(exp_name, modelname, args.trainset)\n",
    "    os.makedirs(savedir_viz, exist_ok=True)\n",
    "    model.eval()\n",
    "    cmap = 'viridis' if args.trainset == 'era5-TCW' else 'inferno'\n",
    "    with torch.no_grad():\n",
    "        for batch_idx, item in enumerate(test_loader):\n",
    "\n",
    "            y = item[0].to(args.device)\n",
    "            x = item[1].to(args.device)\n",
    "\n",
    "            y_unorm = item[2].to(args.device)\n",
    "            x_unnorm = item[3].to(args.device)\n",
    "\n",
    "            mu0 = model(x)\n",
    "\n",
    "            samples = []\n",
    "            n = 20\n",
    "            sq_diff = torch.zeros_like(mu0)\n",
    "            for n in range(n):\n",
    "                mu1 = model(x)\n",
    "                samples.append(mu0)\n",
    "                sq_diff += (mu1 - mu0)**2\n",
    "\n",
    "            # compute population standard deviation\n",
    "            sigma = torch.sqrt(sq_diff / n)\n",
    "\n",
    "            # create plot\n",
    "            plt.figure()\n",
    "            plt.imshow(sigma[0,...].permute(1,2,0).cpu().numpy(), cmap=color)\n",
    "            plt.axis('off')\n",
    "            # plt.show()\n",
    "            plt.savefig(savedir_viz + '/sigma_{}.png'.format(batch_idx), dpi=300, bbox_inches='tight')\n",
    "            plt.close()\n",
    "\n",
    "            plt.figure()\n",
    "            plt.imshow(mu0[0,...].permute(1,2,0).cpu().numpy(), cmap=cmap)\n",
    "            plt.axis('off')\n",
    "            # plt.show()\n",
    "            plt.savefig(savedir_viz + '/mu0_{}.png'.format(batch_idx), dpi=300, bbox_inches='tight')\n",
    "            plt.close()\n",
    "\n",
    "            fig, (ax1, ax3, ax4, ax5, ax6, ax7) = plt.subplots(1,6)\n",
    "            # fig.suptitle('Y, Y_hat, mu, sigma')\n",
    "            ax1.imshow(y[0,...].permute(1,2,0).cpu().numpy(), cmap=cmap)\n",
    "            divider = make_axes_locatable(ax1)\n",
    "            cax = divider.append_axes(\"right\", size=\"5%\", pad=0.05)\n",
    "            cax.set_axis_off()\n",
    "            ax1.set_title('Ground Truth', fontsize=5)\n",
    "            ax1.axis('off')\n",
    "            # ax2.imshow(mu0[0,...].permute(1,2,0).cpu().numpy(), cmap=cmap)\n",
    "            # divider = make_axes_locatable(ax2)\n",
    "            # cax = divider.append_axes(\"right\", size=\"5%\", pad=0.05)\n",
    "            # cax.set_axis_off()\n",
    "            # ax2.set_title('Mean', fontsize=5)\n",
    "            # ax2.axis('off')\n",
    "            ax3.imshow(samples[1][0,...].permute(1,2,0).cpu().numpy(), cmap=cmap)\n",
    "            divider = make_axes_locatable(ax3)\n",
    "            cax = divider.append_axes(\"right\", size=\"5%\", pad=0.05)\n",
    "            cax.set_axis_off()\n",
    "            ax3.set_title('Sample 1', fontsize=5)\n",
    "            ax3.axis('off')\n",
    "            ax4.imshow(samples[2][0,...].permute(1,2,0).cpu().numpy(), cmap=cmap)\n",
    "            divider = make_axes_locatable(ax4)\n",
    "            cax = divider.append_axes(\"right\", size=\"5%\", pad=0.05)\n",
    "            cax.set_axis_off()\n",
    "            ax4.set_title('Sample 2', fontsize=5)\n",
    "            ax4.axis('off')\n",
    "            ax5.imshow(samples[2][0,...].permute(1,2,0).cpu().numpy(), cmap=cmap)\n",
    "            divider = make_axes_locatable(ax5)\n",
    "            cax = divider.append_axes(\"right\", size=\"5%\", pad=0.05)\n",
    "            cax.set_axis_off()\n",
    "            ax5.set_title('Sample 3', fontsize=5)\n",
    "            ax5.axis('off')\n",
    "            ax6.imshow(samples[2][0,...].permute(1,2,0).cpu().numpy(), cmap=cmap)\n",
    "            divider = make_axes_locatable(ax6)\n",
    "            cax = divider.append_axes(\"right\", size=\"5%\", pad=0.05)\n",
    "            cax.set_axis_off()\n",
    "            ax6.set_title('Sample 4', fontsize=5)\n",
    "            ax6.axis('off')\n",
    "            divider = make_axes_locatable(ax7)\n",
    "            cax = divider.append_axes(\"right\", size=\"5%\", pad=0.05)\n",
    "            im7 = ax7.imshow(sigma[0,...].permute(1,2,0).cpu().numpy(), cmap='magma')\n",
    "            cbar = fig.colorbar(im7,cmap='magma', cax=cax)\n",
    "            cbar.ax.tick_params(labelsize=5)\n",
    "            ax7.set_title('Std. Dev.', fontsize=5)\n",
    "            ax7.axis('off')\n",
    "            plt.tight_layout()\n",
    "            plt.savefig(savedir_viz + '/std_multiplot_{}.png'.format(batch_idx), dpi=300, bbox_inches='tight')\n",
    "            # plt.show()\n",
    "            plt.close()\n",
    "\n",
    "    return None"
   ]
  },
  {
   "cell_type": "code",
   "execution_count": null,
   "id": "41d94cf2-be70-45b4-89bf-9c06d2fcea3e",
   "metadata": {},
   "outputs": [],
   "source": []
  },
  {
   "cell_type": "code",
   "execution_count": null,
   "id": "cb177aea-61e3-4ab7-8174-bb8fa402a398",
   "metadata": {},
   "outputs": [],
   "source": []
  },
  {
   "cell_type": "code",
   "execution_count": null,
   "id": "f8b22e9e-7ce6-4c74-a3ac-81fc674e883f",
   "metadata": {},
   "outputs": [],
   "source": []
  },
  {
   "cell_type": "code",
   "execution_count": null,
   "id": "264f30ab-bb5c-4557-9df9-718fdae3fd54",
   "metadata": {},
   "outputs": [],
   "source": []
  },
  {
   "cell_type": "code",
   "execution_count": null,
   "id": "c5d985bf-522e-4548-ba2d-69b4332e988c",
   "metadata": {},
   "outputs": [],
   "source": [
    "# especially focus on analyzing extreme value predictions"
   ]
  },
  {
   "cell_type": "code",
   "execution_count": null,
   "id": "7e8ab0b0-40db-4250-87aa-eca4e1baa5a0",
   "metadata": {},
   "outputs": [],
   "source": []
  },
  {
   "cell_type": "markdown",
   "id": "99064919-f20b-41f1-aefc-51d7ac0a4725",
   "metadata": {},
   "source": [
    "### Scatter Plot (Predicted vs Target)\n",
    "![image.png](attachment:image.png)"
   ]
  },
  {
   "cell_type": "markdown",
   "id": "5e7d44f7-7c96-40d1-8486-a50ab42e2946",
   "metadata": {},
   "source": [
    "### Cumulative Distribution of  Residual Errors\n",
    "![image.png](attachment:image.png)"
   ]
  },
  {
   "cell_type": "markdown",
   "id": "9fe4910b-9bf2-48bb-846d-ad2ec5cdbc0a",
   "metadata": {},
   "source": [
    "### Experiments: Constraint placement\n",
    "Comparing model with no constraint vs. multiplicative constraint at output layer"
   ]
  },
  {
   "cell_type": "markdown",
   "id": "9347584c-ab9d-438c-9fab-df805258236c",
   "metadata": {},
   "source": [
    "### Load CNF with constraints 4x"
   ]
  },
  {
   "cell_type": "code",
   "execution_count": null,
   "id": "d1deda00-919a-4bf8-9aba-24c58aaf084b",
   "metadata": {},
   "outputs": [],
   "source": [
    "cnf_4x_add = srflow.SRFlow((in_channels, height, width), args.filter_size, args.L, args.K, args.bsz, 4, 'add', args.nb, args.condch, args.noscale, args.noscaletest)\n",
    "cnf_4x_mult = srflow.SRFlow((in_channels, height, width), args.filter_size, args.L, args.K, args.bsz, 4, 'mult', args.nb, args.condch, args.noscale, args.noscaletest)\n",
    "cnf_4x_scadd = srflow.SRFlow((in_channels, height, width), args.filter_size, args.L, args.K, args.bsz, 4, 'scadd', args.nb, args.condch, args.noscale, args.noscaletest)\n",
    "cnf_4x_softmax = srflow.SRFlow((in_channels, height, width), args.filter_size, args.L, args.K, args.bsz, 4, 'softmax', args.nb, args.condch, args.noscale, args.noscaletest)"
   ]
  },
  {
   "cell_type": "code",
   "execution_count": null,
   "id": "2bcd5591-1151-40f9-a8d5-02923a8a0324",
   "metadata": {},
   "outputs": [],
   "source": [
    "# load vanilla conditional flow 4x\n",
    "exp_dir_add_4x = 'runs/srflow_era5-TCW_None_2024_06_22_09_00_21_4x/'\n",
    "exp_dir_mult_4x = 'runs/srflow_era5-TCW_None_2024_06_22_09_00_21_4x/'\n",
    "exp_dir_scadd_4x = 'runs/srflow_era5-TCW_None_2024_06_22_09_00_21_4x/'\n",
    "exp_dir_softmax_4x = 'runs/srflow_era5-TCW_None_2024_06_22_09_00_21_4x/'\n",
    "\n",
    "cnf_4x_add_path = '/home/christina/Documents/clim-var-ds-cnf-own/runs/srflow_era5-TCW_None_2024_06_22_09_00_21_4x/model_checkpoints/model_epoch_0_step_2000.tar'\n",
    "cnf_4x_mult_path = '/home/christina/Documents/clim-var-ds-cnf-own/runs/srflow_era5-TCW_None_2024_06_22_09_00_21_4x/model_checkpoints/model_epoch_0_step_2000.tar'\n",
    "cnf_4x_scadd_path = '/home/christina/Documents/clim-var-ds-cnf-own/runs/srflow_era5-TCW_None_2024_06_22_09_00_21_4x/model_checkpoints/model_epoch_0_step_2000.tar'\n",
    "cnf_4x_softmax_path = '/home/christina/Documents/clim-var-ds-cnf-own/runs/srflow_era5-TCW_None_2024_06_22_09_00_21_4x/model_checkpoints/model_epoch_0_step_2000.tar'"
   ]
  },
  {
   "cell_type": "code",
   "execution_count": null,
   "id": "e927c773-49e9-4536-8063-4bcec81e24ab",
   "metadata": {},
   "outputs": [],
   "source": [
    "# 2x watercontent mul with constraint at the end \n",
    "modelname = 'model_epoch_0_step_1000'\n",
    "modelpath = '/home/mila/c/christina.winkler/clim-var-ds-cnf/runs/srflow_era5-TCW_mul_ constr_in_end__2024_06_03_17_35_33_2x/model_checkpoints/{}.tar'.format(modelname)\n",
    "\n",
    "model = srflow.SRFlow((in_channels, args.height, args.width), args.filter_size, args.L, args.K,\n",
    "                        args.bsz, args.s, 'mul', args.nb, args.condch, args.noscale, args.noscaletest)\n",
    "\n",
    "params = sum(x.numel() for x in model.parameters() if x.requires_grad)\n",
    "print('Nr of Trainable Params {}:  '.format(args.device), params)\n",
    "model = model.to(args.device)\n",
    "exp_name = \"flow-{}-level-{}-k--constraint-{}\".format(args.L, args.K, 'mul')\n",
    "print(exp_name)"
   ]
  },
  {
   "cell_type": "code",
   "execution_count": null,
   "id": "f61cfb41-ce31-4839-95ee-3022fcb39730",
   "metadata": {},
   "outputs": [],
   "source": [
    "ckpt = torch.load(modelpath, map_location='cuda:0')\n",
    "model.load_state_dict(ckpt['model_state_dict'])"
   ]
  },
  {
   "cell_type": "code",
   "execution_count": null,
   "id": "aa6755db-4ebb-440e-9fb6-6fe490faccdc",
   "metadata": {},
   "outputs": [],
   "source": []
  },
  {
   "cell_type": "code",
   "execution_count": null,
   "id": "11bd36fc-e406-48d9-ba9b-ec9b1e41a745",
   "metadata": {},
   "outputs": [],
   "source": []
  },
  {
   "cell_type": "markdown",
   "id": "e23aae61-a32b-41c6-b87e-530f158f5589",
   "metadata": {},
   "source": [
    "## Evaluate Power Spectrum"
   ]
  },
  {
   "cell_type": "code",
   "execution_count": 61,
   "id": "6301c39b-6fd5-4f46-8c61-8811143d1067",
   "metadata": {},
   "outputs": [],
   "source": [
    "import os\n",
    "import torch\n",
    "import numpy as np\n",
    "import matplotlib.pyplot as plt\n",
    "\n",
    "def compute_power_spectrum(image):\n",
    "    # Apply FFT\n",
    "    f_transform = np.fft.fft2(image)\n",
    "    f_transform_shifted = np.fft.fftshift(f_transform)\n",
    "\n",
    "    # Compute the power spectrum\n",
    "    power_spectrum = np.abs(f_transform_shifted) ** 2\n",
    "\n",
    "    # Use logarithmic scale for visualization\n",
    "    log_power_spectrum = np.log(1 + power_spectrum)\n",
    "    \n",
    "    return log_power_spectrum\n",
    "    \n",
    "def compute_radial_profile(power_spectrum):\n",
    "    # Get the dimensions of the image\n",
    "    rows, cols = power_spectrum.shape\n",
    "    center_row, center_col = rows // 2, cols // 2\n",
    "\n",
    "    # Create a grid of coordinates\n",
    "    Y, X = np.indices((rows, cols))\n",
    "    distances = np.sqrt((X - center_col) ** 2 + (Y - center_row) ** 2)\n",
    "\n",
    "    # Create radial bins\n",
    "    max_radius = np.max(distances)\n",
    "    bin_edges = np.arange(0, max_radius + 1)\n",
    "    radial_sum = np.zeros(bin_edges.size)\n",
    "    radial_count = np.zeros(bin_edges.size)\n",
    "\n",
    "    for i in range(rows):\n",
    "        for j in range(cols):\n",
    "            radius = int(distances[i, j])\n",
    "            radial_sum[radius] += power_spectrum[i, j]\n",
    "            radial_count[radius] += 1\n",
    "\n",
    "    radial_mean = radial_sum / (radial_count + 1e-10)  # Avoid division by zero\n",
    "    return radial_mean\n",
    "\n",
    "def save_radial_profile(radial_profile, file_path):\n",
    "    \"\"\"Save the radial profile to a file.\"\"\"\n",
    "    np.savetxt(file_path, radial_profile)\n",
    "    \n",
    "def process_images(model, dataloader, output_dir, device, args, modeltype):\n",
    "    model.eval()\n",
    "    \n",
    "    # Ensure output directory exists\n",
    "    if not os.path.exists(output_dir):\n",
    "        os.makedirs(output_dir)\n",
    "    \n",
    "    with torch.no_grad():\n",
    "        for batch_idx, item in enumerate(dataloader):\n",
    "            \n",
    "            y = item[0].to(device)\n",
    "            x = item[1].to(device)\n",
    "            \n",
    "            y_unorm = item[2].to(device)\n",
    "            x_unorm = item[3].to(device)\n",
    "\n",
    "            if modeltype == 'srflow':\n",
    "                # Forward pass\n",
    "                z, _ = model.forward(x_hr=y, xlr=x)\n",
    "                mu0, _, _ = model(xlr=x, reverse=True, eps=0)\n",
    "                mu0_denorm = inv_min_max_scaler(mu0, y_unorm)\n",
    "                \n",
    "            elif modeltype == 'srgan':\n",
    "                mu0 = model(x, eps=0)\n",
    "                mu0_denorm = inv_min_max_scaler(mu0, y_unorm)            \n",
    "\n",
    "            # Compute power spectrum of model output\n",
    "            mu0_np = mu0_denorm.cpu().numpy()\n",
    "            power_spectrum_model = compute_power_spectrum(mu0_np[0, 0])  # Assuming single-channel image\n",
    "            radial_profile_model = compute_radial_profile(power_spectrum_model)\n",
    "\n",
    "            # Compute power spectrum of ground truth\n",
    "            y_np = y_unorm.cpu().numpy()\n",
    "            power_spectrum_gt = compute_power_spectrum(y_np[0, 0])  # Assuming single-channel image\n",
    "            radial_profile_gt = compute_radial_profile(power_spectrum_gt)\n",
    "\n",
    "            # Save the radial profiles to files\n",
    "            model_profile_path = os.path.join(output_dir, f'radial_profile_model_{batch_idx}.txt')\n",
    "            ground_truth_profile_path = os.path.join(output_dir, f'radial_profile_gt_{batch_idx}.txt')\n",
    "            save_radial_profile(radial_profile_model, model_profile_path)\n",
    "            save_radial_profile(radial_profile_gt, ground_truth_profile_path)\n",
    "\n",
    "            # Plot and save the radial profiles\n",
    "            output_path = os.path.join(output_dir, f'power_spectrum_comparison_{batch_idx}.png')\n",
    "            plt.figure()\n",
    "            plt.plot(np.arange(len(radial_profile_model)), radial_profile_model, color='royalblue', label='Model Output')\n",
    "            plt.plot(np.arange(len(radial_profile_gt)), radial_profile_gt, color='darkorange', label='Ground Truth')\n",
    "            plt.xlabel('Spatial Frequency (k)')\n",
    "            plt.ylabel('Log Power Spectrum')\n",
    "            plt.title(f'Power Spectrum Comparison - upsampling factor {args.s}x')\n",
    "            plt.legend()\n",
    "            plt.grid(True)\n",
    "            plt.savefig(output_path, bbox_inches='tight')\n",
    "            plt.close()\n",
    "\n",
    "            print(f'Processed and saved: {output_path}')\n",
    "\n",
    "            if batch_idx == 5:\n",
    "                break\n"
   ]
  },
  {
   "cell_type": "markdown",
   "id": "f7fd29c7-b2c2-41bf-8956-88fdd43c9840",
   "metadata": {},
   "source": [
    "#### SRFlow 2x"
   ]
  },
  {
   "cell_type": "code",
   "execution_count": 62,
   "id": "9c37acd4-f0b9-48f4-9d46-a40308adb801",
   "metadata": {},
   "outputs": [
    {
     "name": "stdout",
     "output_type": "stream",
     "text": [
      "Loading ERA5 TCW ...\n",
      "Model loaded successfully.\n",
      "Processed and saved: radial_power_spectra/srflow/2x/denorm/power_spectrum_comparison_0.png\n",
      "Processed and saved: radial_power_spectra/srflow/2x/denorm/power_spectrum_comparison_1.png\n",
      "Processed and saved: radial_power_spectra/srflow/2x/denorm/power_spectrum_comparison_2.png\n",
      "Processed and saved: radial_power_spectra/srflow/2x/denorm/power_spectrum_comparison_3.png\n",
      "Processed and saved: radial_power_spectra/srflow/2x/denorm/power_spectrum_comparison_4.png\n",
      "Processed and saved: radial_power_spectra/srflow/2x/denorm/power_spectrum_comparison_5.png\n"
     ]
    }
   ],
   "source": [
    "args.s = 2\n",
    "args.bsz = 64\n",
    "train_loader, val_loader, test_loader, args = dataloading.load_data(args)\n",
    "in_channels = next(iter(test_loader))[0].shape[1]\n",
    "height, width = next(iter(test_loader))[0].shape[2], next(iter(test_loader))[0].shape[3]\n",
    "cnf2x = srflow.SRFlow((in_channels, height, width), args.filter_size, args.L, args.K, args.bsz, 2, args.constraint, args.nb, args.condch, args.noscale, args.noscaletest)\n",
    "exp_dir = 'runs/srflow_era5-TCW_None_2024_06_29_13_26_09_2x/'\n",
    "cnf_path = '/home/christina/Documents/clim-var-ds-cnf-own/runs/srflow_era5-TCW_None_2024_06_29_13_26_09_2x/model_checkpoints/model_epoch_8_step_21500.tar'\n",
    "# Load the model\n",
    "cnf2x = load_model(exp_dir, cnf2x, cnf_path).to(args.device)\n",
    "process_images(cnf2x, test_loader, 'radial_power_spectra/srflow/2x/denorm/', args.device, args, modeltype='srflow')"
   ]
  },
  {
   "cell_type": "markdown",
   "id": "e34ace78-0c68-452e-8c8e-9012e9559815",
   "metadata": {},
   "source": [
    "#### SRGAN 2x"
   ]
  },
  {
   "cell_type": "code",
   "execution_count": 63,
   "id": "1bd37191-3c11-415c-aca1-f8c12e7c59b3",
   "metadata": {},
   "outputs": [
    {
     "name": "stdout",
     "output_type": "stream",
     "text": [
      "Loading ERA5 TCW ...\n",
      "Model loaded successfully.\n"
     ]
    },
    {
     "name": "stderr",
     "output_type": "stream",
     "text": [
      "/home/christina/anaconda3/lib/python3.7/site-packages/torch/nn/functional.py:3635: UserWarning: Default upsampling behavior when mode=bicubic is changed to align_corners=False since 0.4.0. Please specify align_corners=True if the old behavior is desired. See the documentation of nn.Upsample for details.\n",
      "  \"See the documentation of nn.Upsample for details.\".format(mode)\n"
     ]
    },
    {
     "name": "stdout",
     "output_type": "stream",
     "text": [
      "Processed and saved: radial_power_spectra/srgan/2x/denorm/power_spectrum_comparison_0.png\n"
     ]
    },
    {
     "name": "stderr",
     "output_type": "stream",
     "text": [
      "/home/christina/anaconda3/lib/python3.7/site-packages/torch/nn/functional.py:3635: UserWarning: Default upsampling behavior when mode=bicubic is changed to align_corners=False since 0.4.0. Please specify align_corners=True if the old behavior is desired. See the documentation of nn.Upsample for details.\n",
      "  \"See the documentation of nn.Upsample for details.\".format(mode)\n"
     ]
    },
    {
     "name": "stdout",
     "output_type": "stream",
     "text": [
      "Processed and saved: radial_power_spectra/srgan/2x/denorm/power_spectrum_comparison_1.png\n"
     ]
    },
    {
     "name": "stderr",
     "output_type": "stream",
     "text": [
      "/home/christina/anaconda3/lib/python3.7/site-packages/torch/nn/functional.py:3635: UserWarning: Default upsampling behavior when mode=bicubic is changed to align_corners=False since 0.4.0. Please specify align_corners=True if the old behavior is desired. See the documentation of nn.Upsample for details.\n",
      "  \"See the documentation of nn.Upsample for details.\".format(mode)\n"
     ]
    },
    {
     "name": "stdout",
     "output_type": "stream",
     "text": [
      "Processed and saved: radial_power_spectra/srgan/2x/denorm/power_spectrum_comparison_2.png\n"
     ]
    },
    {
     "name": "stderr",
     "output_type": "stream",
     "text": [
      "/home/christina/anaconda3/lib/python3.7/site-packages/torch/nn/functional.py:3635: UserWarning: Default upsampling behavior when mode=bicubic is changed to align_corners=False since 0.4.0. Please specify align_corners=True if the old behavior is desired. See the documentation of nn.Upsample for details.\n",
      "  \"See the documentation of nn.Upsample for details.\".format(mode)\n"
     ]
    },
    {
     "name": "stdout",
     "output_type": "stream",
     "text": [
      "Processed and saved: radial_power_spectra/srgan/2x/denorm/power_spectrum_comparison_3.png\n"
     ]
    },
    {
     "name": "stderr",
     "output_type": "stream",
     "text": [
      "/home/christina/anaconda3/lib/python3.7/site-packages/torch/nn/functional.py:3635: UserWarning: Default upsampling behavior when mode=bicubic is changed to align_corners=False since 0.4.0. Please specify align_corners=True if the old behavior is desired. See the documentation of nn.Upsample for details.\n",
      "  \"See the documentation of nn.Upsample for details.\".format(mode)\n"
     ]
    },
    {
     "name": "stdout",
     "output_type": "stream",
     "text": [
      "Processed and saved: radial_power_spectra/srgan/2x/denorm/power_spectrum_comparison_4.png\n"
     ]
    },
    {
     "name": "stderr",
     "output_type": "stream",
     "text": [
      "/home/christina/anaconda3/lib/python3.7/site-packages/torch/nn/functional.py:3635: UserWarning: Default upsampling behavior when mode=bicubic is changed to align_corners=False since 0.4.0. Please specify align_corners=True if the old behavior is desired. See the documentation of nn.Upsample for details.\n",
      "  \"See the documentation of nn.Upsample for details.\".format(mode)\n"
     ]
    },
    {
     "name": "stdout",
     "output_type": "stream",
     "text": [
      "Processed and saved: radial_power_spectra/srgan/2x/denorm/power_spectrum_comparison_5.png\n"
     ]
    }
   ],
   "source": [
    "args.s = 2\n",
    "args.bsz = 64\n",
    "train_loader, val_loader, test_loader, args = dataloading.load_data(args)\n",
    "in_channels = next(iter(test_loader))[0].shape[1]\n",
    "height, width = next(iter(test_loader))[0].shape[2], next(iter(test_loader))[0].shape[3]\n",
    "srgan2x = srgan.Generator(in_channels, out_nc=1, height=height, width=width, nf=128, s=args.s, nb=1)\n",
    "exp_dir = 'runs/SRGANruns/srgan_era5-TCW_None__2024_07_13_14_29_28_2x/'\n",
    "gan_path = '/home/christina/Documents/clim-var-ds-cnf-own/runs/SRGANruns/srgan_era5-TCW_None__2024_07_13_14_29_28_2x/model_checkpoints/generator_epoch_13_step_34000.tar'\n",
    "# Load the model\n",
    "srgan2x = load_model(exp_dir, srgan2x, gan_path).to(args.device)\n",
    "process_images(srgan2x, test_loader, 'radial_power_spectra/srgan/2x/denorm/', args.device, args, modeltype='srgan')"
   ]
  },
  {
   "cell_type": "markdown",
   "id": "c63e68b3-74c8-4b8f-abdf-4ec500d73703",
   "metadata": {},
   "source": [
    "### SRFlow 4x"
   ]
  },
  {
   "cell_type": "code",
   "execution_count": 55,
   "id": "6e5db06f-e11f-4928-8a73-0784f9495635",
   "metadata": {},
   "outputs": [
    {
     "name": "stdout",
     "output_type": "stream",
     "text": [
      "Loading ERA5 TCW ...\n",
      "Model loaded successfully.\n",
      "Processed and saved: radial_power_spectra/srflow/4x/power_spectrum_comparison_0.png\n",
      "Processed and saved: radial_power_spectra/srflow/4x/power_spectrum_comparison_1.png\n",
      "Processed and saved: radial_power_spectra/srflow/4x/power_spectrum_comparison_2.png\n",
      "Processed and saved: radial_power_spectra/srflow/4x/power_spectrum_comparison_3.png\n",
      "Processed and saved: radial_power_spectra/srflow/4x/power_spectrum_comparison_4.png\n",
      "Processed and saved: radial_power_spectra/srflow/4x/power_spectrum_comparison_5.png\n"
     ]
    }
   ],
   "source": [
    "args.s = 4\n",
    "args.bsz = 64\n",
    "train_loader, val_loader, test_loader, args = dataloading.load_data(args)\n",
    "in_channels = next(iter(test_loader))[0].shape[1]\n",
    "height, width = next(iter(test_loader))[0].shape[2], next(iter(test_loader))[0].shape[3]\n",
    "cnf4x = srflow.SRFlow((in_channels, height, width), args.filter_size, args.L, args.K, args.bsz, 4, args.constraint, args.nb, args.condch, args.noscale, args.noscaletest)\n",
    "exp_dir = 'runs/srflow_era5-TCW_None_2024_06_29_13_26_13_4x/'\n",
    "cnf_path = '/home/christina/Documents/clim-var-ds-cnf-own/runs/srflow_era5-TCW_None_2024_06_29_13_26_13_4x/model_checkpoints/model_epoch_10_step_26250.tar'\n",
    "# Load the model\n",
    "cnf4x = load_model(exp_dir, cnf4x, cnf_path).to(args.device)\n",
    "process_images(cnf4x, test_loader, 'radial_power_spectra/srflow/4x/', args.device, args, modeltype='srflow')"
   ]
  },
  {
   "cell_type": "markdown",
   "id": "fefbf45e-7cc1-4a40-a7aa-e31a62d6c636",
   "metadata": {},
   "source": [
    "### SRGAN 4x"
   ]
  },
  {
   "cell_type": "code",
   "execution_count": 64,
   "id": "9f338f64-992a-454f-a76d-ae4435b167ed",
   "metadata": {},
   "outputs": [
    {
     "name": "stdout",
     "output_type": "stream",
     "text": [
      "Loading ERA5 TCW ...\n",
      "Model loaded successfully.\n"
     ]
    },
    {
     "name": "stderr",
     "output_type": "stream",
     "text": [
      "/home/christina/anaconda3/lib/python3.7/site-packages/torch/nn/functional.py:3635: UserWarning: Default upsampling behavior when mode=bicubic is changed to align_corners=False since 0.4.0. Please specify align_corners=True if the old behavior is desired. See the documentation of nn.Upsample for details.\n",
      "  \"See the documentation of nn.Upsample for details.\".format(mode)\n"
     ]
    },
    {
     "name": "stdout",
     "output_type": "stream",
     "text": [
      "Processed and saved: radial_power_spectra/srgan/4x/denorm/power_spectrum_comparison_0.png\n"
     ]
    },
    {
     "name": "stderr",
     "output_type": "stream",
     "text": [
      "/home/christina/anaconda3/lib/python3.7/site-packages/torch/nn/functional.py:3635: UserWarning: Default upsampling behavior when mode=bicubic is changed to align_corners=False since 0.4.0. Please specify align_corners=True if the old behavior is desired. See the documentation of nn.Upsample for details.\n",
      "  \"See the documentation of nn.Upsample for details.\".format(mode)\n"
     ]
    },
    {
     "name": "stdout",
     "output_type": "stream",
     "text": [
      "Processed and saved: radial_power_spectra/srgan/4x/denorm/power_spectrum_comparison_1.png\n"
     ]
    },
    {
     "name": "stderr",
     "output_type": "stream",
     "text": [
      "/home/christina/anaconda3/lib/python3.7/site-packages/torch/nn/functional.py:3635: UserWarning: Default upsampling behavior when mode=bicubic is changed to align_corners=False since 0.4.0. Please specify align_corners=True if the old behavior is desired. See the documentation of nn.Upsample for details.\n",
      "  \"See the documentation of nn.Upsample for details.\".format(mode)\n"
     ]
    },
    {
     "name": "stdout",
     "output_type": "stream",
     "text": [
      "Processed and saved: radial_power_spectra/srgan/4x/denorm/power_spectrum_comparison_2.png\n"
     ]
    },
    {
     "name": "stderr",
     "output_type": "stream",
     "text": [
      "/home/christina/anaconda3/lib/python3.7/site-packages/torch/nn/functional.py:3635: UserWarning: Default upsampling behavior when mode=bicubic is changed to align_corners=False since 0.4.0. Please specify align_corners=True if the old behavior is desired. See the documentation of nn.Upsample for details.\n",
      "  \"See the documentation of nn.Upsample for details.\".format(mode)\n"
     ]
    },
    {
     "name": "stdout",
     "output_type": "stream",
     "text": [
      "Processed and saved: radial_power_spectra/srgan/4x/denorm/power_spectrum_comparison_3.png\n"
     ]
    },
    {
     "name": "stderr",
     "output_type": "stream",
     "text": [
      "/home/christina/anaconda3/lib/python3.7/site-packages/torch/nn/functional.py:3635: UserWarning: Default upsampling behavior when mode=bicubic is changed to align_corners=False since 0.4.0. Please specify align_corners=True if the old behavior is desired. See the documentation of nn.Upsample for details.\n",
      "  \"See the documentation of nn.Upsample for details.\".format(mode)\n"
     ]
    },
    {
     "name": "stdout",
     "output_type": "stream",
     "text": [
      "Processed and saved: radial_power_spectra/srgan/4x/denorm/power_spectrum_comparison_4.png\n"
     ]
    },
    {
     "name": "stderr",
     "output_type": "stream",
     "text": [
      "/home/christina/anaconda3/lib/python3.7/site-packages/torch/nn/functional.py:3635: UserWarning: Default upsampling behavior when mode=bicubic is changed to align_corners=False since 0.4.0. Please specify align_corners=True if the old behavior is desired. See the documentation of nn.Upsample for details.\n",
      "  \"See the documentation of nn.Upsample for details.\".format(mode)\n"
     ]
    },
    {
     "name": "stdout",
     "output_type": "stream",
     "text": [
      "Processed and saved: radial_power_spectra/srgan/4x/denorm/power_spectrum_comparison_5.png\n"
     ]
    }
   ],
   "source": [
    "args.s = 4\n",
    "args.bsz = 64\n",
    "train_loader, val_loader, test_loader, args = dataloading.load_data(args)\n",
    "in_channels = next(iter(test_loader))[0].shape[1]\n",
    "height, width = next(iter(test_loader))[0].shape[2], next(iter(test_loader))[0].shape[3]\n",
    "srgan4x = srgan.Generator(in_channels, out_nc=1, height=height, width=width, nf=128, s=args.s, nb=1)\n",
    "exp_dir = 'runs/SRGANruns/srgan_era5-TCW_None__2024_07_13_14_29_33_4x/'\n",
    "gan_path = '/home/christina/Documents/clim-var-ds-cnf-own/runs/SRGANruns/srgan_era5-TCW_None__2024_07_13_14_29_33_4x/model_checkpoints/generator_epoch_11_step_28250.tar'\n",
    "# Load the model\n",
    "srgan4x = load_model(exp_dir, srgan4x, gan_path).to(args.device)\n",
    "process_images(srgan4x, test_loader, 'radial_power_spectra/srgan/4x/denorm/', args.device, args, modeltype='srgan')"
   ]
  },
  {
   "cell_type": "markdown",
   "id": "dd484daa-e503-400b-ad80-1402025ccf66",
   "metadata": {},
   "source": [
    "### SRFlow 8x"
   ]
  },
  {
   "cell_type": "code",
   "execution_count": 65,
   "id": "d17c07a7-1e5e-4b08-a723-3e937c74933a",
   "metadata": {},
   "outputs": [
    {
     "name": "stdout",
     "output_type": "stream",
     "text": [
      "Loading ERA5 TCW ...\n",
      "Model loaded successfully.\n",
      "Processed and saved: radial_power_spectra/srflow/8x/denorm/power_spectrum_comparison_0.png\n",
      "Processed and saved: radial_power_spectra/srflow/8x/denorm/power_spectrum_comparison_1.png\n",
      "Processed and saved: radial_power_spectra/srflow/8x/denorm/power_spectrum_comparison_2.png\n",
      "Processed and saved: radial_power_spectra/srflow/8x/denorm/power_spectrum_comparison_3.png\n",
      "Processed and saved: radial_power_spectra/srflow/8x/denorm/power_spectrum_comparison_4.png\n",
      "Processed and saved: radial_power_spectra/srflow/8x/denorm/power_spectrum_comparison_5.png\n"
     ]
    }
   ],
   "source": [
    "args.s = 8\n",
    "args.bsz = 64\n",
    "args.device = 'cuda'\n",
    "train_loader, val_loader, test_loader, args = dataloading.load_data(args)\n",
    "in_channels = next(iter(test_loader))[0].shape[1]\n",
    "height, width = next(iter(test_loader))[0].shape[2], next(iter(test_loader))[0].shape[3]\n",
    "cnf8x = srflow.SRFlow((in_channels, height, width), args.filter_size, args.L, args.K, args.bsz, args.s, args.constraint, args.nb, args.condch, args.noscale, args.noscaletest)\n",
    "exp_dir = 'runs/srflow_era5-TCW_None_2024_06_29_13_26_12_8x/'\n",
    "cnf_path = '/home/christina/Documents/clim-var-ds-cnf-own/runs/srflow_era5-TCW_None_2024_06_29_13_26_12_8x/model_checkpoints/model_epoch_4_step_11500.tar'\n",
    "# Load the model\n",
    "cnf8x = load_model(exp_dir, cnf8x, cnf_path).to(args.device)\n",
    "process_images(cnf8x, test_loader, 'radial_power_spectra/srflow/8x/denorm/', args.device, args, modeltype='srflow')"
   ]
  },
  {
   "cell_type": "markdown",
   "id": "00083c81-17b0-48b2-8a60-b28f44f77d4f",
   "metadata": {},
   "source": [
    "### SRGAN 8x"
   ]
  },
  {
   "cell_type": "code",
   "execution_count": 66,
   "id": "357a6af3-17ab-4af4-8c46-a928dc1bb053",
   "metadata": {},
   "outputs": [
    {
     "name": "stdout",
     "output_type": "stream",
     "text": [
      "Loading ERA5 TCW ...\n",
      "Model loaded successfully.\n"
     ]
    },
    {
     "name": "stderr",
     "output_type": "stream",
     "text": [
      "/home/christina/anaconda3/lib/python3.7/site-packages/torch/nn/functional.py:3635: UserWarning: Default upsampling behavior when mode=bicubic is changed to align_corners=False since 0.4.0. Please specify align_corners=True if the old behavior is desired. See the documentation of nn.Upsample for details.\n",
      "  \"See the documentation of nn.Upsample for details.\".format(mode)\n"
     ]
    },
    {
     "name": "stdout",
     "output_type": "stream",
     "text": [
      "Processed and saved: radial_power_spectra/srgan/8x/denorm/power_spectrum_comparison_0.png\n"
     ]
    },
    {
     "name": "stderr",
     "output_type": "stream",
     "text": [
      "/home/christina/anaconda3/lib/python3.7/site-packages/torch/nn/functional.py:3635: UserWarning: Default upsampling behavior when mode=bicubic is changed to align_corners=False since 0.4.0. Please specify align_corners=True if the old behavior is desired. See the documentation of nn.Upsample for details.\n",
      "  \"See the documentation of nn.Upsample for details.\".format(mode)\n"
     ]
    },
    {
     "name": "stdout",
     "output_type": "stream",
     "text": [
      "Processed and saved: radial_power_spectra/srgan/8x/denorm/power_spectrum_comparison_1.png\n"
     ]
    },
    {
     "name": "stderr",
     "output_type": "stream",
     "text": [
      "/home/christina/anaconda3/lib/python3.7/site-packages/torch/nn/functional.py:3635: UserWarning: Default upsampling behavior when mode=bicubic is changed to align_corners=False since 0.4.0. Please specify align_corners=True if the old behavior is desired. See the documentation of nn.Upsample for details.\n",
      "  \"See the documentation of nn.Upsample for details.\".format(mode)\n"
     ]
    },
    {
     "name": "stdout",
     "output_type": "stream",
     "text": [
      "Processed and saved: radial_power_spectra/srgan/8x/denorm/power_spectrum_comparison_2.png\n"
     ]
    },
    {
     "name": "stderr",
     "output_type": "stream",
     "text": [
      "/home/christina/anaconda3/lib/python3.7/site-packages/torch/nn/functional.py:3635: UserWarning: Default upsampling behavior when mode=bicubic is changed to align_corners=False since 0.4.0. Please specify align_corners=True if the old behavior is desired. See the documentation of nn.Upsample for details.\n",
      "  \"See the documentation of nn.Upsample for details.\".format(mode)\n"
     ]
    },
    {
     "name": "stdout",
     "output_type": "stream",
     "text": [
      "Processed and saved: radial_power_spectra/srgan/8x/denorm/power_spectrum_comparison_3.png\n"
     ]
    },
    {
     "name": "stderr",
     "output_type": "stream",
     "text": [
      "/home/christina/anaconda3/lib/python3.7/site-packages/torch/nn/functional.py:3635: UserWarning: Default upsampling behavior when mode=bicubic is changed to align_corners=False since 0.4.0. Please specify align_corners=True if the old behavior is desired. See the documentation of nn.Upsample for details.\n",
      "  \"See the documentation of nn.Upsample for details.\".format(mode)\n"
     ]
    },
    {
     "name": "stdout",
     "output_type": "stream",
     "text": [
      "Processed and saved: radial_power_spectra/srgan/8x/denorm/power_spectrum_comparison_4.png\n"
     ]
    },
    {
     "name": "stderr",
     "output_type": "stream",
     "text": [
      "/home/christina/anaconda3/lib/python3.7/site-packages/torch/nn/functional.py:3635: UserWarning: Default upsampling behavior when mode=bicubic is changed to align_corners=False since 0.4.0. Please specify align_corners=True if the old behavior is desired. See the documentation of nn.Upsample for details.\n",
      "  \"See the documentation of nn.Upsample for details.\".format(mode)\n"
     ]
    },
    {
     "name": "stdout",
     "output_type": "stream",
     "text": [
      "Processed and saved: radial_power_spectra/srgan/8x/denorm/power_spectrum_comparison_5.png\n"
     ]
    }
   ],
   "source": [
    "args.s = 8\n",
    "args.bsz = 64\n",
    "train_loader, val_loader, test_loader, args = dataloading.load_data(args)\n",
    "in_channels = next(iter(test_loader))[0].shape[1]\n",
    "height, width = next(iter(test_loader))[0].shape[2], next(iter(test_loader))[0].shape[3]\n",
    "srgan8x = srgan.Generator(in_channels, out_nc=1, height=height, width=width, nf=128, s=args.s, nb=1)\n",
    "exp_dir = 'runs/SRGANruns/srgan_era5-TCW_None__2024_07_13_14_29_38_8x/'\n",
    "gan_path = '/home/christina/Documents/clim-var-ds-cnf-own/runs/SRGANruns/srgan_era5-TCW_None__2024_07_13_14_29_38_8x/model_checkpoints/generator_epoch_11_step_30000.tar'\n",
    "# Load the model\n",
    "srgan8x = load_model(exp_dir, srgan8x, gan_path).to(args.device)\n",
    "process_images(srgan8x, test_loader, 'radial_power_spectra/srgan/8x/denorm/', args.device, args, modeltype='srgan')"
   ]
  },
  {
   "cell_type": "markdown",
   "id": "05b9cea4-077b-4662-9c66-703f36861d93",
   "metadata": {},
   "source": [
    "### SRFlow 16x"
   ]
  },
  {
   "cell_type": "code",
   "execution_count": 67,
   "id": "5b385ebe-bbc9-48c3-b7b6-41d5cb1d6e56",
   "metadata": {},
   "outputs": [
    {
     "name": "stdout",
     "output_type": "stream",
     "text": [
      "Loading ERA5 TCW ...\n",
      "Model loaded successfully.\n",
      "Processed and saved: radial_power_spectra/srflow/16x/denorm/power_spectrum_comparison_0.png\n",
      "Processed and saved: radial_power_spectra/srflow/16x/denorm/power_spectrum_comparison_1.png\n",
      "Processed and saved: radial_power_spectra/srflow/16x/denorm/power_spectrum_comparison_2.png\n",
      "Processed and saved: radial_power_spectra/srflow/16x/denorm/power_spectrum_comparison_3.png\n",
      "Processed and saved: radial_power_spectra/srflow/16x/denorm/power_spectrum_comparison_4.png\n",
      "Processed and saved: radial_power_spectra/srflow/16x/denorm/power_spectrum_comparison_5.png\n"
     ]
    }
   ],
   "source": [
    "args.s = 16\n",
    "args.bsz = 64\n",
    "args.device = 'cuda'\n",
    "train_loader, val_loader, test_loader, args = dataloading.load_data(args)\n",
    "in_channels = next(iter(test_loader))[0].shape[1]\n",
    "height, width = next(iter(test_loader))[0].shape[2], next(iter(test_loader))[0].shape[3]\n",
    "cnf16x = srflow.SRFlow((in_channels, height, width), args.filter_size, args.L, args.K, args.bsz, 16, args.constraint, args.nb, args.condch, args.noscale, args.noscaletest)\n",
    "exp_dir = 'runs/srflow_era5-TCW_None_2024_06_29_13_26_12_16x/'\n",
    "cnf_path = '/home/christina/Documents/clim-var-ds-cnf-own/runs/srflow_era5-TCW_None_2024_06_29_13_26_12_16x/model_checkpoints/model_epoch_5_step_13750.tar'\n",
    "# Load the model\n",
    "cnf16x = load_model(exp_dir, cnf16x, cnf_path).to(args.device)\n",
    "process_images(cnf16x, test_loader, 'radial_power_spectra/srflow/16x/denorm/', args.device, args, modeltype='srflow')"
   ]
  },
  {
   "cell_type": "markdown",
   "id": "93fe9d14-a740-4bc8-9366-17b508e6d6a8",
   "metadata": {},
   "source": [
    "### SRGAN 16x"
   ]
  },
  {
   "cell_type": "code",
   "execution_count": 68,
   "id": "7939c4fb-b7cd-4af5-97bf-1a78aec55291",
   "metadata": {},
   "outputs": [
    {
     "name": "stdout",
     "output_type": "stream",
     "text": [
      "Loading ERA5 TCW ...\n",
      "Model loaded successfully.\n"
     ]
    },
    {
     "name": "stderr",
     "output_type": "stream",
     "text": [
      "/home/christina/anaconda3/lib/python3.7/site-packages/torch/nn/functional.py:3635: UserWarning: Default upsampling behavior when mode=bicubic is changed to align_corners=False since 0.4.0. Please specify align_corners=True if the old behavior is desired. See the documentation of nn.Upsample for details.\n",
      "  \"See the documentation of nn.Upsample for details.\".format(mode)\n"
     ]
    },
    {
     "name": "stdout",
     "output_type": "stream",
     "text": [
      "Processed and saved: radial_power_spectra/srgan/16x/denorm/power_spectrum_comparison_0.png\n"
     ]
    },
    {
     "name": "stderr",
     "output_type": "stream",
     "text": [
      "/home/christina/anaconda3/lib/python3.7/site-packages/torch/nn/functional.py:3635: UserWarning: Default upsampling behavior when mode=bicubic is changed to align_corners=False since 0.4.0. Please specify align_corners=True if the old behavior is desired. See the documentation of nn.Upsample for details.\n",
      "  \"See the documentation of nn.Upsample for details.\".format(mode)\n"
     ]
    },
    {
     "name": "stdout",
     "output_type": "stream",
     "text": [
      "Processed and saved: radial_power_spectra/srgan/16x/denorm/power_spectrum_comparison_1.png\n"
     ]
    },
    {
     "name": "stderr",
     "output_type": "stream",
     "text": [
      "/home/christina/anaconda3/lib/python3.7/site-packages/torch/nn/functional.py:3635: UserWarning: Default upsampling behavior when mode=bicubic is changed to align_corners=False since 0.4.0. Please specify align_corners=True if the old behavior is desired. See the documentation of nn.Upsample for details.\n",
      "  \"See the documentation of nn.Upsample for details.\".format(mode)\n"
     ]
    },
    {
     "name": "stdout",
     "output_type": "stream",
     "text": [
      "Processed and saved: radial_power_spectra/srgan/16x/denorm/power_spectrum_comparison_2.png\n"
     ]
    },
    {
     "name": "stderr",
     "output_type": "stream",
     "text": [
      "/home/christina/anaconda3/lib/python3.7/site-packages/torch/nn/functional.py:3635: UserWarning: Default upsampling behavior when mode=bicubic is changed to align_corners=False since 0.4.0. Please specify align_corners=True if the old behavior is desired. See the documentation of nn.Upsample for details.\n",
      "  \"See the documentation of nn.Upsample for details.\".format(mode)\n"
     ]
    },
    {
     "name": "stdout",
     "output_type": "stream",
     "text": [
      "Processed and saved: radial_power_spectra/srgan/16x/denorm/power_spectrum_comparison_3.png\n"
     ]
    },
    {
     "name": "stderr",
     "output_type": "stream",
     "text": [
      "/home/christina/anaconda3/lib/python3.7/site-packages/torch/nn/functional.py:3635: UserWarning: Default upsampling behavior when mode=bicubic is changed to align_corners=False since 0.4.0. Please specify align_corners=True if the old behavior is desired. See the documentation of nn.Upsample for details.\n",
      "  \"See the documentation of nn.Upsample for details.\".format(mode)\n"
     ]
    },
    {
     "name": "stdout",
     "output_type": "stream",
     "text": [
      "Processed and saved: radial_power_spectra/srgan/16x/denorm/power_spectrum_comparison_4.png\n"
     ]
    },
    {
     "name": "stderr",
     "output_type": "stream",
     "text": [
      "/home/christina/anaconda3/lib/python3.7/site-packages/torch/nn/functional.py:3635: UserWarning: Default upsampling behavior when mode=bicubic is changed to align_corners=False since 0.4.0. Please specify align_corners=True if the old behavior is desired. See the documentation of nn.Upsample for details.\n",
      "  \"See the documentation of nn.Upsample for details.\".format(mode)\n"
     ]
    },
    {
     "name": "stdout",
     "output_type": "stream",
     "text": [
      "Processed and saved: radial_power_spectra/srgan/16x/denorm/power_spectrum_comparison_5.png\n"
     ]
    }
   ],
   "source": [
    "args.s = 16\n",
    "train_loader, val_loader, test_loader, args = dataloading.load_data(args)\n",
    "in_channels = next(iter(test_loader))[0].shape[1]\n",
    "height, width = next(iter(test_loader))[0].shape[2], next(iter(test_loader))[0].shape[3]\n",
    "srgan16x = srgan.Generator(in_channels, out_nc=1, height=height, width=width, nf=128, s=args.s, nb=1)\n",
    "\n",
    "exp_dir = 'runs/SRGANruns/srgan_era5-TCW_None__2024_07_20_14_56_31_16x/'\n",
    "gan_path = '/home/christina/Documents/clim-var-ds-cnf-own/runs/SRGANruns/srgan_era5-TCW_None__2024_07_20_14_56_31_16x/model_checkpoints/generator_epoch_13_step_34250.tar'\n",
    "\n",
    "# Load the model\n",
    "srgan16x = load_model(exp_dir, srgan16x, gan_path).to(args.device)\n",
    "process_images(srgan16x, test_loader, 'radial_power_spectra/srgan/16x/denorm/', args.device, args, modeltype='srgan')"
   ]
  },
  {
   "cell_type": "code",
   "execution_count": 29,
   "id": "8c4e4671-0a17-4f0b-88cc-04fb41314dbd",
   "metadata": {},
   "outputs": [
    {
     "data": {
      "image/png": "[encoded data removed]",
      "text/plain": [
       "<Figure size 864x576 with 1 Axes>"
      ]
     },
     "metadata": {
      "needs_background": "light"
     },
     "output_type": "display_data"
    }
   ],
   "source": [
    "import os\n",
    "import numpy as np\n",
    "import matplotlib.pyplot as plt\n",
    "\n",
    "def load_radial_profile(file_path):\n",
    "    \"\"\"Load the radial profile from a text file.\"\"\"\n",
    "    return np.loadtxt(file_path)\n",
    "\n",
    "def plot_radial_profiles_from_folders(folder_paths, downsampling_factors, ground_truth_folder, output_path):\n",
    "    \"\"\"\n",
    "    Plot radial profiles for different downsampling factors and a common ground truth.\n",
    "    \n",
    "    Parameters:\n",
    "    - folder_paths: List of directories containing radial profile text files for different downsampling factors.\n",
    "    - downsampling_factors: List of downsampling factors corresponding to each folder.\n",
    "    - ground_truth_folder: Directory containing the radial profile text file for the ground truth.\n",
    "    - output_path: Path where the plot will be saved.\n",
    "    \"\"\"\n",
    "    plt.figure(figsize=(12, 8))\n",
    "    \n",
    "    # Load the ground truth radial profile\n",
    "    gt_profile_path = os.path.join(ground_truth_folder, 'radial_profile_gt_2.txt')\n",
    "    if os.path.exists(gt_profile_path):\n",
    "        radial_profile_gt = load_radial_profile(gt_profile_path)\n",
    "        plt.plot(np.arange(len(radial_profile_gt)), radial_profile_gt, label='Ground Truth', linestyle='--', color='black')\n",
    "    else:\n",
    "        raise FileNotFoundError(f\"Ground truth file not found: {gt_profile_path}\")\n",
    "\n",
    "    # Load and plot radial profiles for model outputs\n",
    "    for folder_path, factor in zip(folder_paths, downsampling_factors):\n",
    "        model_profile_path = os.path.join(folder_path, 'radial_profile_model_2.txt')\n",
    "        if os.path.exists(model_profile_path):\n",
    "            radial_profile_model = load_radial_profile(model_profile_path)\n",
    "            plt.plot(np.arange(len(radial_profile_model)), radial_profile_model, label=f'Model Output {factor}x')\n",
    "\n",
    "    # Set plot labels and title\n",
    "    plt.xlabel('Radial Distance (bins)')\n",
    "    plt.ylabel('Log Power Spectrum')\n",
    "    plt.title('Radial Profiles Comparison Across Downsampling Factors')\n",
    "    plt.legend()\n",
    "    plt.grid(True)\n",
    "    plt.savefig(output_path, bbox_inches='tight')\n",
    "    plt.show()\n",
    "\n",
    "folder_paths = [\n",
    "    'radial_power_spectra/srflow/2x/',\n",
    "    'radial_power_spectra/srflow/4x/',\n",
    "    'radial_power_spectra/srflow/8x/',\n",
    "    'radial_power_spectra/srflow/16x/'\n",
    "]\n",
    "\n",
    "downsampling_factors = ['2', '4', '8', '16']\n",
    "ground_truth_folder = 'radial_power_spectra/srflow/2x/'\n",
    "output_path = 'radial_power_spectra/radial_profiles_comparison.png'\n",
    "\n",
    "plot_radial_profiles_from_folders(folder_paths, downsampling_factors, ground_truth_folder, output_path)\n"
   ]
  },
  {
   "cell_type": "code",
   "execution_count": 60,
   "id": "c9df40f4-4360-4f40-9852-f9f72c97fc99",
   "metadata": {},
   "outputs": [
    {
     "data": {
      "image/png": "[encoded data removed]",
      "text/plain": [
       "<Figure size 1008x720 with 1 Axes>"
      ]
     },
     "metadata": {
      "needs_background": "light"
     },
     "output_type": "display_data"
    }
   ],
   "source": [
    "import os\n",
    "import numpy as np\n",
    "import matplotlib.pyplot as plt\n",
    "\n",
    "def load_radial_profile(file_path):\n",
    "    \"\"\"Load the radial profile from a text file.\"\"\"\n",
    "    return np.loadtxt(file_path)\n",
    "\n",
    "def plot_comparison_radial_profiles(cnf_folders, gan_folders, downsampling_factors, ground_truth_folder, output_path):\n",
    "    \"\"\"\n",
    "    Plot and compare radial profiles for CNF and GAN models across different downsampling factors.\n",
    "    \n",
    "    Parameters:\n",
    "    - cnf_folders: List of directories containing radial profile text files for CNF models.\n",
    "    - gan_folders: List of directories containing radial profile text files for GAN models.\n",
    "    - downsampling_factors: List of downsampling factors corresponding to each folder.\n",
    "    - ground_truth_folder: Directory containing the radial profile text file for the ground truth.\n",
    "    - output_path: Path where the plot will be saved.\n",
    "    \"\"\"\n",
    "    plt.figure(figsize=(14, 10))\n",
    "    \n",
    "    # Load and plot the ground truth radial profile\n",
    "    gt_profile_path = os.path.join(ground_truth_folder, 'radial_profile_gt_0.txt')\n",
    "    if os.path.exists(gt_profile_path):\n",
    "        radial_profile_gt = load_radial_profile(gt_profile_path)\n",
    "        plt.plot(np.arange(len(radial_profile_gt)), radial_profile_gt, label='Ground Truth', linestyle='--', color='black')\n",
    "    else:\n",
    "        raise FileNotFoundError(f\"Ground truth file not found: {gt_profile_path}\")\n",
    "\n",
    "    # Load and plot radial profiles for CNF models\n",
    "    for folder_path, factor in zip(cnf_folders, downsampling_factors):\n",
    "        model_profile_path = os.path.join(folder_path, 'radial_profile_model_0.txt')\n",
    "        if os.path.exists(model_profile_path):\n",
    "            radial_profile_cnf = load_radial_profile(model_profile_path)\n",
    "            plt.plot(np.arange(len(radial_profile_cnf)), radial_profile_cnf, label=f'CNF Output {factor}x')\n",
    "\n",
    "    # Load and plot radial profiles for GAN models\n",
    "    for folder_path, factor in zip(gan_folders, downsampling_factors):\n",
    "        model_profile_path = os.path.join(folder_path, 'radial_profile_model_0.txt')\n",
    "        if os.path.exists(model_profile_path):\n",
    "            radial_profile_gan = load_radial_profile(model_profile_path)\n",
    "            plt.plot(np.arange(len(radial_profile_gan)), radial_profile_gan, label=f'GAN Output {factor}x', linestyle='--')\n",
    "\n",
    "    # Set plot labels and title\n",
    "    plt.xlabel('Radial Distance (bins)')\n",
    "    plt.ylabel('Log Power Spectrum')\n",
    "    plt.title('Comparison of Radial Profiles: CNF vs. GAN')\n",
    "    plt.legend()\n",
    "    plt.grid(True)\n",
    "    plt.savefig(output_path, bbox_inches='tight')\n",
    "    plt.show()\n",
    "\n",
    "\n",
    "folder_paths = [\n",
    "    'radial_power_spectra/srflow/2x/',\n",
    "    'radial_power_spectra/srflow/4x/',\n",
    "    'radial_power_spectra/srflow/8x/',\n",
    "    'radial_power_spectra/srflow/16x/'\n",
    "]\n",
    "\n",
    "cnf_folders = [\n",
    "    'radial_power_spectra/srflow/2x/',\n",
    "    'radial_power_spectra/srflow/4x/',\n",
    "    'radial_power_spectra/srflow/8x/',\n",
    "    'radial_power_spectra/srflow/16x/'\n",
    "]\n",
    "\n",
    "gan_folders = [\n",
    "    'radial_power_spectra/srgan/2x/',\n",
    "    'radial_power_spectra/srgan/4x/',\n",
    "    'radial_power_spectra/srgan/8x/',\n",
    "    'radial_power_spectra/srgan/16x/'\n",
    "]\n",
    "\n",
    "downsampling_factors = ['2', '4', '8', '16']\n",
    "ground_truth_folder = 'radial_power_spectra/srflow/2x/'\n",
    "output_path = 'radial_power_spectra/radial_profiles_comparison.png'\n",
    "\n",
    "plot_comparison_radial_profiles(cnf_folders, gan_folders, downsampling_factors, ground_truth_folder, output_path)"
   ]
  },
  {
   "cell_type": "code",
   "execution_count": null,
   "id": "6e1fa124-cfae-4e93-af48-4022d3d2c6da",
   "metadata": {},
   "outputs": [],
   "source": []
  },
  {
   "cell_type": "code",
   "execution_count": 11,
   "id": "36484d32-032e-4d7c-814d-295df49cc7b9",
   "metadata": {},
   "outputs": [
    {
     "data": {
      "image/png": "[encoded data removed]",
      "text/plain": [
       "<Figure size 1008x720 with 1 Axes>"
      ]
     },
     "metadata": {
      "needs_background": "light"
     },
     "output_type": "display_data"
    }
   ],
   "source": [
    "import os\n",
    "import numpy as np\n",
    "import matplotlib.pyplot as plt\n",
    "\n",
    "def load_radial_profile(file_path):\n",
    "    \"\"\"Load the radial profile from a text file.\"\"\"\n",
    "    return np.loadtxt(file_path)\n",
    "\n",
    "def plot_comparison_radial_profiles(cnf_folders, gan_folders, downsampling_factors, ground_truth_folder, output_path):\n",
    "    \"\"\"\n",
    "    Plot and compare radial profiles for CNF and GAN models across different downsampling factors.\n",
    "    \n",
    "    Parameters:\n",
    "    - cnf_folders: List of directories containing radial profile text files for CNF models.\n",
    "    - gan_folders: List of directories containing radial profile text files for GAN models.\n",
    "    - downsampling_factors: List of downsampling factors corresponding to each folder.\n",
    "    - ground_truth_folder: Directory containing the radial profile text file for the ground truth.\n",
    "    - output_path: Path where the plot will be saved.\n",
    "    \"\"\"\n",
    "    # Define color map for different downsampling factors\n",
    "    color_map = {\n",
    "        '2': 'blue',\n",
    "        '4': 'orange',\n",
    "        '8': 'green',\n",
    "        '16': 'red'\n",
    "    }\n",
    "    \n",
    "    plt.figure(figsize=(14, 10))\n",
    "    \n",
    "    # Load and plot the ground truth radial profile\n",
    "    gt_profile_path = os.path.join(ground_truth_folder, 'radial_profile_gt_0.txt')\n",
    "    if os.path.exists(gt_profile_path):\n",
    "        radial_profile_gt = load_radial_profile(gt_profile_path)\n",
    "        plt.plot(np.arange(len(radial_profile_gt)), radial_profile_gt, label='Ground Truth', color='black')\n",
    "    else:\n",
    "        raise FileNotFoundError(f\"Ground truth file not found: {gt_profile_path}\")\n",
    "\n",
    "    # Load and plot radial profiles for CNF models\n",
    "    for folder_path, factor in zip(cnf_folders, downsampling_factors):\n",
    "        model_profile_path = os.path.join(folder_path, 'radial_profile_model_0.txt')\n",
    "        if os.path.exists(model_profile_path):\n",
    "            radial_profile_cnf = load_radial_profile(model_profile_path)\n",
    "            plt.plot(np.arange(len(radial_profile_cnf)), radial_profile_cnf, label=f'CNF Output {factor}x', color=color_map[factor])\n",
    "\n",
    "    # Load and plot radial profiles for GAN models\n",
    "    for folder_path, factor in zip(gan_folders, downsampling_factors):\n",
    "        model_profile_path = os.path.join(folder_path, 'radial_profile_model_0.txt')\n",
    "        if os.path.exists(model_profile_path):\n",
    "            radial_profile_gan = load_radial_profile(model_profile_path)\n",
    "            plt.plot(np.arange(len(radial_profile_gan)), radial_profile_gan, label=f'GAN Output {factor}x', linestyle='--', color=color_map[factor])\n",
    "\n",
    "    # Set plot labels and title\n",
    "    plt.xlabel('Radial Distance (bins)')\n",
    "    plt.ylabel('Log Power Spectrum')\n",
    "    plt.title('Comparison of Radial Profiles: CNF vs. GAN')\n",
    "    plt.legend()\n",
    "    plt.grid(True)\n",
    "    plt.savefig(output_path, bbox_inches='tight')\n",
    "    plt.show()\n",
    "\n",
    "# Define folder paths and parameters\n",
    "cnf_folders = [\n",
    "    'radial_power_spectra/srflow/2x/',\n",
    "    'radial_power_spectra/srflow/4x/',\n",
    "    'radial_power_spectra/srflow/8x/',\n",
    "    'radial_power_spectra/srflow/16x/'\n",
    "]\n",
    "\n",
    "gan_folders = [\n",
    "    'radial_power_spectra/srgan/2x/',\n",
    "    'radial_power_spectra/srgan/4x/',\n",
    "    'radial_power_spectra/srgan/8x/',\n",
    "    'radial_power_spectra/srgan/16x/'\n",
    "]\n",
    "\n",
    "downsampling_factors = ['2', '4', '8', '16']\n",
    "ground_truth_folder = 'radial_power_spectra/srflow/2x/'\n",
    "output_path = 'radial_power_spectra/radial_profiles_comparison.png'\n",
    "\n",
    "plot_comparison_radial_profiles(cnf_folders, gan_folders, downsampling_factors, ground_truth_folder, output_path)\n"
   ]
  },
  {
   "cell_type": "code",
   "execution_count": null,
   "id": "dc9c77ed-25f9-4e33-9f23-78496044d309",
   "metadata": {},
   "outputs": [],
   "source": []
  },
  {
   "cell_type": "code",
   "execution_count": null,
   "id": "0e823231-18dc-4a8f-8668-496174f902be",
   "metadata": {},
   "outputs": [],
   "source": []
  },
  {
   "cell_type": "code",
   "execution_count": null,
   "id": "1146ad68-d53d-4246-8eb9-44bc3ade446d",
   "metadata": {},
   "outputs": [],
   "source": []
  },
  {
   "cell_type": "code",
   "execution_count": null,
   "id": "03945cbf-1106-4f42-8845-7dd49cf4186a",
   "metadata": {},
   "outputs": [],
   "source": []
  },
  {
   "cell_type": "code",
   "execution_count": null,
   "id": "0cfe8a91-7553-4378-90b1-5f5d5f1c5dcb",
   "metadata": {},
   "outputs": [],
   "source": []
  }
 ],
 "metadata": {
  "kernelspec": {
   "display_name": "stflow",
   "language": "python",
   "name": "stflow"
  },
  "language_info": {
   "codemirror_mode": {
    "name": "ipython",
    "version": 3
   },
   "file_extension": ".py",
   "mimetype": "text/x-python",
   "name": "python",
   "nbconvert_exporter": "python",
   "pygments_lexer": "ipython3",
   "version": "3.7.6"
  }
 },
 "nbformat": 4,
 "nbformat_minor": 5
}
