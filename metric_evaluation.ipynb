{
 "cells": [
  {
   "cell_type": "markdown",
   "id": "0d7e08e5-bf03-4196-97dc-f81ac7fbef05",
   "metadata": {},
   "source": [
    "## Evaluation"
   ]
  },
  {
   "cell_type": "code",
   "execution_count": 109,
   "id": "41d7b90c-c9ad-4869-ae9c-0ce9b755598c",
   "metadata": {},
   "outputs": [
    {
     "name": "stdout",
     "output_type": "stream",
     "text": [
      "The autoreload extension is already loaded. To reload it, use:\n",
      "  %reload_ext autoreload\n"
     ]
    }
   ],
   "source": [
    "import torch\n",
    "import numpy as np\n",
    "import random\n",
    "from models.architectures import srgan, srflow\n",
    "import PIL\n",
    "import os\n",
    "import torchvision\n",
    "from torchvision import transforms\n",
    "import matplotlib as mpl\n",
    "from mpl_toolkits.axes_grid1 import make_axes_locatable\n",
    "import pandas as pd\n",
    "import numpy as np\n",
    "import torch\n",
    "\n",
    "# Set a seed for reproducibility\n",
    "np.random.seed(42)\n",
    "\n",
    "# Dataset loading\n",
    "from data import dataloading\n",
    "from data.era5_temp_dataset import InverseMinMaxScaler\n",
    "\n",
    "from os.path import exists, join\n",
    "import matplotlib.pyplot as plt\n",
    "from matplotlib import transforms\n",
    "import timeit\n",
    "import pdb\n",
    "import argparse\n",
    "import seaborn as sns\n",
    "\n",
    "from utils.metrics import *\n",
    "\n",
    "%load_ext autoreload\n",
    "%autoreload 2"
   ]
  },
  {
   "cell_type": "code",
   "execution_count": 110,
   "id": "cf303f0b-d257-450b-9402-0709994f1cf8",
   "metadata": {},
   "outputs": [
    {
     "name": "stdout",
     "output_type": "stream",
     "text": [
      "GPUs avail: 1\n"
     ]
    }
   ],
   "source": [
    "print('GPUs avail:', torch.cuda.device_count())\n",
    "\n",
    "# Parse Settings\n",
    "parser = argparse.ArgumentParser()\n",
    "\n",
    "# train configs\n",
    "parser.add_argument(\"--model\", type=str, default=\"srflow\",\n",
    "                    help=\"Model you want to train.\")\n",
    "parser.add_argument(\"--modeltype\", type=str, default=\"srflow\",\n",
    "                    help=\"Specify modeltype you would like to train [srflow, cdiff, srgan].\")\n",
    "parser.add_argument(\"--model_path\", type=str, default=\"runs/\",\n",
    "                    help=\"Directory where models are saved.\")\n",
    "parser.add_argument(\"--modelname\", type=str, default=None,\n",
    "                    help=\"Sepcify modelname to be tested.\")\n",
    "parser.add_argument(\"--epochs\", type=int, default=10000,\n",
    "                    help=\"number of epochs\")\n",
    "parser.add_argument(\"--max_steps\", type=int, default=2000000,\n",
    "                    help=\"For training on a large dataset.\")\n",
    "parser.add_argument(\"--log_interval\", type=int, default=100,\n",
    "                    help=\"Interval in which results should be logged.\")\n",
    "\n",
    "# runtime configs\n",
    "parser.add_argument(\"--visual\", action=\"store_true\",\n",
    "                    help=\"Visualizing the samples at test time.\")\n",
    "parser.add_argument(\"--noscaletest\", action=\"store_true\",\n",
    "                    help=\"Disable scale in coupling layers only at test time.\")\n",
    "parser.add_argument(\"--noscale\", action=\"store_true\",\n",
    "                    help=\"Disable scale in coupling layers.\")\n",
    "parser.add_argument(\"--testmode\", action=\"store_true\",\n",
    "                    help=\"Model run on test set.\")\n",
    "parser.add_argument(\"--train\", action=\"store_true\",\n",
    "                    help=\"If model should be trained.\")\n",
    "parser.add_argument(\"--resume_training\", action=\"store_true\",\n",
    "                    help=\"If training should be resumed.\")\n",
    "parser.add_argument(\"--constraint\", type=str, default='scaddDS',\n",
    "                    help=\"Physical Constraint to be applied during training.\")                   \n",
    "\n",
    "# hyperparameters\n",
    "parser.add_argument(\"--nbits\", type=int, default=8,\n",
    "                    help=\"Images converted to n-bit representations.\")\n",
    "parser.add_argument(\"--s\", type=int, default=16, help=\"Upscaling factor.\")\n",
    "parser.add_argument(\"--bsz\", type=int, default=16, help=\"batch size\")\n",
    "parser.add_argument(\"--lr\", type=float, default=0.0002, help=\"learning rate\")\n",
    "parser.add_argument(\"--filter_size\", type=int, default=512, help=\"filter size NN in Affine Coupling Layer\")\n",
    "parser.add_argument(\"--L\", type=int, default=3, help=\"# of levels\")\n",
    "parser.add_argument(\"--K\", type=int, default=2,\n",
    "                    help=\"# of flow steps, i.e. model depth\")\n",
    "parser.add_argument(\"--nb\", type=int, default=16,\n",
    "                    help=\"# of residual-in-residual blocks LR network.\")\n",
    "parser.add_argument(\"--condch\", type=int, default=128//8,\n",
    "                    help=\"# of residual-in-residual blocks in LR network.\")\n",
    "\n",
    "# data\n",
    "parser.add_argument(\"--datadir\", type=str, default=\"/home/christina/Documents/clim-var-ds-cnf-own/data/\",\n",
    "                    help=\"Dataset to train the model on.\")\n",
    "parser.add_argument(\"--trainset\", type=str, default=\"era5-TCW\", help='[era5-TCW, era5-T2M, noresm]')\n",
    "parser.add_argument(\"--testset\", type=str, default=\"era5-TCW\", help=\"Specify test dataset\")\n",
    "\n",
    "args = parser.parse_args('')\n",
    "config = vars(args)"
   ]
  },
  {
   "cell_type": "code",
   "execution_count": 111,
   "id": "b59199d9-ddfe-4f61-9996-f3c2cdde57a1",
   "metadata": {},
   "outputs": [],
   "source": [
    "if torch.cuda.is_available():\n",
    "    args.device = torch.device(\"cuda\")\n",
    "    args.num_gpus = torch.cuda.device_count()\n",
    "    args.parallel = False\n",
    "\n",
    "else:\n",
    "    args.device = \"cpu\""
   ]
  },
  {
   "cell_type": "code",
   "execution_count": 112,
   "id": "7d3eae76-6cfb-47a1-96ad-b2285e4070f7",
   "metadata": {},
   "outputs": [],
   "source": [
    "# use min-max due to non-gaussian distribution of data and outlier handling\n",
    "def min_max_scaler(x, min_val=0, max_val=124):\n",
    "    if min_val is None:\n",
    "        min_val = x.min()\n",
    "    if max_val is None:\n",
    "        max_val = x.max()\n",
    "    scaled_x = (x - min_val) / (max_val - min_val)\n",
    "    return scaled_x, min_val, max_val\n",
    "\n",
    "def inv_min_max_scaler(scaled_x, min_val=0, max_val=124):\n",
    "    x = scaled_x * (max_val - min_val) + min_val\n",
    "    return x"
   ]
  },
  {
   "cell_type": "code",
   "execution_count": 113,
   "id": "f1e7190a-dee1-4360-9ff4-1295164c4c1c",
   "metadata": {},
   "outputs": [],
   "source": [
    "import os\n",
    "import torch\n",
    "\n",
    "def load_model(exp_dir, model, mpath):\n",
    "    \"\"\"\n",
    "    Load a model from the specified directory and checkpoint file.\n",
    "    \n",
    "    Parameters:\n",
    "    exp_dir (str): The experiment directory path.\n",
    "    model (torch.nn.Module): The model instance to load the state dictionary into.\n",
    "    mpath (str): The path to the model checkpoint file.\n",
    "    \n",
    "    Returns:\n",
    "    torch.nn.Module: The loaded model with the state dictionary.\n",
    "    \n",
    "    Raises:\n",
    "    FileNotFoundError: If the model file does not exist at the specified path.\n",
    "    \"\"\"\n",
    "    try:\n",
    "        # Check if the file exists\n",
    "        if not os.path.exists(mpath):\n",
    "            raise FileNotFoundError(f\"Model file not found at {mpath}\")\n",
    "        \n",
    "        # Load the checkpoint\n",
    "        ckpt = torch.load(mpath)\n",
    "        \n",
    "        # Load the state dictionary into the model\n",
    "        model.load_state_dict(ckpt['model_state_dict'])\n",
    "        \n",
    "        print(\"Model loaded successfully.\")\n",
    "        return model\n",
    "\n",
    "    except FileNotFoundError as e:\n",
    "        print(e)\n",
    "        return None"
   ]
  },
  {
   "cell_type": "markdown",
   "id": "07f40f74-4d8f-4c05-8efd-36e0db120ac7",
   "metadata": {},
   "source": [
    "### Metric Evaluation\n",
    "Evaluations: \n",
    "- CNF unconstrained vs. constrained\n",
    "- CNF vs. GAN vs. CDiff\n",
    "- Residual Error Plots for ???\n",
    "- Metrics for 2x,4x,8x,16x with and without constraints"
   ]
  },
  {
   "cell_type": "code",
   "execution_count": 123,
   "id": "f1250faf-85e6-4045-ae46-90555ca3b66c",
   "metadata": {},
   "outputs": [],
   "source": [
    "import matplotlib.pyplot as plt\n",
    "import numpy as np\n",
    "import torch\n",
    "from matplotlib.gridspec import GridSpec\n",
    "import sys\n",
    "import torchvision.utils as vutils\n",
    "\n",
    "sys.path.append(\"../../\")\n",
    "from utils import metrics\n",
    "\n",
    "def save_snapshot(tensor, path):\n",
    "    \"\"\"Save tensor as image in Viridis color scheme.\"\"\"\n",
    "    plt.figure()\n",
    "    plt.imshow(tensor[0,...].cpu().numpy().squeeze(), cmap='viridis')\n",
    "    plt.axis('off')\n",
    "    plt.savefig(path, bbox_inches='tight', pad_inches=0)\n",
    "    plt.close()\n",
    "\n",
    "\n",
    "def save_grid_images(tensor_batch, save_path, nrow=3, title=None):\n",
    "    \"\"\"Create and save a grid of images.\"\"\"\n",
    "    grid_img = vutils.make_grid(tensor_batch[0:9], nrow=nrow, normalize=True, scale_each=True)\n",
    "    np_grid = grid_img.cpu().numpy().transpose((1, 2, 0))\n",
    "    plt.figure(figsize=(10, 10))\n",
    "    plt.imshow(np_grid[:, :, 0], cmap='viridis')\n",
    "    plt.axis('off')\n",
    "    plt.title(title)\n",
    "    plt.tight_layout(pad=0)\n",
    "    plt.savefig(save_path, dpi=300, bbox_inches='tight')\n",
    "    plt.close()\n",
    "    \n",
    "\n",
    "def plot_absolute_error_with_grid(y_unorm, predictions, save_path_grid, save_path_error_bar):\n",
    "    \"\"\"Plot and save a 3x3 grid of normalized absolute error images and a separate error bar plot.\"\"\"\n",
    "    \n",
    "    # Calculate absolute errors and their normalization\n",
    "    abs_error = torch.abs(predictions - y_unorm).cpu().numpy()\n",
    "    abs_error_min = np.min(abs_error)\n",
    "    abs_error_max = np.max(abs_error)\n",
    "    abs_error_normalized = (abs_error - abs_error_min) / (abs_error_max - abs_error_min)\n",
    "    \n",
    "    # Remove singleton dimensions if present\n",
    "    abs_error_normalized = abs_error_normalized.squeeze()  # Remove single-dimensional entries from shape\n",
    "    \n",
    "    # Extract the first 9 normalized absolute error images\n",
    "    num_images = min(abs_error_normalized.shape[0], 9)\n",
    "    error_images = [torch.tensor(abs_error_normalized[i]).unsqueeze(0) for i in range(num_images)]\n",
    "    \n",
    "    # Create a grid of images using PyTorch\n",
    "    grid = vutils.make_grid(torch.stack(error_images), nrow=3, padding=0)\n",
    "    \n",
    "    # Convert the grid to a NumPy array\n",
    "    np_grid = grid.cpu().numpy().transpose((1, 2, 0))\n",
    "    \n",
    "    # Create a figure for the grid of error images\n",
    "    plt.figure(figsize=(15, 15))\n",
    "    # pdb.set_trace()\n",
    "    plt.imshow(np_grid[...,0], cmap='inferno', vmin=0, vmax=1)  # Set vmin and vmax for consistent color mapping\n",
    "    plt.axis('off')  # Turn off the axis\n",
    "    \n",
    "    # Add a color bar\n",
    "    cbar = plt.colorbar()\n",
    "    cbar.set_label('Normalized Absolute Error')\n",
    "    \n",
    "    # Save the grid figure\n",
    "    plt.savefig(save_path_grid, bbox_inches='tight', pad_inches=0)\n",
    "    plt.close()\n",
    "\n",
    "    # Compute and plot the error bar chart\n",
    "    means = [np.mean(abs_error_normalized[i]) for i in range(num_images)]\n",
    "    stds = [np.std(abs_error_normalized[i]) for i in range(num_images)]\n",
    "    \n",
    "    # Create a separate figure for the error bar plot\n",
    "    plt.figure(figsize=(10, 10))\n",
    "    plt.errorbar(range(num_images), means, yerr=stds, fmt='o', capsize=5, capthick=2, ecolor='red', color='blue')\n",
    "    plt.xlabel('Image Index')\n",
    "    plt.ylabel('Normalized Absolute Error')\n",
    "    plt.title('Error Bar Plot')\n",
    "    \n",
    "    # Save the error bar plot figure\n",
    "    plt.savefig(save_path_error_bar, bbox_inches='tight')\n",
    "    plt.close()\n",
    "    \n",
    "def metric_eval_flow(dataloader, model, exp_name, args):\n",
    "    metric_dict = {\n",
    "        'rmse0': [], 'mse0': [], 'mae0': [],\n",
    "        'rmse05': [], 'mse05': [], 'mae05': [],\n",
    "        'rmse08': [], 'mse08': [], 'mae08': [],\n",
    "        'rmse1': [], 'mse1': [], 'mae1': [],\n",
    "        'crps0': [], 'crps05': [], 'crps08': [], 'crps1': [],\n",
    "    }\n",
    "\n",
    "    results_dir = os.path.join(exp_name, 'experiment_results')\n",
    "    os.makedirs(results_dir, exist_ok=True)\n",
    "    \n",
    "    snapshots_dir = os.path.join(results_dir, 'snapshots')\n",
    "    os.makedirs(snapshots_dir, exist_ok=True)\n",
    "\n",
    "    model.eval()\n",
    "    with torch.no_grad():\n",
    "        for batch_idx, item in enumerate(dataloader):\n",
    "            \n",
    "            y = item[0].to(args.device)\n",
    "            x = item[1].to(args.device)\n",
    "            y_unorm = item[2].to(args.device)\n",
    "            x_unorm = item[3].to(args.device)\n",
    "\n",
    "            z, _ = model.forward(x_hr=y, xlr=x)\n",
    "\n",
    "            # Predictions at different eps values\n",
    "            mu0, _, _ = model(xlr=x, reverse=True, eps=0)\n",
    "            mu05, _, _ = model(xlr=x, reverse=True, eps=0.5)\n",
    "            mu08, _, _ = model(xlr=x, reverse=True, eps=0.8)\n",
    "            mu1, _, _ = model(xlr=x, reverse=True, eps=1.0)\n",
    "\n",
    "            # Compute and store metrics\n",
    "            mse_values = {\n",
    "                'mse0': metrics.MSE(inv_min_max_scaler(mu0), y_unorm).detach().cpu().numpy(),\n",
    "                'mse05': metrics.MSE(inv_min_max_scaler(mu05), y_unorm).detach().cpu().numpy(),\n",
    "                'mse08': metrics.MSE(inv_min_max_scaler(mu08), y_unorm).detach().cpu().numpy(),\n",
    "                'mse1': metrics.MSE(inv_min_max_scaler(mu1), y_unorm).detach().cpu().numpy(),\n",
    "            }\n",
    "            mae_values = {\n",
    "                'mae0': metrics.MAE(inv_min_max_scaler(mu0), y_unorm).detach().cpu().numpy(),\n",
    "                'mae05': metrics.MAE(inv_min_max_scaler(mu05), y_unorm).detach().cpu().numpy(),\n",
    "                'mae08': metrics.MAE(inv_min_max_scaler(mu08), y_unorm).detach().cpu().numpy(),\n",
    "                'mae1': metrics.MAE(inv_min_max_scaler(mu1), y_unorm).detach().cpu().numpy(),\n",
    "            }\n",
    "            rmse_values = {\n",
    "                'rmse0': metrics.RMSE(inv_min_max_scaler(mu0), y_unorm).detach().cpu().numpy(),\n",
    "                'rmse05': metrics.RMSE(inv_min_max_scaler(mu05), y_unorm).detach().cpu().numpy(),\n",
    "                'rmse08': metrics.RMSE(inv_min_max_scaler(mu08), y_unorm).detach().cpu().numpy(),\n",
    "                'rmse1': metrics.RMSE(inv_min_max_scaler(mu1), y_unorm).detach().cpu().numpy(),\n",
    "            }\n",
    "\n",
    "            # Calculate CRPS for ensemble\n",
    "            crps_values = {\n",
    "                'crps0': crps_ensemble(y_unorm, inv_min_max_scaler(mu0)),\n",
    "                'crps05': crps_ensemble(y_unorm, inv_min_max_scaler(mu05)),\n",
    "                'crps08': crps_ensemble(y_unorm, inv_min_max_scaler(mu08)),\n",
    "                'crps1': crps_ensemble(y_unorm, inv_min_max_scaler(mu1)),\n",
    "            }\n",
    "\n",
    "            # Append metrics\n",
    "            metric_dict['mse0'].append(mse_values['mse0'])\n",
    "            metric_dict['mse05'].append(mse_values['mse05'])\n",
    "            metric_dict['mse08'].append(mse_values['mse08'])\n",
    "            metric_dict['mse1'].append(mse_values['mse1'])\n",
    "            metric_dict['mae0'].append(mae_values['mae0'])\n",
    "            metric_dict['mae05'].append(mae_values['mae05'])\n",
    "            metric_dict['mae08'].append(mae_values['mae08'])\n",
    "            metric_dict['mae1'].append(mae_values['mae1'])\n",
    "            metric_dict['rmse0'].append(rmse_values['rmse0'])\n",
    "            metric_dict['rmse05'].append(rmse_values['rmse05'])\n",
    "            metric_dict['rmse08'].append(rmse_values['rmse08'])\n",
    "            metric_dict['rmse1'].append(rmse_values['rmse1'])\n",
    "            metric_dict['crps0'].append(crps_values['crps0'])\n",
    "            metric_dict['crps05'].append(crps_values['crps05'])\n",
    "            metric_dict['crps08'].append(crps_values['crps08'])\n",
    "            metric_dict['crps1'].append(crps_values['crps1'])\n",
    "\n",
    "            # Save grid of images (for simplicity, only the first batch)\n",
    "            if batch_idx == 0:\n",
    "                save_grid_images(y_unorm, os.path.join(snapshots_dir, f'ground_truth_{batch_idx}.png'))\n",
    "                save_grid_images(mu0, os.path.join(snapshots_dir, f'prediction_mu0_{batch_idx}.png'))\n",
    "                save_grid_images(mu05, os.path.join(snapshots_dir, f'prediction_mu05_{batch_idx}.png'))\n",
    "                save_grid_images(mu08, os.path.join(snapshots_dir, f'prediction_mu08_{batch_idx}.png'))\n",
    "                save_grid_images(mu1, os.path.join(snapshots_dir, f'prediction_mu1_{batch_idx}.png'))\n",
    "                save_grid_images(x_unorm, os.path.join(snapshots_dir, f'low_res_{batch_idx}.png'))\n",
    "\n",
    "            print(f'Current RMSE - mu0: {rmse_values[\"rmse0\"]}, mu05: {rmse_values[\"rmse05\"]}, mu08: {rmse_values[\"rmse08\"]}, mu1: {rmse_values[\"rmse1\"]}')\n",
    "            print(f'Current MAE - mu0: {mae_values[\"mae0\"]}, mu05: {mae_values[\"mae05\"]}, mu08: {mae_values[\"mae08\"]}, mu1: {mae_values[\"mae1\"]}')\n",
    "\n",
    "            # if batch_idx ==1:\n",
    "            #     break\n",
    "     \n",
    "        # Plot absolute errors\n",
    "        predictions = inv_min_max_scaler(mu08)\n",
    "        plot_absolute_error_with_grid(y_unorm, predictions, os.path.join(results_dir, 'absolute_error_mu08.png'), os.path.join(results_dir, 'error_bars_mu08.png'))\n",
    "        \n",
    "        # Create mean metrics\n",
    "        mean_dict = {key: float(np.mean(value)) for key, value in metric_dict.items() if len(value) > 0}\n",
    "\n",
    "        # Save metrics to file\n",
    "        with open(os.path.join(results_dir, 'metrics.txt'), 'w') as f:\n",
    "            json.dump(mean_dict, f, indent=4)\n",
    "\n",
    "        print(mean_dict)\n",
    "\n",
    "    return mean_dict"
   ]
  },
  {
   "cell_type": "code",
   "execution_count": null,
   "id": "554ab046-8165-44d2-9318-26029f7534d1",
   "metadata": {},
   "outputs": [],
   "source": []
  },
  {
   "cell_type": "code",
   "execution_count": null,
   "id": "f0a8bc6b-680f-4948-9907-4974e3e7ac0c",
   "metadata": {},
   "outputs": [],
   "source": []
  },
  {
   "cell_type": "markdown",
   "id": "9d0b1ea6-82ef-47c3-b12c-5218d3d5229d",
   "metadata": {},
   "source": [
    "# Experiments: Comparing across upsampling factors - ERA5 TWC Dataset"
   ]
  },
  {
   "cell_type": "code",
   "execution_count": 86,
   "id": "336f9b86-94ba-4ba6-aa51-2a2bcb6c322b",
   "metadata": {},
   "outputs": [
    {
     "name": "stdout",
     "output_type": "stream",
     "text": [
      "Num of avail GPUs: 1\n"
     ]
    }
   ],
   "source": [
    "# load model\n",
    "print('Num of avail GPUs:', torch.cuda.device_count())"
   ]
  },
  {
   "cell_type": "code",
   "execution_count": null,
   "id": "aa0022d1-64a6-4afb-87ec-ecf73572ad87",
   "metadata": {},
   "outputs": [],
   "source": []
  },
  {
   "cell_type": "code",
   "execution_count": 87,
   "id": "b44a420e-e59f-4b93-9a70-7f6523e0089d",
   "metadata": {},
   "outputs": [
    {
     "data": {
      "text/plain": [
       "44"
      ]
     },
     "execution_count": 87,
     "metadata": {},
     "output_type": "execute_result"
    }
   ],
   "source": [
    "import gc\n",
    "gc.collect()"
   ]
  },
  {
   "cell_type": "markdown",
   "id": "12ada07c-0d18-42f8-9b9b-1e9f5bee2692",
   "metadata": {},
   "source": [
    "### Conditional Flow Model"
   ]
  },
  {
   "cell_type": "code",
   "execution_count": 88,
   "id": "533cb3e7-9282-4cf0-b5eb-31d39fc3a8e2",
   "metadata": {},
   "outputs": [
    {
     "name": "stdout",
     "output_type": "stream",
     "text": [
      "Loading NORESM ...\n",
      "Model loaded successfully.\n"
     ]
    },
    {
     "ename": "ValueError",
     "evalue": "Expected value argument (Tensor of shape (16, 2, 32, 32)) to be within the support (Real()) of the distribution Normal(loc: torch.Size([16, 2, 32, 32]), scale: torch.Size([16, 2, 32, 32])), but found invalid values:\ntensor([[[[ -2.8531,  -1.8565,  -4.9474,  ...,  -5.1441,  -3.7895,  -2.6504],\n          [ -1.4666,  -9.0082,  -5.0537,  ...,  -2.6090,  -2.0521,  -7.4684],\n          [ -5.5011,  -2.7631, -12.6036,  ...,  -9.0518,  -7.5882,  -5.5820],\n          ...,\n          [  2.3199,  -8.4555,   3.1608,  ...,  -7.2064,  -0.1835,  -5.6098],\n          [ -4.3608,   7.4318,  -8.3412,  ..., -23.8870,  -1.3626, -11.9411],\n          [ -5.5669,  -2.8719,  -3.6274,  ...,  -6.4111,  -6.7195,  -0.7489]],\n\n         [[  2.6130,   4.3976,   4.8835,  ...,   4.2637,   4.4178,   5.6809],\n          [  5.8052,   7.4479,   4.3797,  ...,  -5.0096,  -3.4491,   7.5848],\n          [  0.7716,  10.0519,  -0.8991,  ...,   2.3800,   0.3692,   6.4086],\n          ...,\n          [ -4.4254,  12.7513,  -2.8305,  ...,   2.8038,   2.3149,   3.8336],\n          [  6.2438,   2.2158,   9.6960,  ...,   1.5134,   9.5779,   5.9655],\n          [  0.4840,   3.2887,   3.3554,  ...,   1.7612,   3.0522,   5.5832]]],\n\n\n        [[[ -1.7819,  -3.4878,  -4.3767,  ...,  -2.9808,  -5.5558,  -1.5389],\n          [ -5.4747,  -6.3514, -14.8130,  ..., -11.7845,  -4.6223,  -3.7994],\n          [-11.1032,   2.4840,  -5.3373,  ...,  -8.5913,  -7.1416,  -6.6117],\n          ...,\n          [ -6.0343, -10.6484, -10.7132,  ...,  -7.0514,  -0.9711,  -2.3354],\n          [ -5.0827, -14.8527,  -3.3498,  ...,  -6.2528,  -5.0314,  -0.7319],\n          [ -2.1748,  -0.5565,  -6.4208,  ...,  -4.6979,  -2.4667,  -0.2956]],\n\n         [[  1.0722,   1.2292,   3.5777,  ...,   5.8074,   1.2225,   3.1777],\n          [  5.8520,  13.9785,   3.5354,  ...,  15.9058,   3.0071,   6.2426],\n          [  4.0273,   0.2579,  -1.1159,  ...,  -0.5796,   6.9450,   3.2687],\n          ...,\n          [  0.6103, -12.0217,  15.9887,  ...,  10.4693,  -0.7695,   6.4019],\n          [  2.5567,   7.0939,   7.3084,  ...,  13.2253,   3.7833,   8.1492],\n          [  2.6746,   8.3703,   9.8199,  ...,   9.3481,   2.6761,   3.0621]]],\n\n\n        [[[ -4.4502,  -2.2910,  -2.9158,  ...,   0.0710,  -0.4350,  -0.0686],\n          [ -4.1510,  -6.5786,  -7.4663,  ..., -10.6148,  -8.0242,   0.1664],\n          [ -2.1209,  -9.8215,  -0.4756,  ...,  -2.6369,  -8.7630,  -6.7317],\n          ...,\n          [ -7.5666,   9.3914,  -3.2642,  ...,  -6.4413, -12.6417,   1.8100],\n          [ -3.7987,  -7.6255,   4.6338,  ...,  -2.4590, -11.0432,  -8.1334],\n          [ -0.0996,  -2.6951,  -1.4699,  ...,  -6.2807,  -0.2689,  -8.5281]],\n\n         [[  1.7167,   4.3234,   0.6255,  ...,   6.9146,   2.7086,   1.4314],\n          [ -0.0461,   1.4185,   0.2239,  ...,   8.5057,  -3.2102,   3.8977],\n          [  8.2901,   6.1443,  12.7973,  ...,  -0.6933,  -1.7743,   3.0839],\n          ...,\n          [  1.4196,  -2.5763,  10.4697,  ...,   5.9352,   4.9695,   3.0303],\n          [  6.4853,  10.6256,  12.1640,  ...,  -1.8491,   2.1205,   4.2679],\n          [  2.5236,   6.7244,   0.4463,  ...,   4.1309,   3.7967,   3.5122]]],\n\n\n        ...,\n\n\n        [[[ -1.7376,  -2.9244,  -2.9505,  ...,  -2.4961,  -2.7657,  -2.8559],\n          [ -4.9414,  -5.0405,   2.3250,  ...,  -7.1556,   0.6989,  -4.7110],\n          [ -4.2085,  -4.2097,   3.3307,  ...,  -2.5674,   3.8135,  -1.8625],\n          ...,\n          [ -0.2778,  -1.4647,  -5.6854,  ..., -16.6538,  -7.4475,  -1.4178],\n          [ -7.8818,   1.1903,  -6.6895,  ...,  -3.8902, -10.4802,  -4.8867],\n          [ -4.4302,  -0.9961,  -6.9221,  ...,  -3.4541,   0.9788,  -4.5238]],\n\n         [[  1.6988,   7.0238,  10.4371,  ...,   3.2921,   0.4571,   3.4860],\n          [  4.5979,  -1.0557,   5.5274,  ...,  -0.6932,   9.6328,  -2.5700],\n          [ -1.3320,   5.0374,  18.3883,  ...,   2.6477,   5.8442,   1.3692],\n          ...,\n          [ 12.7734,   7.7482,  20.0715,  ...,  13.7685,  12.9700,   9.4674],\n          [  7.6521,   7.0565,   9.7643,  ...,  -0.8687,   1.3759,   1.9036],\n          [  4.2572,   6.9753,   6.7962,  ...,  10.3341,   4.6011,   1.6121]]],\n\n\n        [[[  0.2871,   2.2323,  -4.6417,  ...,  -2.9726,  -1.7112,   0.0862],\n          [ -3.7416,  -5.2797,  -8.9891,  ...,  -3.4477,   1.1634,  -5.6690],\n          [ -5.2510,  -7.0395,   0.4492,  ...,  -6.7980, -14.0847,  -2.2399],\n          ...,\n          [ -2.3018,   2.5609,  -8.8180,  ...,  -3.1461,   1.8974,  -0.3512],\n          [  0.1726,  -7.4978, -10.6811,  ...,   7.2575,  -2.9854,  -8.3222],\n          [ -0.3965,  -6.5727,  -5.2260,  ...,  -2.7547,  -6.4097,  -5.3638]],\n\n         [[  2.7031,  -0.4558,   4.5627,  ...,   0.5797,   3.7452,   0.9236],\n          [  2.7627,   5.3441,   8.5924,  ...,   3.2339,   5.2178,   1.2055],\n          [ -3.8004,   0.8786,   1.0068,  ...,  -1.4231,   9.3872,   5.8020],\n          ...,\n          [  1.3367,   0.8657,  11.0248,  ...,   4.9894,   5.7275,  12.4592],\n          [  4.4861,  10.7220,  16.7079,  ...,   6.6531,   8.1153,   6.5395],\n          [  1.4728,   9.1504,   4.2861,  ...,   6.9328,   0.4331,   5.6395]]],\n\n\n        [[[ -3.0412,  -4.2385,  -1.7096,  ...,  -0.0265,  -1.4211,  -1.8350],\n          [ -2.5681,  -3.3759,  -5.8907,  ...,  -0.9067, -11.2278,  -1.1852],\n          [ -7.6211,  -4.5425,  -7.8229,  ...,  -3.6171,  -2.5258,   0.6047],\n          ...,\n          [ -6.9923,   2.6634,  -3.6291,  ...,  -6.5121,  -9.1686,  -1.0681],\n          [ -5.3346,   1.4669, -14.3872,  ...,   0.3873,  -2.9598,  -1.0582],\n          [ -2.7377,  -6.3064,  -0.9650,  ...,  -7.2684,  -6.3406,  -2.7541]],\n\n         [[  2.1654,   4.1962,   3.8524,  ...,   6.8403,   4.4834,   2.0128],\n          [ -3.2488,   3.3131,   2.1501,  ...,  -0.8506,  -1.3401,   4.4985],\n          [  7.1274,   4.0683,   2.8054,  ...,   1.6751,  -0.9666,   9.4476],\n          ...,\n          [  4.5716,   8.7825,   1.6691,  ...,   0.3950,   7.8486,   7.6514],\n          [  3.5957,  -2.4685,   7.1247,  ...,   2.6457,   2.4141,   9.2042],\n          [  6.8098,  -0.4047,   5.3323,  ...,   5.6844,   6.8341,   4.4494]]]],\n       device='cuda:0')",
     "output_type": "error",
     "traceback": [
      "\u001b[0;31m---------------------------------------------------------------------------\u001b[0m",
      "\u001b[0;31mValueError\u001b[0m                                Traceback (most recent call last)",
      "\u001b[0;32m<ipython-input-88-e02d8793e36a>\u001b[0m in \u001b[0;36m<module>\u001b[0;34m\u001b[0m\n\u001b[1;32m      9\u001b[0m \u001b[0;31m# load the model\u001b[0m\u001b[0;34m\u001b[0m\u001b[0;34m\u001b[0m\u001b[0;34m\u001b[0m\u001b[0m\n\u001b[1;32m     10\u001b[0m \u001b[0mcnf2x\u001b[0m \u001b[0;34m=\u001b[0m \u001b[0mload_model\u001b[0m\u001b[0;34m(\u001b[0m\u001b[0mexp_dir\u001b[0m\u001b[0;34m,\u001b[0m \u001b[0mcnf2x\u001b[0m\u001b[0;34m,\u001b[0m \u001b[0mcnf_path\u001b[0m\u001b[0;34m)\u001b[0m\u001b[0;34m.\u001b[0m\u001b[0mto\u001b[0m\u001b[0;34m(\u001b[0m\u001b[0margs\u001b[0m\u001b[0;34m.\u001b[0m\u001b[0mdevice\u001b[0m\u001b[0;34m)\u001b[0m\u001b[0;34m\u001b[0m\u001b[0;34m\u001b[0m\u001b[0m\n\u001b[0;32m---> 11\u001b[0;31m \u001b[0mmetric_eval_flow\u001b[0m\u001b[0;34m(\u001b[0m\u001b[0mtest_loader\u001b[0m\u001b[0;34m,\u001b[0m \u001b[0mcnf2x\u001b[0m\u001b[0;34m,\u001b[0m \u001b[0mexp_dir\u001b[0m\u001b[0;34m,\u001b[0m \u001b[0margs\u001b[0m\u001b[0;34m)\u001b[0m\u001b[0;34m\u001b[0m\u001b[0;34m\u001b[0m\u001b[0m\n\u001b[0m",
      "\u001b[0;32m<ipython-input-85-025df3bef6c6>\u001b[0m in \u001b[0;36mmetric_eval_flow\u001b[0;34m(dataloader, model, exp_name, args)\u001b[0m\n\u001b[1;32m    111\u001b[0m             \u001b[0mmu0\u001b[0m\u001b[0;34m,\u001b[0m \u001b[0m_\u001b[0m\u001b[0;34m,\u001b[0m \u001b[0m_\u001b[0m \u001b[0;34m=\u001b[0m \u001b[0mmodel\u001b[0m\u001b[0;34m(\u001b[0m\u001b[0mxlr\u001b[0m\u001b[0;34m=\u001b[0m\u001b[0mx\u001b[0m\u001b[0;34m,\u001b[0m \u001b[0mreverse\u001b[0m\u001b[0;34m=\u001b[0m\u001b[0;32mTrue\u001b[0m\u001b[0;34m,\u001b[0m \u001b[0meps\u001b[0m\u001b[0;34m=\u001b[0m\u001b[0;36m0\u001b[0m\u001b[0;34m)\u001b[0m\u001b[0;34m\u001b[0m\u001b[0;34m\u001b[0m\u001b[0m\n\u001b[1;32m    112\u001b[0m             \u001b[0mmu05\u001b[0m\u001b[0;34m,\u001b[0m \u001b[0m_\u001b[0m\u001b[0;34m,\u001b[0m \u001b[0m_\u001b[0m \u001b[0;34m=\u001b[0m \u001b[0mmodel\u001b[0m\u001b[0;34m(\u001b[0m\u001b[0mxlr\u001b[0m\u001b[0;34m=\u001b[0m\u001b[0mx\u001b[0m\u001b[0;34m,\u001b[0m \u001b[0mreverse\u001b[0m\u001b[0;34m=\u001b[0m\u001b[0;32mTrue\u001b[0m\u001b[0;34m,\u001b[0m \u001b[0meps\u001b[0m\u001b[0;34m=\u001b[0m\u001b[0;36m0.5\u001b[0m\u001b[0;34m)\u001b[0m\u001b[0;34m\u001b[0m\u001b[0;34m\u001b[0m\u001b[0m\n\u001b[0;32m--> 113\u001b[0;31m             \u001b[0mmu08\u001b[0m\u001b[0;34m,\u001b[0m \u001b[0m_\u001b[0m\u001b[0;34m,\u001b[0m \u001b[0m_\u001b[0m \u001b[0;34m=\u001b[0m \u001b[0mmodel\u001b[0m\u001b[0;34m(\u001b[0m\u001b[0mxlr\u001b[0m\u001b[0;34m=\u001b[0m\u001b[0mx\u001b[0m\u001b[0;34m,\u001b[0m \u001b[0mreverse\u001b[0m\u001b[0;34m=\u001b[0m\u001b[0;32mTrue\u001b[0m\u001b[0;34m,\u001b[0m \u001b[0meps\u001b[0m\u001b[0;34m=\u001b[0m\u001b[0;36m0.8\u001b[0m\u001b[0;34m)\u001b[0m\u001b[0;34m\u001b[0m\u001b[0;34m\u001b[0m\u001b[0m\n\u001b[0m\u001b[1;32m    114\u001b[0m             \u001b[0mmu1\u001b[0m\u001b[0;34m,\u001b[0m \u001b[0m_\u001b[0m\u001b[0;34m,\u001b[0m \u001b[0m_\u001b[0m \u001b[0;34m=\u001b[0m \u001b[0mmodel\u001b[0m\u001b[0;34m(\u001b[0m\u001b[0mxlr\u001b[0m\u001b[0;34m=\u001b[0m\u001b[0mx\u001b[0m\u001b[0;34m,\u001b[0m \u001b[0mreverse\u001b[0m\u001b[0;34m=\u001b[0m\u001b[0;32mTrue\u001b[0m\u001b[0;34m,\u001b[0m \u001b[0meps\u001b[0m\u001b[0;34m=\u001b[0m\u001b[0;36m1.0\u001b[0m\u001b[0;34m)\u001b[0m\u001b[0;34m\u001b[0m\u001b[0;34m\u001b[0m\u001b[0m\n\u001b[1;32m    115\u001b[0m \u001b[0;34m\u001b[0m\u001b[0m\n",
      "\u001b[0;32m~/anaconda3/lib/python3.7/site-packages/torch/nn/modules/module.py\u001b[0m in \u001b[0;36m_call_impl\u001b[0;34m(self, *input, **kwargs)\u001b[0m\n\u001b[1;32m   1100\u001b[0m         if not (self._backward_hooks or self._forward_hooks or self._forward_pre_hooks or _global_backward_hooks\n\u001b[1;32m   1101\u001b[0m                 or _global_forward_hooks or _global_forward_pre_hooks):\n\u001b[0;32m-> 1102\u001b[0;31m             \u001b[0;32mreturn\u001b[0m \u001b[0mforward_call\u001b[0m\u001b[0;34m(\u001b[0m\u001b[0;34m*\u001b[0m\u001b[0minput\u001b[0m\u001b[0;34m,\u001b[0m \u001b[0;34m**\u001b[0m\u001b[0mkwargs\u001b[0m\u001b[0;34m)\u001b[0m\u001b[0;34m\u001b[0m\u001b[0;34m\u001b[0m\u001b[0m\n\u001b[0m\u001b[1;32m   1103\u001b[0m         \u001b[0;31m# Do not call functions when jit is used\u001b[0m\u001b[0;34m\u001b[0m\u001b[0;34m\u001b[0m\u001b[0;34m\u001b[0m\u001b[0m\n\u001b[1;32m   1104\u001b[0m         \u001b[0mfull_backward_hooks\u001b[0m\u001b[0;34m,\u001b[0m \u001b[0mnon_full_backward_hooks\u001b[0m \u001b[0;34m=\u001b[0m \u001b[0;34m[\u001b[0m\u001b[0;34m]\u001b[0m\u001b[0;34m,\u001b[0m \u001b[0;34m[\u001b[0m\u001b[0;34m]\u001b[0m\u001b[0;34m\u001b[0m\u001b[0;34m\u001b[0m\u001b[0m\n",
      "\u001b[0;32m~/Documents/clim-var-ds-cnf-own/models/architectures/srflow.py\u001b[0m in \u001b[0;36mforward\u001b[0;34m(self, x_hr, xlr, z, logdet, eps, reverse, use_stored)\u001b[0m\n\u001b[1;32m    198\u001b[0m \u001b[0;34m\u001b[0m\u001b[0m\n\u001b[1;32m    199\u001b[0m         \u001b[0;32melse\u001b[0m\u001b[0;34m:\u001b[0m\u001b[0;34m\u001b[0m\u001b[0;34m\u001b[0m\u001b[0m\n\u001b[0;32m--> 200\u001b[0;31m             \u001b[0;32mreturn\u001b[0m \u001b[0mself\u001b[0m\u001b[0;34m.\u001b[0m\u001b[0minverse_flow\u001b[0m\u001b[0;34m(\u001b[0m\u001b[0mz\u001b[0m\u001b[0;34m=\u001b[0m\u001b[0mz\u001b[0m\u001b[0;34m,\u001b[0m \u001b[0mxlr\u001b[0m\u001b[0;34m=\u001b[0m\u001b[0mxlr\u001b[0m\u001b[0;34m,\u001b[0m \u001b[0mlogdet\u001b[0m\u001b[0;34m=\u001b[0m\u001b[0mlogdet\u001b[0m\u001b[0;34m,\u001b[0m \u001b[0meps\u001b[0m\u001b[0;34m=\u001b[0m\u001b[0meps\u001b[0m\u001b[0;34m,\u001b[0m \u001b[0muse_stored\u001b[0m\u001b[0;34m=\u001b[0m\u001b[0muse_stored\u001b[0m\u001b[0;34m)\u001b[0m\u001b[0;34m\u001b[0m\u001b[0;34m\u001b[0m\u001b[0m\n\u001b[0m\u001b[1;32m    201\u001b[0m \u001b[0;34m\u001b[0m\u001b[0m\n\u001b[1;32m    202\u001b[0m     \u001b[0;32mdef\u001b[0m \u001b[0mnormalizing_flow\u001b[0m\u001b[0;34m(\u001b[0m\u001b[0mself\u001b[0m\u001b[0;34m,\u001b[0m \u001b[0mx_hr\u001b[0m\u001b[0;34m,\u001b[0m \u001b[0mx_lr\u001b[0m\u001b[0;34m,\u001b[0m \u001b[0meps\u001b[0m\u001b[0;34m)\u001b[0m\u001b[0;34m:\u001b[0m\u001b[0;34m\u001b[0m\u001b[0;34m\u001b[0m\u001b[0m\n",
      "\u001b[0;32m~/Documents/clim-var-ds-cnf-own/models/architectures/srflow.py\u001b[0m in \u001b[0;36minverse_flow\u001b[0;34m(self, z, xlr, eps, logdet, use_stored)\u001b[0m\n\u001b[1;32m    218\u001b[0m \u001b[0;34m\u001b[0m\u001b[0m\n\u001b[1;32m    219\u001b[0m     \u001b[0;32mdef\u001b[0m \u001b[0minverse_flow\u001b[0m\u001b[0;34m(\u001b[0m\u001b[0mself\u001b[0m\u001b[0;34m,\u001b[0m \u001b[0mz\u001b[0m\u001b[0;34m,\u001b[0m \u001b[0mxlr\u001b[0m\u001b[0;34m,\u001b[0m \u001b[0meps\u001b[0m\u001b[0;34m=\u001b[0m\u001b[0;36m1.0\u001b[0m\u001b[0;34m,\u001b[0m \u001b[0mlogdet\u001b[0m\u001b[0;34m=\u001b[0m\u001b[0;36m0\u001b[0m\u001b[0;34m,\u001b[0m \u001b[0muse_stored\u001b[0m\u001b[0;34m=\u001b[0m\u001b[0;32mFalse\u001b[0m\u001b[0;34m)\u001b[0m\u001b[0;34m:\u001b[0m\u001b[0;34m\u001b[0m\u001b[0;34m\u001b[0m\u001b[0m\n\u001b[0;32m--> 220\u001b[0;31m         \u001b[0my_hat\u001b[0m\u001b[0;34m,\u001b[0m \u001b[0mlogdet\u001b[0m\u001b[0;34m,\u001b[0m \u001b[0mlog_pz\u001b[0m \u001b[0;34m=\u001b[0m \u001b[0mself\u001b[0m\u001b[0;34m.\u001b[0m\u001b[0mflow\u001b[0m\u001b[0;34m.\u001b[0m\u001b[0mforward\u001b[0m\u001b[0;34m(\u001b[0m\u001b[0mz\u001b[0m\u001b[0;34m,\u001b[0m \u001b[0mlogdet\u001b[0m\u001b[0;34m=\u001b[0m\u001b[0mlogdet\u001b[0m\u001b[0;34m,\u001b[0m \u001b[0mxlr\u001b[0m\u001b[0;34m=\u001b[0m\u001b[0mxlr\u001b[0m\u001b[0;34m,\u001b[0m \u001b[0meps\u001b[0m\u001b[0;34m=\u001b[0m\u001b[0meps\u001b[0m\u001b[0;34m,\u001b[0m \u001b[0mreverse\u001b[0m\u001b[0;34m=\u001b[0m\u001b[0;32mTrue\u001b[0m\u001b[0;34m,\u001b[0m \u001b[0muse_stored\u001b[0m\u001b[0;34m=\u001b[0m\u001b[0muse_stored\u001b[0m\u001b[0;34m)\u001b[0m\u001b[0;34m\u001b[0m\u001b[0;34m\u001b[0m\u001b[0m\n\u001b[0m\u001b[1;32m    221\u001b[0m \u001b[0;34m\u001b[0m\u001b[0m\n\u001b[1;32m    222\u001b[0m         \u001b[0;32mif\u001b[0m \u001b[0mself\u001b[0m\u001b[0;34m.\u001b[0m\u001b[0mis_constraints\u001b[0m\u001b[0;34m:\u001b[0m\u001b[0;34m\u001b[0m\u001b[0;34m\u001b[0m\u001b[0m\n",
      "\u001b[0;32m~/Documents/clim-var-ds-cnf-own/models/architectures/srflow.py\u001b[0m in \u001b[0;36mforward\u001b[0;34m(self, z, xlr, logdet, logpz, eps, reverse, use_stored)\u001b[0m\n\u001b[1;32m    152\u001b[0m                         z, logdet, logpz = layer(z, lr_feat_map=lr_downsampled_feats[i + 1],\n\u001b[1;32m    153\u001b[0m                                                  \u001b[0mlogdet\u001b[0m\u001b[0;34m=\u001b[0m\u001b[0mlogdet\u001b[0m\u001b[0;34m,\u001b[0m \u001b[0mlogpz\u001b[0m\u001b[0;34m=\u001b[0m\u001b[0mlogpz\u001b[0m\u001b[0;34m,\u001b[0m \u001b[0meps\u001b[0m\u001b[0;34m=\u001b[0m\u001b[0meps\u001b[0m\u001b[0;34m,\u001b[0m\u001b[0;34m\u001b[0m\u001b[0;34m\u001b[0m\u001b[0m\n\u001b[0;32m--> 154\u001b[0;31m                                                  reverse=True, use_stored=use_stored)\n\u001b[0m\u001b[1;32m    155\u001b[0m \u001b[0;34m\u001b[0m\u001b[0m\n\u001b[1;32m    156\u001b[0m                     \u001b[0;32melif\u001b[0m \u001b[0misinstance\u001b[0m\u001b[0;34m(\u001b[0m\u001b[0mlayer\u001b[0m\u001b[0;34m,\u001b[0m \u001b[0mFlowStep\u001b[0m\u001b[0;34m)\u001b[0m\u001b[0;34m:\u001b[0m\u001b[0;34m\u001b[0m\u001b[0;34m\u001b[0m\u001b[0m\n",
      "\u001b[0;32m~/anaconda3/lib/python3.7/site-packages/torch/nn/modules/module.py\u001b[0m in \u001b[0;36m_call_impl\u001b[0;34m(self, *input, **kwargs)\u001b[0m\n\u001b[1;32m   1100\u001b[0m         if not (self._backward_hooks or self._forward_hooks or self._forward_pre_hooks or _global_backward_hooks\n\u001b[1;32m   1101\u001b[0m                 or _global_forward_hooks or _global_forward_pre_hooks):\n\u001b[0;32m-> 1102\u001b[0;31m             \u001b[0;32mreturn\u001b[0m \u001b[0mforward_call\u001b[0m\u001b[0;34m(\u001b[0m\u001b[0;34m*\u001b[0m\u001b[0minput\u001b[0m\u001b[0;34m,\u001b[0m \u001b[0;34m**\u001b[0m\u001b[0mkwargs\u001b[0m\u001b[0;34m)\u001b[0m\u001b[0;34m\u001b[0m\u001b[0;34m\u001b[0m\u001b[0m\n\u001b[0m\u001b[1;32m   1103\u001b[0m         \u001b[0;31m# Do not call functions when jit is used\u001b[0m\u001b[0;34m\u001b[0m\u001b[0;34m\u001b[0m\u001b[0;34m\u001b[0m\u001b[0m\n\u001b[1;32m   1104\u001b[0m         \u001b[0mfull_backward_hooks\u001b[0m\u001b[0;34m,\u001b[0m \u001b[0mnon_full_backward_hooks\u001b[0m \u001b[0;34m=\u001b[0m \u001b[0;34m[\u001b[0m\u001b[0;34m]\u001b[0m\u001b[0;34m,\u001b[0m \u001b[0;34m[\u001b[0m\u001b[0;34m]\u001b[0m\u001b[0;34m\u001b[0m\u001b[0;34m\u001b[0m\u001b[0m\n",
      "\u001b[0;32m~/Documents/clim-var-ds-cnf-own/models/transformations/modules_sr.py\u001b[0m in \u001b[0;36mforward\u001b[0;34m(self, x, lr_feat_map, eps, reverse, logpz, logdet, use_stored, prob_map)\u001b[0m\n\u001b[1;32m    356\u001b[0m                 \u001b[0mprior\u001b[0m \u001b[0;34m=\u001b[0m \u001b[0mtorch\u001b[0m\u001b[0;34m.\u001b[0m\u001b[0mdistributions\u001b[0m\u001b[0;34m.\u001b[0m\u001b[0mnormal\u001b[0m\u001b[0;34m.\u001b[0m\u001b[0mNormal\u001b[0m\u001b[0;34m(\u001b[0m\u001b[0mloc\u001b[0m\u001b[0;34m=\u001b[0m\u001b[0mmean\u001b[0m\u001b[0;34m,\u001b[0m \u001b[0mscale\u001b[0m\u001b[0;34m=\u001b[0m\u001b[0msigma\u001b[0m\u001b[0;34m*\u001b[0m\u001b[0meps\u001b[0m\u001b[0;34m+\u001b[0m\u001b[0;36m0.00001\u001b[0m\u001b[0;34m)\u001b[0m\u001b[0;34m\u001b[0m\u001b[0;34m\u001b[0m\u001b[0m\n\u001b[1;32m    357\u001b[0m                 \u001b[0mz2\u001b[0m \u001b[0;34m=\u001b[0m \u001b[0mprior\u001b[0m\u001b[0;34m.\u001b[0m\u001b[0msample\u001b[0m\u001b[0;34m(\u001b[0m\u001b[0;34m)\u001b[0m\u001b[0;34m.\u001b[0m\u001b[0mtype\u001b[0m\u001b[0;34m(\u001b[0m\u001b[0mtorch\u001b[0m\u001b[0;34m.\u001b[0m\u001b[0mFloatTensor\u001b[0m\u001b[0;34m)\u001b[0m\u001b[0;34m.\u001b[0m\u001b[0mcuda\u001b[0m\u001b[0;34m(\u001b[0m\u001b[0;34m)\u001b[0m\u001b[0;34m\u001b[0m\u001b[0;34m\u001b[0m\u001b[0m\n\u001b[0;32m--> 358\u001b[0;31m                 \u001b[0mlogpz\u001b[0m \u001b[0;34m+=\u001b[0m \u001b[0mprior\u001b[0m\u001b[0;34m.\u001b[0m\u001b[0mlog_prob\u001b[0m\u001b[0;34m(\u001b[0m\u001b[0mz2\u001b[0m\u001b[0;34m)\u001b[0m\u001b[0;34m.\u001b[0m\u001b[0msum\u001b[0m\u001b[0;34m(\u001b[0m\u001b[0mdim\u001b[0m\u001b[0;34m=\u001b[0m\u001b[0;34m[\u001b[0m\u001b[0;36m1\u001b[0m\u001b[0;34m,\u001b[0m\u001b[0;36m2\u001b[0m\u001b[0;34m,\u001b[0m\u001b[0;36m3\u001b[0m\u001b[0;34m]\u001b[0m\u001b[0;34m)\u001b[0m\u001b[0;34m\u001b[0m\u001b[0;34m\u001b[0m\u001b[0m\n\u001b[0m\u001b[1;32m    359\u001b[0m                 \u001b[0mz\u001b[0m \u001b[0;34m=\u001b[0m \u001b[0mtorch\u001b[0m\u001b[0;34m.\u001b[0m\u001b[0mcat\u001b[0m\u001b[0;34m(\u001b[0m\u001b[0;34m(\u001b[0m\u001b[0mx\u001b[0m\u001b[0;34m,\u001b[0m \u001b[0mz2\u001b[0m\u001b[0;34m)\u001b[0m\u001b[0;34m,\u001b[0m \u001b[0;36m1\u001b[0m\u001b[0;34m)\u001b[0m\u001b[0;34m\u001b[0m\u001b[0;34m\u001b[0m\u001b[0m\n\u001b[1;32m    360\u001b[0m \u001b[0;34m\u001b[0m\u001b[0m\n",
      "\u001b[0;32m~/anaconda3/lib/python3.7/site-packages/torch/distributions/normal.py\u001b[0m in \u001b[0;36mlog_prob\u001b[0;34m(self, value)\u001b[0m\n\u001b[1;32m     71\u001b[0m     \u001b[0;32mdef\u001b[0m \u001b[0mlog_prob\u001b[0m\u001b[0;34m(\u001b[0m\u001b[0mself\u001b[0m\u001b[0;34m,\u001b[0m \u001b[0mvalue\u001b[0m\u001b[0;34m)\u001b[0m\u001b[0;34m:\u001b[0m\u001b[0;34m\u001b[0m\u001b[0;34m\u001b[0m\u001b[0m\n\u001b[1;32m     72\u001b[0m         \u001b[0;32mif\u001b[0m \u001b[0mself\u001b[0m\u001b[0;34m.\u001b[0m\u001b[0m_validate_args\u001b[0m\u001b[0;34m:\u001b[0m\u001b[0;34m\u001b[0m\u001b[0;34m\u001b[0m\u001b[0m\n\u001b[0;32m---> 73\u001b[0;31m             \u001b[0mself\u001b[0m\u001b[0;34m.\u001b[0m\u001b[0m_validate_sample\u001b[0m\u001b[0;34m(\u001b[0m\u001b[0mvalue\u001b[0m\u001b[0;34m)\u001b[0m\u001b[0;34m\u001b[0m\u001b[0;34m\u001b[0m\u001b[0m\n\u001b[0m\u001b[1;32m     74\u001b[0m         \u001b[0;31m# compute the variance\u001b[0m\u001b[0;34m\u001b[0m\u001b[0;34m\u001b[0m\u001b[0;34m\u001b[0m\u001b[0m\n\u001b[1;32m     75\u001b[0m         \u001b[0mvar\u001b[0m \u001b[0;34m=\u001b[0m \u001b[0;34m(\u001b[0m\u001b[0mself\u001b[0m\u001b[0;34m.\u001b[0m\u001b[0mscale\u001b[0m \u001b[0;34m**\u001b[0m \u001b[0;36m2\u001b[0m\u001b[0;34m)\u001b[0m\u001b[0;34m\u001b[0m\u001b[0;34m\u001b[0m\u001b[0m\n",
      "\u001b[0;32m~/anaconda3/lib/python3.7/site-packages/torch/distributions/distribution.py\u001b[0m in \u001b[0;36m_validate_sample\u001b[0;34m(self, value)\u001b[0m\n\u001b[1;32m    287\u001b[0m         \u001b[0;32mif\u001b[0m \u001b[0;32mnot\u001b[0m \u001b[0mvalid\u001b[0m\u001b[0;34m.\u001b[0m\u001b[0mall\u001b[0m\u001b[0;34m(\u001b[0m\u001b[0;34m)\u001b[0m\u001b[0;34m:\u001b[0m\u001b[0;34m\u001b[0m\u001b[0;34m\u001b[0m\u001b[0m\n\u001b[1;32m    288\u001b[0m             raise ValueError(\n\u001b[0;32m--> 289\u001b[0;31m                 \u001b[0;34m\"Expected value argument \"\u001b[0m\u001b[0;34m\u001b[0m\u001b[0;34m\u001b[0m\u001b[0m\n\u001b[0m\u001b[1;32m    290\u001b[0m                 \u001b[0;34mf\"({type(value).__name__} of shape {tuple(value.shape)}) \"\u001b[0m\u001b[0;34m\u001b[0m\u001b[0;34m\u001b[0m\u001b[0m\n\u001b[1;32m    291\u001b[0m                 \u001b[0;34mf\"to be within the support ({repr(support)}) \"\u001b[0m\u001b[0;34m\u001b[0m\u001b[0;34m\u001b[0m\u001b[0m\n",
      "\u001b[0;31mValueError\u001b[0m: Expected value argument (Tensor of shape (16, 2, 32, 32)) to be within the support (Real()) of the distribution Normal(loc: torch.Size([16, 2, 32, 32]), scale: torch.Size([16, 2, 32, 32])), but found invalid values:\ntensor([[[[ -2.8531,  -1.8565,  -4.9474,  ...,  -5.1441,  -3.7895,  -2.6504],\n          [ -1.4666,  -9.0082,  -5.0537,  ...,  -2.6090,  -2.0521,  -7.4684],\n          [ -5.5011,  -2.7631, -12.6036,  ...,  -9.0518,  -7.5882,  -5.5820],\n          ...,\n          [  2.3199,  -8.4555,   3.1608,  ...,  -7.2064,  -0.1835,  -5.6098],\n          [ -4.3608,   7.4318,  -8.3412,  ..., -23.8870,  -1.3626, -11.9411],\n          [ -5.5669,  -2.8719,  -3.6274,  ...,  -6.4111,  -6.7195,  -0.7489]],\n\n         [[  2.6130,   4.3976,   4.8835,  ...,   4.2637,   4.4178,   5.6809],\n          [  5.8052,   7.4479,   4.3797,  ...,  -5.0096,  -3.4491,   7.5848],\n          [  0.7716,  10.0519,  -0.8991,  ...,   2.3800,   0.3692,   6.4086],\n          ...,\n          [ -4.4254,  12.7513,  -2.8305,  ...,   2.8038,   2.3149,   3.8336],\n          [  6.2438,   2.2158,   9.6960,  ...,   1.5134,   9.5779,   5.9655],\n          [  0.4840,   3.2887,   3.3554,  ...,   1.7612,   3.0522,   5.5832]]],\n\n\n        [[[ -1.7819,  -3.4878,  -4.3767,  ...,  -2.9808,  -5.5558,  -1.5389],\n          [ -5.4747,  -6.3514, -14.8130,  ..., -11.7845,  -4.6223,  -3.7994],\n          [-11.1032,   2.4840,  -5.3373,  ...,  -8.5913,  -7.1416,  -6.6117],\n          ...,\n          [ -6.0343, -10.6484, -10.7132,  ...,  -7.0514,  -0.9711,  -2.3354],\n          [ -5.0827, -14.8527,  -3.3498,  ...,  -6.2528,  -5.0314,  -0.7319],\n          [ -2.1748,  -0.5565,  -6.4208,  ...,  -4.6979,  -2.4667,  -0.2956]],\n\n         [[  1.0722,   1.2292,   3.5777,  ...,   5.8074,   1.2225,   3.1777],\n          [  5.8520,  13.9785,   3.5354,  ...,  15.9058,   3.0071,   6.2426],\n          [  4.0273,   0.2579,  -1.1159,  ...,  -0.5796,   6.9450,   3.2687],\n          ...,\n          [  0.6103, -12.0217,  15.9887,  ...,  10.4693,  -0.7695,   6.4019],\n          [  2.5567,   7.0939,   7.3084,  ...,  13.2253,   3.7833,   8.1492],\n          [  2.6746,   8.3703,   9.8199,  ...,   9.3481,   2.6761,   3.0621]]],\n\n\n        [[[ -4.4502,  -2.2910,  -2.9158,  ...,   0.0710,  -0.4350,  -0.0686],\n          [ -4.1510,  -6.5786,  -7.4663,  ..., -10.6148,  -8.0242,   0.1664],\n          [ -2.1209,  -9.8215,  -0.4756,  ...,  -2.6369,  -8.7630,  -6.7317],\n          ...,\n          [ -7.5666,   9.3914,  -3.2642,  ...,  -6.4413, -12.6417,   1.8100],\n          [ -3.7987,  -7.6255,   4.6338,  ...,  -2.4590, -11.0432,  -8.1334],\n          [ -0.0996,  -2.6951,  -1.4699,  ...,  -6.2807,  -0.2689,  -8.5281]],\n\n         [[  1.7167,   4.3234,   0.6255,  ...,   6.9146,   2.7086,   1.4314],\n          [ -0.0461,   1.4185,   0.2239,  ...,   8.5057,  -3.2102,   3.8977],\n          [  8.2901,   6.1443,  12.7973,  ...,  -0.6933,  -1.7743,   3.0839],\n          ...,\n          [  1.4196,  -2.5763,  10.4697,  ...,   5.9352,   4.9695,   3.0303],\n          [  6.4853,  10.6256,  12.1640,  ...,  -1.8491,   2.1205,   4.2679],\n          [  2.5236,   6.7244,   0.4463,  ...,   4.1309,   3.7967,   3.5122]]],\n\n\n        ...,\n\n\n        [[[ -1.7376,  -2.9244,  -2.9505,  ...,  -2.4961,  -2.7657,  -2.8559],\n          [ -4.9414,  -5.0405,   2.3250,  ...,  -7.1556,   0.6989,  -4.7110],\n          [ -4.2085,  -4.2097,   3.3307,  ...,  -2.5674,   3.8135,  -1.8625],\n          ...,\n          [ -0.2778,  -1.4647,  -5.6854,  ..., -16.6538,  -7.4475,  -1.4178],\n          [ -7.8818,   1.1903,  -6.6895,  ...,  -3.8902, -10.4802,  -4.8867],\n          [ -4.4302,  -0.9961,  -6.9221,  ...,  -3.4541,   0.9788,  -4.5238]],\n\n         [[  1.6988,   7.0238,  10.4371,  ...,   3.2921,   0.4571,   3.4860],\n          [  4.5979,  -1.0557,   5.5274,  ...,  -0.6932,   9.6328,  -2.5700],\n          [ -1.3320,   5.0374,  18.3883,  ...,   2.6477,   5.8442,   1.3692],\n          ...,\n          [ 12.7734,   7.7482,  20.0715,  ...,  13.7685,  12.9700,   9.4674],\n          [  7.6521,   7.0565,   9.7643,  ...,  -0.8687,   1.3759,   1.9036],\n          [  4.2572,   6.9753,   6.7962,  ...,  10.3341,   4.6011,   1.6121]]],\n\n\n        [[[  0.2871,   2.2323,  -4.6417,  ...,  -2.9726,  -1.7112,   0.0862],\n          [ -3.7416,  -5.2797,  -8.9891,  ...,  -3.4477,   1.1634,  -5.6690],\n          [ -5.2510,  -7.0395,   0.4492,  ...,  -6.7980, -14.0847,  -2.2399],\n          ...,\n          [ -2.3018,   2.5609,  -8.8180,  ...,  -3.1461,   1.8974,  -0.3512],\n          [  0.1726,  -7.4978, -10.6811,  ...,   7.2575,  -2.9854,  -8.3222],\n          [ -0.3965,  -6.5727,  -5.2260,  ...,  -2.7547,  -6.4097,  -5.3638]],\n\n         [[  2.7031,  -0.4558,   4.5627,  ...,   0.5797,   3.7452,   0.9236],\n          [  2.7627,   5.3441,   8.5924,  ...,   3.2339,   5.2178,   1.2055],\n          [ -3.8004,   0.8786,   1.0068,  ...,  -1.4231,   9.3872,   5.8020],\n          ...,\n          [  1.3367,   0.8657,  11.0248,  ...,   4.9894,   5.7275,  12.4592],\n          [  4.4861,  10.7220,  16.7079,  ...,   6.6531,   8.1153,   6.5395],\n          [  1.4728,   9.1504,   4.2861,  ...,   6.9328,   0.4331,   5.6395]]],\n\n\n        [[[ -3.0412,  -4.2385,  -1.7096,  ...,  -0.0265,  -1.4211,  -1.8350],\n          [ -2.5681,  -3.3759,  -5.8907,  ...,  -0.9067, -11.2278,  -1.1852],\n          [ -7.6211,  -4.5425,  -7.8229,  ...,  -3.6171,  -2.5258,   0.6047],\n          ...,\n          [ -6.9923,   2.6634,  -3.6291,  ...,  -6.5121,  -9.1686,  -1.0681],\n          [ -5.3346,   1.4669, -14.3872,  ...,   0.3873,  -2.9598,  -1.0582],\n          [ -2.7377,  -6.3064,  -0.9650,  ...,  -7.2684,  -6.3406,  -2.7541]],\n\n         [[  2.1654,   4.1962,   3.8524,  ...,   6.8403,   4.4834,   2.0128],\n          [ -3.2488,   3.3131,   2.1501,  ...,  -0.8506,  -1.3401,   4.4985],\n          [  7.1274,   4.0683,   2.8054,  ...,   1.6751,  -0.9666,   9.4476],\n          ...,\n          [  4.5716,   8.7825,   1.6691,  ...,   0.3950,   7.8486,   7.6514],\n          [  3.5957,  -2.4685,   7.1247,  ...,   2.6457,   2.4141,   9.2042],\n          [  6.8098,  -0.4047,   5.3323,  ...,   5.6844,   6.8341,   4.4494]]]],\n       device='cuda:0')"
     ]
    }
   ],
   "source": [
    "args.s = 2\n",
    "train_loader, val_loader, test_loader, args = dataloading.load_data(args)\n",
    "in_channels = next(iter(test_loader))[0].shape[1]\n",
    "height, width = next(iter(test_loader))[0].shape[2], next(iter(test_loader))[0].shape[3]\n",
    "cnf2x = srflow.SRFlow((in_channels, height, width), args.filter_size, args.L, args.K, args.bsz, 2, args.constraint, args.nb, args.condch, args.noscale, args.noscaletest)\n",
    "exp_dir = 'runs/srflow_era5-TCW_None_2024_06_29_13_26_09_2x/'\n",
    "cnf_path = '/home/christina/Documents/clim-var-ds-cnf-own/runs/srflow_era5-TCW_None_2024_06_29_13_26_09_2x/model_checkpoints/model_epoch_8_step_21500.tar'\n",
    "\n",
    "# load the model\n",
    "cnf2x = load_model(exp_dir, cnf2x, cnf_path).to(args.device)\n",
    "metric_eval_flow(test_loader, cnf2x, exp_dir, args)"
   ]
  },
  {
   "cell_type": "code",
   "execution_count": 1,
   "id": "40b6d0d8-40e7-4219-9ce2-3885c493c5cf",
   "metadata": {},
   "outputs": [
    {
     "ename": "NameError",
     "evalue": "name 'gc' is not defined",
     "output_type": "error",
     "traceback": [
      "\u001b[0;31m---------------------------------------------------------------------------\u001b[0m",
      "\u001b[0;31mNameError\u001b[0m                                 Traceback (most recent call last)",
      "\u001b[0;32m<ipython-input-1-35e5c8a5ab93>\u001b[0m in \u001b[0;36m<module>\u001b[0;34m\u001b[0m\n\u001b[0;32m----> 1\u001b[0;31m \u001b[0mgc\u001b[0m\u001b[0;34m.\u001b[0m\u001b[0mcollect\u001b[0m\u001b[0;34m(\u001b[0m\u001b[0;34m)\u001b[0m\u001b[0;34m\u001b[0m\u001b[0;34m\u001b[0m\u001b[0m\n\u001b[0m",
      "\u001b[0;31mNameError\u001b[0m: name 'gc' is not defined"
     ]
    }
   ],
   "source": [
    "gc.collect()"
   ]
  },
  {
   "cell_type": "code",
   "execution_count": null,
   "id": "ada11319-96bd-444c-843c-791a51369f2c",
   "metadata": {},
   "outputs": [],
   "source": [
    "args.s = 4\n",
    "train_loader, val_loader, test_loader, args = dataloading.load_data(args)\n",
    "in_channels = next(iter(test_loader))[0].shape[1]\n",
    "height, width = next(iter(test_loader))[0].shape[2], next(iter(test_loader))[0].shape[3]\n",
    "cnf4x = srflow.SRFlow((in_channels, height, width), args.filter_size, args.L, args.K, args.bsz, 4, args.constraint, args.nb, args.condch, args.noscale, args.noscaletest)\n",
    "exp_dir = 'runs/srflow_era5-TCW_None_2024_06_29_13_26_13_4x/'\n",
    "cnf_path = '/home/christina/Documents/clim-var-ds-cnf-own/runs/srflow_era5-TCW_None_2024_06_29_13_26_13_4x/model_checkpoints/model_epoch_10_step_26250.tar'\n",
    "# Load the model\n",
    "cnf4x = load_model(exp_dir, cnf4x, cnf_path).to(args.device)\n",
    "metric_eval_flow(test_loader, cnf4x, exp_dir, args)"
   ]
  },
  {
   "cell_type": "code",
   "execution_count": null,
   "id": "f6de1c2d-f081-48cb-95c0-07666a2257c3",
   "metadata": {},
   "outputs": [],
   "source": [
    "gc.collect()"
   ]
  },
  {
   "cell_type": "code",
   "execution_count": null,
   "id": "f49e969c-be78-4747-811d-7b6b46e2a6ae",
   "metadata": {},
   "outputs": [],
   "source": [
    "args.s = 8\n",
    "args.device = 'cuda'\n",
    "train_loader, val_loader, test_loader, args = dataloading.load_data(args)\n",
    "in_channels = next(iter(test_loader))[0].shape[1]\n",
    "height, width = next(iter(test_loader))[0].shape[2], next(iter(test_loader))[0].shape[3]\n",
    "cnf8x = srflow.SRFlow((in_channels, height, width), args.filter_size, args.L, args.K, args.bsz, args.s, args.constraint, args.nb, args.condch, args.noscale, args.noscaletest)\n",
    "exp_dir = 'runs/srflow_era5-TCW_None_2024_06_29_13_26_12_8x/'\n",
    "cnf_path = '/home/christina/Documents/clim-var-ds-cnf-own/runs/srflow_era5-TCW_None_2024_06_29_13_26_12_8x/model_checkpoints/model_epoch_4_step_11500.tar'\n",
    "# Load the model\n",
    "cnf8x = load_model(exp_dir, cnf8x, cnf_path).to(args.device)\n",
    "metric_eval_flow(test_loader, cnf8x, exp_dir, args)"
   ]
  },
  {
   "cell_type": "code",
   "execution_count": null,
   "id": "c584e157-a39b-4293-bb1c-a73a3d28f5b6",
   "metadata": {},
   "outputs": [],
   "source": [
    "gc.collect()"
   ]
  },
  {
   "cell_type": "code",
   "execution_count": null,
   "id": "5db1cdd4-2f74-48aa-ba38-7878fa28f4f0",
   "metadata": {},
   "outputs": [],
   "source": [
    "args.s = 16\n",
    "args.device = 'cuda'\n",
    "train_loader, val_loader, test_loader, args = dataloading.load_data(args)\n",
    "in_channels = next(iter(test_loader))[0].shape[1]\n",
    "height, width = next(iter(test_loader))[0].shape[2], next(iter(test_loader))[0].shape[3]\n",
    "cnf16x = srflow.SRFlow((in_channels, height, width), args.filter_size, args.L, args.K, args.bsz, 16, args.constraint, args.nb, args.condch, args.noscale, args.noscaletest)\n",
    "exp_dir = 'runs/srflow_era5-TCW_None_2024_06_29_13_26_12_16x/'\n",
    "cnf_path = '/home/christina/Documents/clim-var-ds-cnf-own/runs/srflow_era5-TCW_None_2024_06_29_13_26_12_16x/model_checkpoints/model_epoch_5_step_13750.tar'\n",
    "# Load the model\n",
    "cnf16x = load_model(exp_dir, cnf16x, cnf_path).to(args.device)\n",
    "metric_eval_flow(test_loader, cnf16x, exp_dir, args)"
   ]
  },
  {
   "cell_type": "code",
   "execution_count": null,
   "id": "1e3725bf-cc8e-41fb-ab3f-ce2088f40626",
   "metadata": {},
   "outputs": [],
   "source": [
    "gc.collect()"
   ]
  },
  {
   "cell_type": "markdown",
   "id": "db3f74fe-5503-4486-947c-dbda69ec1572",
   "metadata": {
    "jp-MarkdownHeadingCollapsed": true
   },
   "source": [
    "### Conditional GAN"
   ]
  },
  {
   "cell_type": "code",
   "execution_count": 52,
   "id": "327c47de-4d26-4577-a3bf-b4e80818bb0a",
   "metadata": {},
   "outputs": [],
   "source": [
    "import os\n",
    "import json\n",
    "import torch\n",
    "import torchvision.utils as vutils\n",
    "import sys\n",
    "sys.path.append(\"../../\")\n",
    "from utils import metrics\n",
    "\n",
    "def save_snapshot(tensor, path):\n",
    "    \"\"\"Save tensor as image in Viridis color scheme.\"\"\"\n",
    "    plt.figure()\n",
    "    plt.imshow(tensor[0,...].cpu().numpy().squeeze(), cmap='viridis')\n",
    "    plt.axis('off')\n",
    "    plt.savefig(path, bbox_inches='tight', pad_inches=0)\n",
    "    plt.close()\n",
    "\n",
    "\n",
    "def save_grid_images(tensor_batch, save_path, nrow=3, title=None):\n",
    "    \"\"\"Create and save a grid of images.\"\"\"\n",
    "    grid_img = vutils.make_grid(tensor_batch[0:9], nrow=nrow, normalize=True, scale_each=True)\n",
    "    np_grid = grid_img.cpu().numpy().transpose((1, 2, 0))\n",
    "    plt.figure(figsize=(10, 10))\n",
    "    plt.imshow(np_grid[:, :, 0], cmap='viridis')\n",
    "    plt.axis('off')\n",
    "    plt.title(title)\n",
    "    plt.tight_layout()\n",
    "    plt.savefig(save_path, dpi=300, bbox_inches='tight')\n",
    "    plt.close()\n",
    "    \n",
    "def metric_eval_gan(dataloader, model, exp_name, args):\n",
    "    metric_dict = {\n",
    "        'rmse0': [], 'mse0': [], 'mae0': [],\n",
    "        'rmse05': [], 'mse05': [], 'mae05': [],\n",
    "        'rmse08': [], 'mse08': [], 'mae08': [],\n",
    "        'rmse1': [], 'mse1': [], 'mae1': [],\n",
    "        'crps0': [], 'crps05': [],'crps08': [],'crps1': [],\n",
    "    }\n",
    "\n",
    "    # Create directories\n",
    "    results_dir = os.path.join(exp_name, 'experiment_results')\n",
    "    os.makedirs(results_dir, exist_ok=True)\n",
    "    \n",
    "    snapshots_dir = os.path.join(results_dir, 'snapshots')\n",
    "    os.makedirs(snapshots_dir, exist_ok=True)\n",
    "\n",
    "    model.eval()\n",
    "    with torch.no_grad():\n",
    "        for batch_idx, item in enumerate(dataloader):\n",
    "            \n",
    "            y = item[0].to(args.device)\n",
    "            x = item[1].to(args.device)\n",
    "\n",
    "            y_unorm = item[2].to(args.device)\n",
    "            x_unorm = item[3].to(args.device)\n",
    "\n",
    "            # Evaluate for different temperatures\n",
    "            mu0 = model(x, eps=0)\n",
    "            mu05 = model(x, eps=0.5)\n",
    "            mu08 = model(x, eps=0.8)\n",
    "            mu1 = model(x, eps=1.0)\n",
    "\n",
    "            # Compute and store MSE for each temperature\n",
    "            mse0 = metrics.MSE(inv_min_max_scaler(mu0), y_unorm).detach().cpu().numpy()\n",
    "            mse05 = metrics.MSE(inv_min_max_scaler(mu05), y_unorm).detach().cpu().numpy()\n",
    "            mse08 = metrics.MSE(inv_min_max_scaler(mu08), y_unorm).detach().cpu().numpy()\n",
    "            mse1 = metrics.MSE(inv_min_max_scaler(mu1), y_unorm).detach().cpu().numpy()\n",
    "            \n",
    "            metric_dict['mse0'].append(mse0)\n",
    "            metric_dict['mse05'].append(mse05)\n",
    "            metric_dict['mse08'].append(mse08)\n",
    "            metric_dict['mse1'].append(mse1)\n",
    "\n",
    "            # Compute and store MAE for each temperature\n",
    "            mae0 = metrics.MAE(inv_min_max_scaler(mu0), y_unorm).detach().cpu().numpy()\n",
    "            mae05 = metrics.MAE(inv_min_max_scaler(mu05), y_unorm).detach().cpu().numpy()\n",
    "            mae08 = metrics.MAE(inv_min_max_scaler(mu08), y_unorm).detach().cpu().numpy()\n",
    "            mae1 = metrics.MAE(inv_min_max_scaler(mu1), y_unorm).detach().cpu().numpy()\n",
    "\n",
    "            metric_dict['mae0'].append(mae0)\n",
    "            metric_dict['mae05'].append(mae05)\n",
    "            metric_dict['mae08'].append(mae08)\n",
    "            metric_dict['mae1'].append(mae1)\n",
    "\n",
    "            # Compute and store RMSE for each temperature\n",
    "            rmse0 = metrics.RMSE(inv_min_max_scaler(mu0), y_unorm).detach().cpu().numpy()\n",
    "            rmse05 = metrics.RMSE(inv_min_max_scaler(mu05), y_unorm).detach().cpu().numpy()\n",
    "            rmse08 = metrics.RMSE(inv_min_max_scaler(mu08), y_unorm).detach().cpu().numpy()\n",
    "            rmse1 = metrics.RMSE(inv_min_max_scaler(mu1), y_unorm).detach().cpu().numpy()\n",
    "\n",
    "            metric_dict['rmse0'].append(rmse0)\n",
    "            metric_dict['rmse05'].append(rmse05)\n",
    "            metric_dict['rmse08'].append(rmse08)\n",
    "            metric_dict['rmse1'].append(rmse1)\n",
    "\n",
    "             # Calculate CRPS for ensemble\n",
    "            metric_dict['crps0'].append(crps_ensemble(y_unorm, inv_min_max_scaler(mu0)))\n",
    "            metric_dict['crps05'].append(crps_ensemble(y_unorm, inv_min_max_scaler(mu05)))\n",
    "            metric_dict['crps08'].append(crps_ensemble(y_unorm, inv_min_max_scaler(mu08)))\n",
    "            metric_dict['crps1'].append(crps_ensemble(y_unorm, inv_min_max_scaler(mu1)))\n",
    "            \n",
    "            # Save grid of images for visualization (adjust as needed)\n",
    "            if batch_idx == 0:  # Save only for the first batch for simplicity\n",
    "                # Save snapshots\n",
    "                save_grid_images(y_unorm, os.path.join(snapshots_dir, f'ground_truth_{batch_idx}.png'))\n",
    "                save_grid_images(mu0, os.path.join(snapshots_dir, f'prediction_mu0_{batch_idx}.png'))\n",
    "                save_grid_images(mu05, os.path.join(snapshots_dir, f'prediction_mu05_{batch_idx}.png'))\n",
    "                save_grid_images(mu08, os.path.join(snapshots_dir, f'prediction_mu08_{batch_idx}.png'))\n",
    "                save_grid_images(mu1, os.path.join(snapshots_dir, f'prediction_mu1_{batch_idx}.png'))\n",
    "                save_grid_images(x_unorm, os.path.join(snapshots_dir, f'low_res_{batch_idx}.png'))\n",
    "                \n",
    "            print(f'Current RMSE - mu0: {rmse0}, mu05: {rmse05}, mu08: {rmse08}, mu1: {rmse1}')\n",
    "            print(f'Current MAE - mu0: {mae0}, mu05: {mae05}, mu08: {mae08}, mu1: {mae1}')\n",
    "            # print(f'Current CRPS - mu0:{crps0}, mu05: {crps05}, mu08: {crps08}, m1: {crps1}')\n",
    "\n",
    "            if batch_idx == 2:\n",
    "                break\n",
    "    \n",
    "    # Plot absolute errors\n",
    "    predictions = inv_min_max_scaler(mu08)\n",
    "    plot_absolute_error_with_grid(y_unorm, predictions, os.path.join(results_dir, 'absolute_error_mu08.png'), os.path.join(results_dir, 'error_bars_mu08.png'))\n",
    "       \n",
    "    # Create a string representation of the metric_dict\n",
    "    mean_dict = {}\n",
    "    for key, value in metric_dict.items():\n",
    "        if len(value) > 0:\n",
    "            mean_dict[key] = np.mean(value)   \n",
    "            \n",
    "    metric_str = \"\\n\".join([f\"{key}: {value}\" for key, value in mean_dict.items()])\n",
    "\n",
    "    # Save metric_dict to a text file\n",
    "    with open(os.path.join(results_dir, 'metrics.txt'), 'w') as f:\n",
    "        json.dump(metric_str, f, indent=4)\n",
    "        \n",
    "    print(mean_dict)\n",
    "    return mean_dict"
   ]
  },
  {
   "cell_type": "code",
   "execution_count": 91,
   "id": "8915b8f2-1f71-4aac-b446-6d75d75fa065",
   "metadata": {},
   "outputs": [
    {
     "name": "stdout",
     "output_type": "stream",
     "text": [
      "Loading ERA5 TCW ...\n",
      "Model loaded successfully.\n",
      "Current RMSE - mu0: 0.44392889738082886, mu05: 0.4507226347923279, mu08: 0.462285578250885, mu1: 0.4773579239845276\n",
      "Current MAE - mu0: 0.23985344171524048, mu05: 0.24803069233894348, mu08: 0.2599413990974426, mu1: 0.2741978168487549\n",
      "Current RMSE - mu0: 0.5369295477867126, mu05: 0.5400278568267822, mu08: 0.5484990477561951, mu1: 0.5570924282073975\n",
      "Current MAE - mu0: 0.29851919412612915, mu05: 0.30288976430892944, mu08: 0.3110339343547821, mu1: 0.3204658627510071\n",
      "Current RMSE - mu0: 0.48289233446121216, mu05: 0.4892057776451111, mu08: 0.5027265548706055, mu1: 0.5172818303108215\n",
      "Current MAE - mu0: 0.25939661264419556, mu05: 0.26741722226142883, mu08: 0.2800706624984741, mu1: 0.2948504686355591\n",
      "{'rmse0': 0.48791695, 'mse0': 0.32238808, 'mae0': 0.26592308, 'rmse05': 0.49331877, 'mse05': 0.3259026, 'mae05': 0.27277923, 'rmse08': 0.5045037, 'mse08': 0.33466363, 'mae08': 0.283682, 'rmse1': 0.51724404, 'mse1': 0.34356046, 'mae1': 0.2965047, 'crps0': 0.14127511, 'crps05': 0.14377257, 'crps08': 0.14578807, 'crps1': 0.14809906}\n"
     ]
    },
    {
     "data": {
      "text/plain": [
       "{'rmse0': 0.48791695,\n",
       " 'mse0': 0.32238808,\n",
       " 'mae0': 0.26592308,\n",
       " 'rmse05': 0.49331877,\n",
       " 'mse05': 0.3259026,\n",
       " 'mae05': 0.27277923,\n",
       " 'rmse08': 0.5045037,\n",
       " 'mse08': 0.33466363,\n",
       " 'mae08': 0.283682,\n",
       " 'rmse1': 0.51724404,\n",
       " 'mse1': 0.34356046,\n",
       " 'mae1': 0.2965047,\n",
       " 'crps0': 0.14127511,\n",
       " 'crps05': 0.14377257,\n",
       " 'crps08': 0.14578807,\n",
       " 'crps1': 0.14809906}"
      ]
     },
     "execution_count": 91,
     "metadata": {},
     "output_type": "execute_result"
    }
   ],
   "source": [
    "args.s = 2\n",
    "train_loader, val_loader, test_loader, args = dataloading.load_data(args)\n",
    "in_channels = next(iter(test_loader))[0].shape[1]\n",
    "height, width = next(iter(test_loader))[0].shape[2], next(iter(test_loader))[0].shape[3]\n",
    "srgan2x = srgan.Generator(in_channels, out_nc=1, height=height, width=width, nf=128, s=args.s, nb=1)\n",
    "exp_dir = 'runs/SRGANruns/srgan_era5-TCW_None__2024_07_13_14_29_28_2x/'\n",
    "gan_path = '/home/christina/Documents/clim-var-ds-cnf-own/runs/SRGANruns/srgan_era5-TCW_None__2024_07_13_14_29_28_2x/model_checkpoints/generator_epoch_13_step_34000.tar'\n",
    "# Load the model\n",
    "srgan2x = load_model(exp_dir, srgan2x, gan_path).to(args.device)\n",
    "metric_eval_gan(test_loader, srgan2x, exp_dir, args)"
   ]
  },
  {
   "cell_type": "code",
   "execution_count": 92,
   "id": "8fc75cc2-9686-48e8-90c2-096174bf910a",
   "metadata": {},
   "outputs": [
    {
     "name": "stdout",
     "output_type": "stream",
     "text": [
      "Loading ERA5 TCW ...\n",
      "Model loaded successfully.\n",
      "Current RMSE - mu0: 0.7338263988494873, mu05: 0.7398586273193359, mu08: 0.7587447166442871, mu1: 0.777892529964447\n",
      "Current MAE - mu0: 0.446969211101532, mu05: 0.4507952630519867, mu08: 0.4637916684150696, mu1: 0.4810130298137665\n",
      "Current RMSE - mu0: 0.9192687273025513, mu05: 0.924476146697998, mu08: 0.9367569088935852, mu1: 0.9539824724197388\n",
      "Current MAE - mu0: 0.5594886541366577, mu05: 0.5634498596191406, mu08: 0.5734217166900635, mu1: 0.5872389078140259\n",
      "Current RMSE - mu0: 0.7814721465110779, mu05: 0.7875902056694031, mu08: 0.8047618269920349, mu1: 0.8229349851608276\n",
      "Current MAE - mu0: 0.47751161456108093, mu05: 0.4818885922431946, mu08: 0.49502676725387573, mu1: 0.5092750787734985\n",
      "{'rmse0': 0.8115224, 'mse0': 0.86444336, 'mae0': 0.49465647, 'rmse05': 0.81730837, 'mse05': 0.87228394, 'mae05': 0.49871126, 'rmse08': 0.8334212, 'mse08': 0.89187956, 'mae08': 0.5107467, 'rmse1': 0.8516033, 'mse1': 0.9152675, 'mae1': 0.52584237, 'crps0': 0.24559386, 'crps05': 0.25030568, 'crps08': 0.25956845, 'crps1': 0.27146026}\n"
     ]
    },
    {
     "data": {
      "text/plain": [
       "{'rmse0': 0.8115224,\n",
       " 'mse0': 0.86444336,\n",
       " 'mae0': 0.49465647,\n",
       " 'rmse05': 0.81730837,\n",
       " 'mse05': 0.87228394,\n",
       " 'mae05': 0.49871126,\n",
       " 'rmse08': 0.8334212,\n",
       " 'mse08': 0.89187956,\n",
       " 'mae08': 0.5107467,\n",
       " 'rmse1': 0.8516033,\n",
       " 'mse1': 0.9152675,\n",
       " 'mae1': 0.52584237,\n",
       " 'crps0': 0.24559386,\n",
       " 'crps05': 0.25030568,\n",
       " 'crps08': 0.25956845,\n",
       " 'crps1': 0.27146026}"
      ]
     },
     "execution_count": 92,
     "metadata": {},
     "output_type": "execute_result"
    }
   ],
   "source": [
    "args.s = 4\n",
    "train_loader, val_loader, test_loader, args = dataloading.load_data(args)\n",
    "in_channels = next(iter(test_loader))[0].shape[1]\n",
    "height, width = next(iter(test_loader))[0].shape[2], next(iter(test_loader))[0].shape[3]\n",
    "srgan4x = srgan.Generator(in_channels, out_nc=1, height=height, width=width, nf=128, s=args.s, nb=1)\n",
    "exp_dir = 'runs/SRGANruns/srgan_era5-TCW_None__2024_07_13_14_29_33_4x/'\n",
    "gan_path = '/home/christina/Documents/clim-var-ds-cnf-own/runs/SRGANruns/srgan_era5-TCW_None__2024_07_13_14_29_33_4x/model_checkpoints/generator_epoch_11_step_28250.tar'\n",
    "# Load the model\n",
    "srgan4x = load_model(exp_dir, srgan4x, gan_path).to(args.device)\n",
    "metric_eval_gan(test_loader, srgan4x, exp_dir, args)"
   ]
  },
  {
   "cell_type": "code",
   "execution_count": 93,
   "id": "fd0db310-8f71-4c37-b060-3880fa8d8844",
   "metadata": {},
   "outputs": [
    {
     "name": "stdout",
     "output_type": "stream",
     "text": [
      "Loading ERA5 TCW ...\n",
      "Model loaded successfully.\n",
      "Current RMSE - mu0: 1.410731315612793, mu05: 1.4458110332489014, mu08: 1.5120079517364502, mu1: 1.5991230010986328\n",
      "Current MAE - mu0: 0.913824200630188, mu05: 0.9370038509368896, mu08: 0.981981635093689, mu1: 1.0293774604797363\n",
      "Current RMSE - mu0: 1.7806434631347656, mu05: 1.7995271682739258, mu08: 1.8555786609649658, mu1: 1.887093424797058\n",
      "Current MAE - mu0: 1.168839454650879, mu05: 1.1808850765228271, mu08: 1.213746190071106, mu1: 1.2455253601074219\n",
      "Current RMSE - mu0: 1.4909443855285645, mu05: 1.528975248336792, mu08: 1.5871379375457764, mu1: 1.6607849597930908\n",
      "Current MAE - mu0: 0.9728440642356873, mu05: 0.99462890625, mu08: 1.034603476524353, mu1: 1.0830531120300293\n",
      "{'rmse0': 1.560773, 'mse0': 2.956913, 'mae0': 1.0185026, 'rmse05': 1.5914378, 'mse05': 3.0359204, 'mae05': 1.037506, 'rmse08': 1.6515747, 'mse08': 3.1983001, 'mae08': 1.0767771, 'rmse1': 1.7156671, 'mse1': 3.3827927, 'mae1': 1.1193186, 'crps0': 0.49616468, 'crps05': 0.505349, 'crps08': 0.5288534, 'crps1': 0.5538419}\n"
     ]
    },
    {
     "data": {
      "text/plain": [
       "{'rmse0': 1.560773,\n",
       " 'mse0': 2.956913,\n",
       " 'mae0': 1.0185026,\n",
       " 'rmse05': 1.5914378,\n",
       " 'mse05': 3.0359204,\n",
       " 'mae05': 1.037506,\n",
       " 'rmse08': 1.6515747,\n",
       " 'mse08': 3.1983001,\n",
       " 'mae08': 1.0767771,\n",
       " 'rmse1': 1.7156671,\n",
       " 'mse1': 3.3827927,\n",
       " 'mae1': 1.1193186,\n",
       " 'crps0': 0.49616468,\n",
       " 'crps05': 0.505349,\n",
       " 'crps08': 0.5288534,\n",
       " 'crps1': 0.5538419}"
      ]
     },
     "execution_count": 93,
     "metadata": {},
     "output_type": "execute_result"
    }
   ],
   "source": [
    "args.s = 8\n",
    "train_loader, val_loader, test_loader, args = dataloading.load_data(args)\n",
    "in_channels = next(iter(test_loader))[0].shape[1]\n",
    "height, width = next(iter(test_loader))[0].shape[2], next(iter(test_loader))[0].shape[3]\n",
    "srgan8x = srgan.Generator(in_channels, out_nc=1, height=height, width=width, nf=128, s=args.s, nb=1)\n",
    "exp_dir = 'runs/SRGANruns/srgan_era5-TCW_None__2024_07_13_14_29_38_8x/'\n",
    "gan_path = '/home/christina/Documents/clim-var-ds-cnf-own/runs/SRGANruns/srgan_era5-TCW_None__2024_07_13_14_29_38_8x/model_checkpoints/generator_epoch_11_step_30000.tar'\n",
    "# Load the model\n",
    "srgan8x = load_model(exp_dir, srgan8x, gan_path).to(args.device)\n",
    "metric_eval_gan(test_loader, srgan8x, exp_dir, args)"
   ]
  },
  {
   "cell_type": "code",
   "execution_count": 94,
   "id": "45910044-096c-4fa4-8466-3b3ea6f2cc0a",
   "metadata": {},
   "outputs": [
    {
     "name": "stdout",
     "output_type": "stream",
     "text": [
      "Loading ERA5 TCW ...\n",
      "Model loaded successfully.\n",
      "Current RMSE - mu0: 2.1359100341796875, mu05: 2.1393063068389893, mu08: 2.1428451538085938, mu1: 2.1576788425445557\n",
      "Current MAE - mu0: 1.4943206310272217, mu05: 1.4971261024475098, mu08: 1.4999451637268066, mu1: 1.5148606300354004\n",
      "Current RMSE - mu0: 2.81673526763916, mu05: 2.8172407150268555, mu08: 2.8217549324035645, mu1: 2.823082447052002\n",
      "Current MAE - mu0: 1.9477269649505615, mu05: 1.9482349157333374, mu08: 1.9527755975723267, mu1: 1.9545542001724243\n",
      "Current RMSE - mu0: 2.197573661804199, mu05: 2.2010083198547363, mu08: 2.212495803833008, mu1: 2.2246718406677246\n",
      "Current MAE - mu0: 1.5478706359863281, mu05: 1.5514025688171387, mu08: 1.5587632656097412, mu1: 1.5706472396850586\n",
      "{'rmse0': 2.3834064, 'mse0': 6.884238, 'mae0': 1.6633061, 'rmse05': 2.3858516, 'mse05': 6.891504, 'mae05': 1.6655879, 'rmse08': 2.3923652, 'mse08': 6.9139276, 'mae08': 1.6704947, 'rmse1': 2.4018111, 'mse1': 6.9380417, 'mae1': 1.6800207, 'crps0': 0.8809101, 'crps05': 0.87483007, 'crps08': 0.8740557, 'crps1': 0.86938554}\n"
     ]
    },
    {
     "data": {
      "text/plain": [
       "{'rmse0': 2.3834064,\n",
       " 'mse0': 6.884238,\n",
       " 'mae0': 1.6633061,\n",
       " 'rmse05': 2.3858516,\n",
       " 'mse05': 6.891504,\n",
       " 'mae05': 1.6655879,\n",
       " 'rmse08': 2.3923652,\n",
       " 'mse08': 6.9139276,\n",
       " 'mae08': 1.6704947,\n",
       " 'rmse1': 2.4018111,\n",
       " 'mse1': 6.9380417,\n",
       " 'mae1': 1.6800207,\n",
       " 'crps0': 0.8809101,\n",
       " 'crps05': 0.87483007,\n",
       " 'crps08': 0.8740557,\n",
       " 'crps1': 0.86938554}"
      ]
     },
     "execution_count": 94,
     "metadata": {},
     "output_type": "execute_result"
    }
   ],
   "source": [
    "args.s = 16\n",
    "train_loader, val_loader, test_loader, args = dataloading.load_data(args)\n",
    "in_channels = next(iter(test_loader))[0].shape[1]\n",
    "height, width = next(iter(test_loader))[0].shape[2], next(iter(test_loader))[0].shape[3]\n",
    "srgan16x = srgan.Generator(in_channels, out_nc=1, height=height, width=width, nf=128, s=args.s, nb=1)\n",
    "\n",
    "exp_dir = 'runs/SRGANruns/srgan_era5-TCW_None__2024_07_20_14_56_31_16x/'\n",
    "gan_path = '/home/christina/Documents/clim-var-ds-cnf-own/runs/SRGANruns/srgan_era5-TCW_None__2024_07_20_14_56_31_16x/model_checkpoints/generator_epoch_13_step_34250.tar'\n",
    "\n",
    "# Load the model\n",
    "srgan16x = load_model(exp_dir, srgan16x, gan_path).to(args.device)\n",
    "metric_eval_gan(test_loader, srgan16x, exp_dir, args)"
   ]
  },
  {
   "cell_type": "code",
   "execution_count": null,
   "id": "07b2c4ec-d39d-45ed-beae-d65a3666d29b",
   "metadata": {},
   "outputs": [],
   "source": []
  },
  {
   "cell_type": "markdown",
   "id": "2698fbed-7559-4c1e-9fdb-100977706d63",
   "metadata": {},
   "source": [
    "# Experiments: Comparing across upsampling factors - NORESM Dataset\n"
   ]
  },
  {
   "cell_type": "code",
   "execution_count": null,
   "id": "92f0cc4b-3d76-48ba-a86d-4d18706e6750",
   "metadata": {},
   "outputs": [],
   "source": []
  },
  {
   "cell_type": "code",
   "execution_count": 129,
   "id": "f234ea95-4ac7-4eae-b59d-ab03c1176609",
   "metadata": {},
   "outputs": [
    {
     "data": {
      "text/plain": [
       "22"
      ]
     },
     "execution_count": 129,
     "metadata": {},
     "output_type": "execute_result"
    }
   ],
   "source": [
    "import gc\n",
    "gc.collect()"
   ]
  },
  {
   "cell_type": "code",
   "execution_count": 130,
   "id": "31c2e2e8-369f-4b50-a0f4-de651e210026",
   "metadata": {},
   "outputs": [],
   "source": [
    "# use min-max due to non-gaussian distribution of data and outlier handling\n",
    "def min_max_scaler(x, min_val=209.43, max_val=317.14):\n",
    "    if min_val is None:\n",
    "        min_val = x.min()\n",
    "    if max_val is None:\n",
    "        max_val = x.max()\n",
    "    scaled_x = (x - min_val) / (max_val - min_val)\n",
    "    return scaled_x, min_val, max_val\n",
    "\n",
    "def inv_min_max_scaler(scaled_x, min_val=209.43, max_val=317.14):\n",
    "    x = scaled_x * (max_val - min_val) + min_val\n",
    "    return x"
   ]
  },
  {
   "cell_type": "markdown",
   "id": "c67ed119-201f-4b55-b842-aa3702f7296f",
   "metadata": {},
   "source": [
    "### Conditional Flow Model"
   ]
  },
  {
   "cell_type": "markdown",
   "id": "7d2a5a8c-a6d9-4d3d-8b1a-6ec0b71dfad2",
   "metadata": {},
   "source": [
    "#### 2x"
   ]
  },
  {
   "cell_type": "code",
   "execution_count": 131,
   "id": "00263285-0fd1-47f9-bff8-5d4394db9ced",
   "metadata": {},
   "outputs": [
    {
     "name": "stdout",
     "output_type": "stream",
     "text": [
      "Loading NORESM ...\n",
      "Model loaded successfully.\n",
      "Current RMSE - mu0: 0.2095482349395752, mu05: 0.2900233268737793, mu08: 0.38767367601394653, mu1: 0.45791861414909363\n",
      "Current MAE - mu0: 0.13159510493278503, mu05: 0.2002725899219513, mu08: 0.2717641592025757, mu1: 0.3216250538825989\n",
      "Current RMSE - mu0: 0.24701203405857086, mu05: 0.32003170251846313, mu08: 0.4159420132637024, mu1: 0.4850046634674072\n",
      "Current MAE - mu0: 0.1546044647693634, mu05: 0.21751341223716736, mu08: 0.2900071144104004, mu1: 0.34164494276046753\n",
      "Current RMSE - mu0: 0.20769724249839783, mu05: 0.2918635606765747, mu08: 0.38195353746414185, mu1: 0.4540051817893982\n",
      "Current MAE - mu0: 0.13011255860328674, mu05: 0.20029029250144958, mu08: 0.27007824182510376, mu1: 0.32142117619514465\n",
      "Current RMSE - mu0: 0.2087765634059906, mu05: 0.29077938199043274, mu08: 0.3788143992424011, mu1: 0.4537190794944763\n",
      "Current MAE - mu0: 0.13128821551799774, mu05: 0.19999253749847412, mu08: 0.2684895098209381, mu1: 0.32135337591171265\n"
     ]
    },
    {
     "ename": "KeyboardInterrupt",
     "evalue": "",
     "output_type": "error",
     "traceback": [
      "\u001b[0;31m---------------------------------------------------------------------------\u001b[0m",
      "\u001b[0;31mKeyboardInterrupt\u001b[0m                         Traceback (most recent call last)",
      "\u001b[0;32m<ipython-input-131-3a48fa8ebde4>\u001b[0m in \u001b[0;36m<module>\u001b[0;34m\u001b[0m\n\u001b[1;32m      9\u001b[0m \u001b[0;31m# load the model\u001b[0m\u001b[0;34m\u001b[0m\u001b[0;34m\u001b[0m\u001b[0;34m\u001b[0m\u001b[0m\n\u001b[1;32m     10\u001b[0m \u001b[0mcnf2x\u001b[0m \u001b[0;34m=\u001b[0m \u001b[0mload_model\u001b[0m\u001b[0;34m(\u001b[0m\u001b[0mexp_dir\u001b[0m\u001b[0;34m,\u001b[0m \u001b[0mcnf2x\u001b[0m\u001b[0;34m,\u001b[0m \u001b[0mcnf_path\u001b[0m\u001b[0;34m)\u001b[0m\u001b[0;34m.\u001b[0m\u001b[0mto\u001b[0m\u001b[0;34m(\u001b[0m\u001b[0margs\u001b[0m\u001b[0;34m.\u001b[0m\u001b[0mdevice\u001b[0m\u001b[0;34m)\u001b[0m\u001b[0;34m\u001b[0m\u001b[0;34m\u001b[0m\u001b[0m\n\u001b[0;32m---> 11\u001b[0;31m \u001b[0mmetric_eval_flow\u001b[0m\u001b[0;34m(\u001b[0m\u001b[0mtest_loader\u001b[0m\u001b[0;34m,\u001b[0m \u001b[0mcnf2x\u001b[0m\u001b[0;34m,\u001b[0m \u001b[0mexp_dir\u001b[0m\u001b[0;34m,\u001b[0m \u001b[0margs\u001b[0m\u001b[0;34m)\u001b[0m\u001b[0;34m\u001b[0m\u001b[0;34m\u001b[0m\u001b[0m\n\u001b[0m",
      "\u001b[0;32m<ipython-input-123-2917f6c32a65>\u001b[0m in \u001b[0;36mmetric_eval_flow\u001b[0;34m(dataloader, model, exp_name, args)\u001b[0m\n\u001b[1;32m    106\u001b[0m             \u001b[0mx_unorm\u001b[0m \u001b[0;34m=\u001b[0m \u001b[0mitem\u001b[0m\u001b[0;34m[\u001b[0m\u001b[0;36m3\u001b[0m\u001b[0;34m]\u001b[0m\u001b[0;34m.\u001b[0m\u001b[0mto\u001b[0m\u001b[0;34m(\u001b[0m\u001b[0margs\u001b[0m\u001b[0;34m.\u001b[0m\u001b[0mdevice\u001b[0m\u001b[0;34m)\u001b[0m\u001b[0;34m\u001b[0m\u001b[0;34m\u001b[0m\u001b[0m\n\u001b[1;32m    107\u001b[0m \u001b[0;34m\u001b[0m\u001b[0m\n\u001b[0;32m--> 108\u001b[0;31m             \u001b[0mz\u001b[0m\u001b[0;34m,\u001b[0m \u001b[0m_\u001b[0m \u001b[0;34m=\u001b[0m \u001b[0mmodel\u001b[0m\u001b[0;34m.\u001b[0m\u001b[0mforward\u001b[0m\u001b[0;34m(\u001b[0m\u001b[0mx_hr\u001b[0m\u001b[0;34m=\u001b[0m\u001b[0my\u001b[0m\u001b[0;34m,\u001b[0m \u001b[0mxlr\u001b[0m\u001b[0;34m=\u001b[0m\u001b[0mx\u001b[0m\u001b[0;34m)\u001b[0m\u001b[0;34m\u001b[0m\u001b[0;34m\u001b[0m\u001b[0m\n\u001b[0m\u001b[1;32m    109\u001b[0m \u001b[0;34m\u001b[0m\u001b[0m\n\u001b[1;32m    110\u001b[0m             \u001b[0;31m# Predictions at different eps values\u001b[0m\u001b[0;34m\u001b[0m\u001b[0;34m\u001b[0m\u001b[0;34m\u001b[0m\u001b[0m\n",
      "\u001b[0;32m~/Documents/clim-var-ds-cnf-own/models/architectures/srflow.py\u001b[0m in \u001b[0;36mforward\u001b[0;34m(self, x_hr, xlr, z, logdet, eps, reverse, use_stored)\u001b[0m\n\u001b[1;32m    195\u001b[0m \u001b[0;34m\u001b[0m\u001b[0m\n\u001b[1;32m    196\u001b[0m         \u001b[0;32mif\u001b[0m \u001b[0;32mnot\u001b[0m \u001b[0mreverse\u001b[0m\u001b[0;34m:\u001b[0m\u001b[0;34m\u001b[0m\u001b[0;34m\u001b[0m\u001b[0m\n\u001b[0;32m--> 197\u001b[0;31m             \u001b[0;32mreturn\u001b[0m \u001b[0mself\u001b[0m\u001b[0;34m.\u001b[0m\u001b[0mnormalizing_flow\u001b[0m\u001b[0;34m(\u001b[0m\u001b[0mx_hr\u001b[0m\u001b[0;34m,\u001b[0m \u001b[0mxlr\u001b[0m\u001b[0;34m,\u001b[0m \u001b[0meps\u001b[0m\u001b[0;34m=\u001b[0m\u001b[0meps\u001b[0m\u001b[0;34m)\u001b[0m\u001b[0;34m\u001b[0m\u001b[0;34m\u001b[0m\u001b[0m\n\u001b[0m\u001b[1;32m    198\u001b[0m \u001b[0;34m\u001b[0m\u001b[0m\n\u001b[1;32m    199\u001b[0m         \u001b[0;32melse\u001b[0m\u001b[0;34m:\u001b[0m\u001b[0;34m\u001b[0m\u001b[0;34m\u001b[0m\u001b[0m\n",
      "\u001b[0;32m~/Documents/clim-var-ds-cnf-own/models/architectures/srflow.py\u001b[0m in \u001b[0;36mnormalizing_flow\u001b[0;34m(self, x_hr, x_lr, eps)\u001b[0m\n\u001b[1;32m    208\u001b[0m \u001b[0;34m\u001b[0m\u001b[0m\n\u001b[1;32m    209\u001b[0m         \u001b[0;31m# Push z through flow\u001b[0m\u001b[0;34m\u001b[0m\u001b[0;34m\u001b[0m\u001b[0;34m\u001b[0m\u001b[0m\n\u001b[0;32m--> 210\u001b[0;31m         \u001b[0mz\u001b[0m\u001b[0;34m,\u001b[0m \u001b[0mlogdet\u001b[0m\u001b[0;34m,\u001b[0m \u001b[0mlogp_z\u001b[0m \u001b[0;34m=\u001b[0m \u001b[0mself\u001b[0m\u001b[0;34m.\u001b[0m\u001b[0mflow\u001b[0m\u001b[0;34m.\u001b[0m\u001b[0mforward\u001b[0m\u001b[0;34m(\u001b[0m\u001b[0mz\u001b[0m\u001b[0;34m=\u001b[0m\u001b[0mz\u001b[0m\u001b[0;34m,\u001b[0m \u001b[0mxlr\u001b[0m\u001b[0;34m=\u001b[0m\u001b[0mx_lr\u001b[0m\u001b[0;34m,\u001b[0m \u001b[0meps\u001b[0m\u001b[0;34m=\u001b[0m\u001b[0meps\u001b[0m\u001b[0;34m,\u001b[0m \u001b[0mlogdet\u001b[0m\u001b[0;34m=\u001b[0m\u001b[0mlogdet\u001b[0m\u001b[0;34m)\u001b[0m\u001b[0;34m\u001b[0m\u001b[0;34m\u001b[0m\u001b[0m\n\u001b[0m\u001b[1;32m    211\u001b[0m \u001b[0;34m\u001b[0m\u001b[0m\n\u001b[1;32m    212\u001b[0m         \u001b[0;31m# Loss: Z'ks under Gaussian + sum_logdet\u001b[0m\u001b[0;34m\u001b[0m\u001b[0;34m\u001b[0m\u001b[0;34m\u001b[0m\u001b[0m\n",
      "\u001b[0;32m~/Documents/clim-var-ds-cnf-own/models/architectures/srflow.py\u001b[0m in \u001b[0;36mforward\u001b[0;34m(self, z, xlr, logdet, logpz, eps, reverse, use_stored)\u001b[0m\n\u001b[1;32m    138\u001b[0m                     \u001b[0;32melif\u001b[0m \u001b[0misinstance\u001b[0m\u001b[0;34m(\u001b[0m\u001b[0mlayer\u001b[0m\u001b[0;34m,\u001b[0m \u001b[0mFlowStep\u001b[0m\u001b[0;34m)\u001b[0m\u001b[0;34m:\u001b[0m\u001b[0;34m\u001b[0m\u001b[0;34m\u001b[0m\u001b[0m\n\u001b[1;32m    139\u001b[0m                         z, logdet = layer(z, lr_feat_map=lr_downsampled_feats[i + 1],\n\u001b[0;32m--> 140\u001b[0;31m                                           x_lr=xlr, logdet=logdet, reverse=False)\n\u001b[0m\u001b[1;32m    141\u001b[0m \u001b[0;34m\u001b[0m\u001b[0m\n\u001b[1;32m    142\u001b[0m                     \u001b[0;32melif\u001b[0m \u001b[0misinstance\u001b[0m\u001b[0;34m(\u001b[0m\u001b[0mlayer\u001b[0m\u001b[0;34m,\u001b[0m \u001b[0mmodules\u001b[0m\u001b[0;34m.\u001b[0m\u001b[0mGaussianPrior\u001b[0m\u001b[0;34m)\u001b[0m\u001b[0;34m:\u001b[0m\u001b[0;34m\u001b[0m\u001b[0;34m\u001b[0m\u001b[0m\n",
      "\u001b[0;32m~/anaconda3/lib/python3.7/site-packages/torch/nn/modules/module.py\u001b[0m in \u001b[0;36m_call_impl\u001b[0;34m(self, *input, **kwargs)\u001b[0m\n\u001b[1;32m   1100\u001b[0m         if not (self._backward_hooks or self._forward_hooks or self._forward_pre_hooks or _global_backward_hooks\n\u001b[1;32m   1101\u001b[0m                 or _global_forward_hooks or _global_forward_pre_hooks):\n\u001b[0;32m-> 1102\u001b[0;31m             \u001b[0;32mreturn\u001b[0m \u001b[0mforward_call\u001b[0m\u001b[0;34m(\u001b[0m\u001b[0;34m*\u001b[0m\u001b[0minput\u001b[0m\u001b[0;34m,\u001b[0m \u001b[0;34m**\u001b[0m\u001b[0mkwargs\u001b[0m\u001b[0;34m)\u001b[0m\u001b[0;34m\u001b[0m\u001b[0;34m\u001b[0m\u001b[0m\n\u001b[0m\u001b[1;32m   1103\u001b[0m         \u001b[0;31m# Do not call functions when jit is used\u001b[0m\u001b[0;34m\u001b[0m\u001b[0;34m\u001b[0m\u001b[0;34m\u001b[0m\u001b[0m\n\u001b[1;32m   1104\u001b[0m         \u001b[0mfull_backward_hooks\u001b[0m\u001b[0;34m,\u001b[0m \u001b[0mnon_full_backward_hooks\u001b[0m \u001b[0;34m=\u001b[0m \u001b[0;34m[\u001b[0m\u001b[0;34m]\u001b[0m\u001b[0;34m,\u001b[0m \u001b[0;34m[\u001b[0m\u001b[0;34m]\u001b[0m\u001b[0;34m\u001b[0m\u001b[0;34m\u001b[0m\u001b[0m\n",
      "\u001b[0;32m~/Documents/clim-var-ds-cnf-own/models/architectures/srflow.py\u001b[0m in \u001b[0;36mforward\u001b[0;34m(self, z, lr_feat_map, x_lr, logdet, reverse)\u001b[0m\n\u001b[1;32m     61\u001b[0m             \u001b[0mz\u001b[0m\u001b[0;34m,\u001b[0m \u001b[0mlogdet\u001b[0m \u001b[0;34m=\u001b[0m \u001b[0mself\u001b[0m\u001b[0;34m.\u001b[0m\u001b[0minvconv\u001b[0m\u001b[0;34m.\u001b[0m\u001b[0mforward_\u001b[0m\u001b[0;34m(\u001b[0m\u001b[0mz\u001b[0m\u001b[0;34m,\u001b[0m \u001b[0mlogdet\u001b[0m\u001b[0;34m=\u001b[0m\u001b[0mlogdet\u001b[0m\u001b[0;34m,\u001b[0m \u001b[0mreverse\u001b[0m\u001b[0;34m=\u001b[0m\u001b[0;32mFalse\u001b[0m\u001b[0;34m)\u001b[0m\u001b[0;34m\u001b[0m\u001b[0;34m\u001b[0m\u001b[0m\n\u001b[1;32m     62\u001b[0m             \u001b[0;31m# 3. Conditional Coupling Operation\u001b[0m\u001b[0;34m\u001b[0m\u001b[0;34m\u001b[0m\u001b[0;34m\u001b[0m\u001b[0m\n\u001b[0;32m---> 63\u001b[0;31m             \u001b[0mz\u001b[0m\u001b[0;34m,\u001b[0m \u001b[0mlogdet\u001b[0m \u001b[0;34m=\u001b[0m \u001b[0mself\u001b[0m\u001b[0;34m.\u001b[0m\u001b[0mconditionalCoupling\u001b[0m\u001b[0;34m(\u001b[0m\u001b[0mz\u001b[0m\u001b[0;34m,\u001b[0m \u001b[0mlr_feat_map\u001b[0m\u001b[0;34m=\u001b[0m\u001b[0mlr_feat_map\u001b[0m\u001b[0;34m,\u001b[0m \u001b[0mlogdet\u001b[0m\u001b[0;34m=\u001b[0m\u001b[0mlogdet\u001b[0m\u001b[0;34m,\u001b[0m \u001b[0mreverse\u001b[0m\u001b[0;34m=\u001b[0m\u001b[0;32mFalse\u001b[0m\u001b[0;34m)\u001b[0m\u001b[0;34m\u001b[0m\u001b[0;34m\u001b[0m\u001b[0m\n\u001b[0m\u001b[1;32m     64\u001b[0m \u001b[0;34m\u001b[0m\u001b[0m\n\u001b[1;32m     65\u001b[0m             \u001b[0;32mreturn\u001b[0m \u001b[0mz\u001b[0m\u001b[0;34m,\u001b[0m \u001b[0mlogdet\u001b[0m\u001b[0;34m\u001b[0m\u001b[0;34m\u001b[0m\u001b[0m\n",
      "\u001b[0;32m~/anaconda3/lib/python3.7/site-packages/torch/nn/modules/module.py\u001b[0m in \u001b[0;36m_call_impl\u001b[0;34m(self, *input, **kwargs)\u001b[0m\n\u001b[1;32m   1100\u001b[0m         if not (self._backward_hooks or self._forward_hooks or self._forward_pre_hooks or _global_backward_hooks\n\u001b[1;32m   1101\u001b[0m                 or _global_forward_hooks or _global_forward_pre_hooks):\n\u001b[0;32m-> 1102\u001b[0;31m             \u001b[0;32mreturn\u001b[0m \u001b[0mforward_call\u001b[0m\u001b[0;34m(\u001b[0m\u001b[0;34m*\u001b[0m\u001b[0minput\u001b[0m\u001b[0;34m,\u001b[0m \u001b[0;34m**\u001b[0m\u001b[0mkwargs\u001b[0m\u001b[0;34m)\u001b[0m\u001b[0;34m\u001b[0m\u001b[0;34m\u001b[0m\u001b[0m\n\u001b[0m\u001b[1;32m   1103\u001b[0m         \u001b[0;31m# Do not call functions when jit is used\u001b[0m\u001b[0;34m\u001b[0m\u001b[0;34m\u001b[0m\u001b[0;34m\u001b[0m\u001b[0m\n\u001b[1;32m   1104\u001b[0m         \u001b[0mfull_backward_hooks\u001b[0m\u001b[0;34m,\u001b[0m \u001b[0mnon_full_backward_hooks\u001b[0m \u001b[0;34m=\u001b[0m \u001b[0;34m[\u001b[0m\u001b[0;34m]\u001b[0m\u001b[0;34m,\u001b[0m \u001b[0;34m[\u001b[0m\u001b[0;34m]\u001b[0m\u001b[0;34m\u001b[0m\u001b[0;34m\u001b[0m\u001b[0m\n",
      "\u001b[0;32m~/Documents/clim-var-ds-cnf-own/models/transformations/modules_sr.py\u001b[0m in \u001b[0;36mforward\u001b[0;34m(self, z, lr_feat_map, logdet, logpz, reverse)\u001b[0m\n\u001b[1;32m    288\u001b[0m             \u001b[0;31m# print(\"Scale enabled\")\u001b[0m\u001b[0;34m\u001b[0m\u001b[0;34m\u001b[0m\u001b[0;34m\u001b[0m\u001b[0m\n\u001b[1;32m    289\u001b[0m             \u001b[0mt\u001b[0m\u001b[0;34m,\u001b[0m \u001b[0mh_scale\u001b[0m \u001b[0;34m=\u001b[0m \u001b[0mcross\u001b[0m\u001b[0;34m(\u001b[0m\u001b[0mh\u001b[0m\u001b[0;34m)\u001b[0m\u001b[0;34m\u001b[0m\u001b[0;34m\u001b[0m\u001b[0m\n\u001b[0;32m--> 290\u001b[0;31m             \u001b[0mscale\u001b[0m \u001b[0;34m=\u001b[0m \u001b[0mtorch\u001b[0m\u001b[0;34m.\u001b[0m\u001b[0mnn\u001b[0m\u001b[0;34m.\u001b[0m\u001b[0mfunctional\u001b[0m\u001b[0;34m.\u001b[0m\u001b[0msoftplus\u001b[0m\u001b[0;34m(\u001b[0m\u001b[0mh_scale\u001b[0m\u001b[0;34m)\u001b[0m\u001b[0;34m\u001b[0m\u001b[0;34m\u001b[0m\u001b[0m\n\u001b[0m\u001b[1;32m    291\u001b[0m             \u001b[0mlogscale\u001b[0m \u001b[0;34m=\u001b[0m \u001b[0mtorch\u001b[0m\u001b[0;34m.\u001b[0m\u001b[0mlog\u001b[0m\u001b[0;34m(\u001b[0m\u001b[0mscale\u001b[0m\u001b[0;34m)\u001b[0m\u001b[0;34m\u001b[0m\u001b[0;34m\u001b[0m\u001b[0m\n\u001b[1;32m    292\u001b[0m \u001b[0;34m\u001b[0m\u001b[0m\n",
      "\u001b[0;31mKeyboardInterrupt\u001b[0m: "
     ]
    }
   ],
   "source": [
    "args.s = 2\n",
    "train_loader, val_loader, test_loader, args = dataloading.load_data(args)\n",
    "in_channels = next(iter(test_loader))[0].shape[1]\n",
    "height, width = next(iter(test_loader))[0].shape[2], next(iter(test_loader))[0].shape[3]\n",
    "cnf2x = srflow.SRFlow((in_channels, height, width), args.filter_size, args.L, args.K, args.bsz, 2, args.constraint, args.nb, args.condch, args.noscale, args.noscaletest)\n",
    "exp_dir = 'runs/srflow_noresm_None__2024_08_19_09_10_40_2x/'\n",
    "cnf_path = '/home/christina/Documents/clim-var-ds-cnf-own/runs/srflow_noresm_None__2024_08_19_09_10_40_2x/model_epoch_6_step_10500.tar'\n",
    "\n",
    "# load the model\n",
    "cnf2x = load_model(exp_dir, cnf2x, cnf_path).to(args.device)\n",
    "metric_eval_flow(test_loader, cnf2x, exp_dir, args)"
   ]
  },
  {
   "cell_type": "code",
   "execution_count": 132,
   "id": "ae29693f-ad6f-4fd7-a633-5a5544c5d38e",
   "metadata": {},
   "outputs": [
    {
     "data": {
      "text/plain": [
       "9880"
      ]
     },
     "execution_count": 132,
     "metadata": {},
     "output_type": "execute_result"
    }
   ],
   "source": [
    "import gc\n",
    "gc.collect()"
   ]
  },
  {
   "cell_type": "markdown",
   "id": "301d4164-88e4-43ac-9558-3443b33d9104",
   "metadata": {},
   "source": [
    "#### 4x"
   ]
  },
  {
   "cell_type": "code",
   "execution_count": null,
   "id": "00a180f0-9ee2-45c7-8de6-d74d0dc3d7fb",
   "metadata": {},
   "outputs": [
    {
     "name": "stdout",
     "output_type": "stream",
     "text": [
      "Loading NORESM ...\n",
      "Model loaded successfully.\n",
      "Current RMSE - mu0: 0.592420756816864, mu05: 0.6901935935020447, mu08: 0.8248536586761475, mu1: 0.9167230129241943\n",
      "Current MAE - mu0: 0.32880526781082153, mu05: 0.4204549193382263, mu08: 0.5274477601051331, mu1: 0.5995078086853027\n",
      "Current RMSE - mu0: 0.6800616979598999, mu05: 0.7719674110412598, mu08: 0.8966804146766663, mu1: 0.973859429359436\n",
      "Current MAE - mu0: 0.37338170409202576, mu05: 0.45862066745758057, mu08: 0.5618923306465149, mu1: 0.631149411201477\n",
      "Current RMSE - mu0: 0.6193012595176697, mu05: 0.712600588798523, mu08: 0.8351342678070068, mu1: 0.9224973917007446\n",
      "Current MAE - mu0: 0.3396548628807068, mu05: 0.42946961522102356, mu08: 0.5322223901748657, mu1: 0.6000559329986572\n",
      "Current RMSE - mu0: 0.5937623977661133, mu05: 0.6955679655075073, mu08: 0.8164425492286682, mu1: 0.9115849137306213\n",
      "Current MAE - mu0: 0.32964617013931274, mu05: 0.42258793115615845, mu08: 0.5241554975509644, mu1: 0.5962258577346802\n",
      "Current RMSE - mu0: 0.6139791011810303, mu05: 0.7082834243774414, mu08: 0.82594895362854, mu1: 0.930703341960907\n",
      "Current MAE - mu0: 0.353014200925827, mu05: 0.4421525299549103, mu08: 0.5393964052200317, mu1: 0.6184788942337036\n",
      "Current RMSE - mu0: 0.5268221497535706, mu05: 0.6258412003517151, mu08: 0.7439244985580444, mu1: 0.851419985294342\n",
      "Current MAE - mu0: 0.3256293535232544, mu05: 0.4148760139942169, mu08: 0.5091807246208191, mu1: 0.5908780694007874\n",
      "Current RMSE - mu0: 0.5312776565551758, mu05: 0.6230720281600952, mu08: 0.7467157244682312, mu1: 0.850284218788147\n",
      "Current MAE - mu0: 0.3327459692955017, mu05: 0.41554051637649536, mu08: 0.5126041173934937, mu1: 0.5928051471710205\n",
      "Current RMSE - mu0: 0.5398049354553223, mu05: 0.6355414986610413, mu08: 0.7566436529159546, mu1: 0.857903242111206\n",
      "Current MAE - mu0: 0.3249532878398895, mu05: 0.4140557050704956, mu08: 0.5137505531311035, mu1: 0.5914093852043152\n",
      "Current RMSE - mu0: 0.5146617889404297, mu05: 0.607519268989563, mu08: 0.7338305115699768, mu1: 0.8230147957801819\n",
      "Current MAE - mu0: 0.3135068416595459, mu05: 0.3998430073261261, mu08: 0.4991414546966553, mu1: 0.5735089182853699\n",
      "Current RMSE - mu0: 0.9126573204994202, mu05: 0.9975613951683044, mu08: 1.1148816347122192, mu1: 1.2006151676177979\n",
      "Current MAE - mu0: 0.4583841562271118, mu05: 0.5487871170043945, mu08: 0.6506541967391968, mu1: 0.7169331312179565\n",
      "Current RMSE - mu0: 0.9053690433502197, mu05: 0.9968451857566833, mu08: 1.1123082637786865, mu1: 1.2220542430877686\n",
      "Current MAE - mu0: 0.47096240520477295, mu05: 0.5602437853813171, mu08: 0.659223198890686, mu1: 0.7425211668014526\n",
      "Current RMSE - mu0: 0.8768102526664734, mu05: 0.9687573909759521, mu08: 1.0855848789215088, mu1: 1.2078981399536133\n",
      "Current MAE - mu0: 0.4447421431541443, mu05: 0.5379761457443237, mu08: 0.6338555812835693, mu1: 0.7260388731956482\n",
      "Current RMSE - mu0: 0.9118477702140808, mu05: 0.9889787435531616, mu08: 1.1045737266540527, mu1: 1.213425636291504\n",
      "Current MAE - mu0: 0.4654890298843384, mu05: 0.5494660139083862, mu08: 0.6481654644012451, mu1: 0.7287595272064209\n",
      "Current RMSE - mu0: 0.8354629278182983, mu05: 0.9279683828353882, mu08: 1.0477548837661743, mu1: 1.1600472927093506\n",
      "Current MAE - mu0: 0.4589862823486328, mu05: 0.5495030283927917, mu08: 0.6479136943817139, mu1: 0.7336711883544922\n",
      "Current RMSE - mu0: 0.810696005821228, mu05: 0.8966546058654785, mu08: 1.0032081604003906, mu1: 1.1123020648956299\n",
      "Current MAE - mu0: 0.46383196115493774, mu05: 0.5499705076217651, mu08: 0.6442402005195618, mu1: 0.7268433570861816\n",
      "Current RMSE - mu0: 0.795716404914856, mu05: 0.886137843132019, mu08: 0.9982894659042358, mu1: 1.105473279953003\n",
      "Current MAE - mu0: 0.45665013790130615, mu05: 0.5425730347633362, mu08: 0.6431723833084106, mu1: 0.7283888459205627\n",
      "Current RMSE - mu0: 0.8208699226379395, mu05: 0.9037802815437317, mu08: 1.0347931385040283, mu1: 1.1332099437713623\n",
      "Current MAE - mu0: 0.4733250141143799, mu05: 0.5580999851226807, mu08: 0.6666700839996338, mu1: 0.7439221739768982\n",
      "Current RMSE - mu0: 0.7960782647132874, mu05: 0.8813228607177734, mu08: 1.0226143598556519, mu1: 1.102185606956482\n",
      "Current MAE - mu0: 0.460274338722229, mu05: 0.5454256534576416, mu08: 0.6575418710708618, mu1: 0.7276852130889893\n",
      "Current RMSE - mu0: 0.7484958171844482, mu05: 0.8521655797958374, mu08: 0.9873971939086914, mu1: 1.1007709503173828\n",
      "Current MAE - mu0: 0.48753753304481506, mu05: 0.5838582515716553, mu08: 0.7021896839141846, mu1: 0.7896952629089355\n",
      "Current RMSE - mu0: 0.7571216821670532, mu05: 0.8633227348327637, mu08: 0.9923678040504456, mu1: 1.1171122789382935\n",
      "Current MAE - mu0: 0.4929335117340088, mu05: 0.5898410677909851, mu08: 0.6999021768569946, mu1: 0.801636815071106\n",
      "Current RMSE - mu0: 0.751018762588501, mu05: 0.8521723747253418, mu08: 0.9937050342559814, mu1: 1.1047492027282715\n",
      "Current MAE - mu0: 0.4889315664768219, mu05: 0.5838040113449097, mu08: 0.7014117240905762, mu1: 0.7903705835342407\n",
      "Current RMSE - mu0: 0.7359447479248047, mu05: 0.8339587450027466, mu08: 0.9706860780715942, mu1: 1.0998185873031616\n",
      "Current MAE - mu0: 0.47914719581604004, mu05: 0.572361946105957, mu08: 0.6875579357147217, mu1: 0.7867186665534973\n",
      "Current RMSE - mu0: 0.7417464256286621, mu05: 0.8354249596595764, mu08: 0.9816657304763794, mu1: 1.101700782775879\n",
      "Current MAE - mu0: 0.4292606711387634, mu05: 0.5264939069747925, mu08: 0.6438838839530945, mu1: 0.7325219511985779\n",
      "Current RMSE - mu0: 0.7162450551986694, mu05: 0.8170497417449951, mu08: 0.960133969783783, mu1: 1.0674422979354858\n",
      "Current MAE - mu0: 0.3677263855934143, mu05: 0.4650702476501465, mu08: 0.5845506191253662, mu1: 0.6667197942733765\n",
      "Current RMSE - mu0: 0.7214681506156921, mu05: 0.811087429523468, mu08: 0.9555872678756714, mu1: 1.0519598722457886\n",
      "Current MAE - mu0: 0.36528778076171875, mu05: 0.4627189636230469, mu08: 0.5762553811073303, mu1: 0.6567868590354919\n",
      "Current RMSE - mu0: 0.6965587139129639, mu05: 0.7946891784667969, mu08: 0.9250808358192444, mu1: 1.0231040716171265\n",
      "Current MAE - mu0: 0.3532079756259918, mu05: 0.4521417021751404, mu08: 0.5633227825164795, mu1: 0.6396341323852539\n",
      "Current RMSE - mu0: 0.7123400568962097, mu05: 0.8039679527282715, mu08: 0.9345516562461853, mu1: 1.0393195152282715\n",
      "Current MAE - mu0: 0.36253345012664795, mu05: 0.46157243847846985, mu08: 0.5758436322212219, mu1: 0.6592905521392822\n",
      "Current RMSE - mu0: 0.13740596175193787, mu05: 0.25495409965515137, mu08: 0.37614676356315613, mu1: 0.4516122043132782\n",
      "Current MAE - mu0: 0.0994783490896225, mu05: 0.19359147548675537, mu08: 0.287771999835968, mu1: 0.3477201759815216\n",
      "Current RMSE - mu0: 0.1324344277381897, mu05: 0.25400787591934204, mu08: 0.36808955669403076, mu1: 0.45619335770606995\n",
      "Current MAE - mu0: 0.09481249749660492, mu05: 0.19414082169532776, mu08: 0.28309983015060425, mu1: 0.35092583298683167\n",
      "Current RMSE - mu0: 0.1429213583469391, mu05: 0.264458566904068, mu08: 0.37328800559043884, mu1: 0.45808225870132446\n",
      "Current MAE - mu0: 0.10331781953573227, mu05: 0.1997206211090088, mu08: 0.28624263405799866, mu1: 0.3516816794872284\n",
      "Current RMSE - mu0: 0.13605809211730957, mu05: 0.25461339950561523, mu08: 0.3772590756416321, mu1: 0.4531693756580353\n",
      "Current MAE - mu0: 0.09826484322547913, mu05: 0.19563141465187073, mu08: 0.2890586853027344, mu1: 0.34879422187805176\n",
      "Current RMSE - mu0: 0.4358610510826111, mu05: 0.5462549924850464, mu08: 0.6825909614562988, mu1: 0.7795618772506714\n",
      "Current MAE - mu0: 0.2576403021812439, mu05: 0.355100154876709, mu08: 0.46371492743492126, mu1: 0.5338304042816162\n",
      "Current RMSE - mu0: 0.7219322919845581, mu05: 0.827300488948822, mu08: 0.9713431596755981, mu1: 1.0643612146377563\n",
      "Current MAE - mu0: 0.4170534014701843, mu05: 0.5125852823257446, mu08: 0.629944920539856, mu1: 0.7069679498672485\n",
      "Current RMSE - mu0: 0.7103646993637085, mu05: 0.8144309520721436, mu08: 0.939956784248352, mu1: 1.0605616569519043\n",
      "Current MAE - mu0: 0.4110255539417267, mu05: 0.5088878273963928, mu08: 0.6118074655532837, mu1: 0.7022640705108643\n",
      "Current RMSE - mu0: 0.7331373691558838, mu05: 0.831675112247467, mu08: 0.9714484810829163, mu1: 1.0991822481155396\n",
      "Current MAE - mu0: 0.4143739640712738, mu05: 0.5115384459495544, mu08: 0.6212735176086426, mu1: 0.7145912647247314\n",
      "Current RMSE - mu0: 0.7156335115432739, mu05: 0.8223600387573242, mu08: 0.9604331254959106, mu1: 1.0600783824920654\n",
      "Current MAE - mu0: 0.40856045484542847, mu05: 0.5069481730461121, mu08: 0.620508074760437, mu1: 0.7010959982872009\n",
      "Current RMSE - mu0: 0.9502888917922974, mu05: 1.068450689315796, mu08: 1.2149667739868164, mu1: 1.3449325561523438\n",
      "Current MAE - mu0: 0.575427234172821, mu05: 0.6752601861953735, mu08: 0.7955031394958496, mu1: 0.8980423808097839\n",
      "Current RMSE - mu0: 0.9293205738067627, mu05: 1.0414639711380005, mu08: 1.1871025562286377, mu1: 1.301680326461792\n",
      "Current MAE - mu0: 0.5550273060798645, mu05: 0.6531823873519897, mu08: 0.7767716646194458, mu1: 0.8707388639450073\n",
      "Current RMSE - mu0: 0.9407984018325806, mu05: 1.0409389734268188, mu08: 1.2086565494537354, mu1: 1.315514087677002\n",
      "Current MAE - mu0: 0.5780600309371948, mu05: 0.6731133460998535, mu08: 0.8011027574539185, mu1: 0.887852668762207\n",
      "Current RMSE - mu0: 0.9724213480949402, mu05: 1.080928921699524, mu08: 1.224932074546814, mu1: 1.3605889081954956\n",
      "Current MAE - mu0: 0.5840481519699097, mu05: 0.6809878349304199, mu08: 0.8023167848587036, mu1: 0.8988696336746216\n",
      "Current RMSE - mu0: 0.9047544598579407, mu05: 1.0068317651748657, mu08: 1.1562228202819824, mu1: 1.282403588294983\n",
      "Current MAE - mu0: 0.5596191883087158, mu05: 0.6533757448196411, mu08: 0.7788310647010803, mu1: 0.8772101998329163\n",
      "Current RMSE - mu0: 0.9022728204727173, mu05: 1.0090417861938477, mu08: 1.1527944803237915, mu1: 1.2627882957458496\n",
      "Current MAE - mu0: 0.5982533097267151, mu05: 0.6910589337348938, mu08: 0.8052300810813904, mu1: 0.9004639983177185\n",
      "Current RMSE - mu0: 0.9360782504081726, mu05: 1.0370069742202759, mu08: 1.1845612525939941, mu1: 1.3108075857162476\n",
      "Current MAE - mu0: 0.6147276163101196, mu05: 0.7083826661109924, mu08: 0.8307466506958008, mu1: 0.9265028834342957\n",
      "Current RMSE - mu0: 0.8650011420249939, mu05: 0.9688364267349243, mu08: 1.125647783279419, mu1: 1.2502747774124146\n",
      "Current MAE - mu0: 0.5662602186203003, mu05: 0.6624246835708618, mu08: 0.7856136560440063, mu1: 0.8790090084075928\n",
      "Current RMSE - mu0: 0.9277186393737793, mu05: 1.0328963994979858, mu08: 1.1802318096160889, mu1: 1.298887848854065\n",
      "Current MAE - mu0: 0.6137096881866455, mu05: 0.7092471122741699, mu08: 0.8233301043510437, mu1: 0.9216358661651611\n",
      "Current RMSE - mu0: 0.6175937652587891, mu05: 0.7024418115615845, mu08: 0.8257445693016052, mu1: 0.9254287481307983\n",
      "Current MAE - mu0: 0.352128267288208, mu05: 0.4418255686759949, mu08: 0.5457068085670471, mu1: 0.6297839879989624\n",
      "Current RMSE - mu0: 0.5873441696166992, mu05: 0.674879789352417, mu08: 0.7838200926780701, mu1: 0.890883207321167\n",
      "Current MAE - mu0: 0.3360859453678131, mu05: 0.42460325360298157, mu08: 0.5232783555984497, mu1: 0.6061582565307617\n",
      "Current RMSE - mu0: 0.6315019130706787, mu05: 0.7133966684341431, mu08: 0.8281762599945068, mu1: 0.9184883832931519\n",
      "Current MAE - mu0: 0.3645949363708496, mu05: 0.4518362879753113, mu08: 0.5463560819625854, mu1: 0.626534640789032\n",
      "Current RMSE - mu0: 0.5892744064331055, mu05: 0.6752970814704895, mu08: 0.8025078773498535, mu1: 0.904213547706604\n",
      "Current MAE - mu0: 0.3434487581253052, mu05: 0.4332529902458191, mu08: 0.5413568019866943, mu1: 0.6175011992454529\n",
      "Current RMSE - mu0: 0.6628739833831787, mu05: 0.7580016255378723, mu08: 0.889634370803833, mu1: 0.9859182834625244\n",
      "Current MAE - mu0: 0.4088113307952881, mu05: 0.5009934306144714, mu08: 0.6160914897918701, mu1: 0.6977798938751221\n",
      "Current RMSE - mu0: 0.7926278114318848, mu05: 0.9004825353622437, mu08: 1.0430690050125122, mu1: 1.1591130495071411\n",
      "Current MAE - mu0: 0.5242571830749512, mu05: 0.6258097887039185, mu08: 0.7433072328567505, mu1: 0.8344950079917908\n",
      "Current RMSE - mu0: 0.8118561506271362, mu05: 0.9227469563484192, mu08: 1.052619218826294, mu1: 1.1773165464401245\n",
      "Current MAE - mu0: 0.5405988097190857, mu05: 0.6387932896614075, mu08: 0.7540585398674011, mu1: 0.8549072742462158\n",
      "Current RMSE - mu0: 0.7769455909729004, mu05: 0.8857700824737549, mu08: 1.03206205368042, mu1: 1.1401519775390625\n",
      "Current MAE - mu0: 0.5096555948257446, mu05: 0.6070766448974609, mu08: 0.7325092554092407, mu1: 0.8194805383682251\n",
      "Current RMSE - mu0: 0.7850145697593689, mu05: 0.8967754244804382, mu08: 1.0361289978027344, mu1: 1.1573586463928223\n",
      "Current MAE - mu0: 0.528256893157959, mu05: 0.6265504956245422, mu08: 0.739838719367981, mu1: 0.8359984159469604\n",
      "Current RMSE - mu0: 0.6018223762512207, mu05: 0.6982743740081787, mu08: 0.8180657625198364, mu1: 0.9267981052398682\n",
      "Current MAE - mu0: 0.3372010588645935, mu05: 0.4255751073360443, mu08: 0.5246384739875793, mu1: 0.6074924468994141\n",
      "Current RMSE - mu0: 0.6597961187362671, mu05: 0.7520126104354858, mu08: 0.8806531429290771, mu1: 0.9785729646682739\n",
      "Current MAE - mu0: 0.35699260234832764, mu05: 0.448394238948822, mu08: 0.5506923198699951, mu1: 0.6268957853317261\n",
      "Current RMSE - mu0: 0.6147303581237793, mu05: 0.7072256803512573, mu08: 0.8328998684883118, mu1: 0.9322604537010193\n",
      "Current MAE - mu0: 0.34393399953842163, mu05: 0.4313920736312866, mu08: 0.5336323380470276, mu1: 0.6133072376251221\n",
      "Current RMSE - mu0: 0.5963840484619141, mu05: 0.6898768544197083, mu08: 0.8131852149963379, mu1: 0.9137775897979736\n",
      "Current MAE - mu0: 0.33198851346969604, mu05: 0.420310378074646, mu08: 0.5194408297538757, mu1: 0.598686933517456\n",
      "Current RMSE - mu0: 0.6697067022323608, mu05: 0.7572349309921265, mu08: 0.8770937323570251, mu1: 0.9818732738494873\n",
      "Current MAE - mu0: 0.35973286628723145, mu05: 0.45120853185653687, mu08: 0.5485661029815674, mu1: 0.6271036863327026\n",
      "Current RMSE - mu0: 0.5994175672531128, mu05: 0.6911917328834534, mu08: 0.8200546503067017, mu1: 0.9111254215240479\n",
      "Current MAE - mu0: 0.3321334421634674, mu05: 0.41909778118133545, mu08: 0.5243330001831055, mu1: 0.5976301431655884\n",
      "Current RMSE - mu0: 0.6265203356742859, mu05: 0.7149032354354858, mu08: 0.8329228162765503, mu1: 0.9297627806663513\n",
      "Current MAE - mu0: 0.35358521342277527, mu05: 0.43816864490509033, mu08: 0.5383793115615845, mu1: 0.611884593963623\n",
      "Current RMSE - mu0: 0.6337023377418518, mu05: 0.7241148352622986, mu08: 0.8451504111289978, mu1: 0.93043452501297\n",
      "Current MAE - mu0: 0.3623718023300171, mu05: 0.4446377158164978, mu08: 0.546973466873169, mu1: 0.6184340715408325\n",
      "Current RMSE - mu0: 0.5121735334396362, mu05: 0.6173681020736694, mu08: 0.730898380279541, mu1: 0.8390851616859436\n",
      "Current MAE - mu0: 0.316888689994812, mu05: 0.40876278281211853, mu08: 0.5027345418930054, mu1: 0.5832827687263489\n",
      "Current RMSE - mu0: 0.5265076160430908, mu05: 0.6259514093399048, mu08: 0.7476801872253418, mu1: 0.8482774496078491\n",
      "Current MAE - mu0: 0.3226301670074463, mu05: 0.41218212246894836, mu08: 0.5110342502593994, mu1: 0.5876858234405518\n",
      "Current RMSE - mu0: 0.551864504814148, mu05: 0.6473278999328613, mu08: 0.7812048196792603, mu1: 0.85825115442276\n",
      "Current MAE - mu0: 0.3407159447669983, mu05: 0.42584842443466187, mu08: 0.5289878249168396, mu1: 0.5951268672943115\n",
      "Current RMSE - mu0: 0.5178212523460388, mu05: 0.6157710552215576, mu08: 0.7347128391265869, mu1: 0.8370627164840698\n",
      "Current MAE - mu0: 0.31905481219291687, mu05: 0.40582430362701416, mu08: 0.5040245056152344, mu1: 0.5801297426223755\n",
      "Current RMSE - mu0: 0.5231039524078369, mu05: 0.6258960962295532, mu08: 0.7443923950195312, mu1: 0.8443009853363037\n",
      "Current MAE - mu0: 0.3260236382484436, mu05: 0.413271427154541, mu08: 0.5095220804214478, mu1: 0.5876798629760742\n",
      "Current RMSE - mu0: 0.5794169902801514, mu05: 0.6675012111663818, mu08: 0.7859474420547485, mu1: 0.8962011933326721\n",
      "Current MAE - mu0: 0.35470956563949585, mu05: 0.43644601106643677, mu08: 0.5343549251556396, mu1: 0.615216076374054\n",
      "Current RMSE - mu0: 0.515900731086731, mu05: 0.6161497831344604, mu08: 0.741283655166626, mu1: 0.836159348487854\n",
      "Current MAE - mu0: 0.31754961609840393, mu05: 0.407389760017395, mu08: 0.5107620358467102, mu1: 0.5793818235397339\n",
      "Current RMSE - mu0: 0.9118618369102478, mu05: 1.0004860162734985, mu08: 1.112133264541626, mu1: 1.2184312343597412\n",
      "Current MAE - mu0: 0.4583194851875305, mu05: 0.5461457967758179, mu08: 0.6459352970123291, mu1: 0.722304105758667\n",
      "Current RMSE - mu0: 0.9088988900184631, mu05: 0.9913712739944458, mu08: 1.1300102472305298, mu1: 1.2455499172210693\n",
      "Current MAE - mu0: 0.46225935220718384, mu05: 0.5489531755447388, mu08: 0.6620290279388428, mu1: 0.7471262216567993\n",
      "Current RMSE - mu0: 0.8891838788986206, mu05: 0.9766567945480347, mu08: 1.1009929180145264, mu1: 1.1959705352783203\n",
      "Current MAE - mu0: 0.4539925158023834, mu05: 0.5429553389549255, mu08: 0.6443268060684204, mu1: 0.7223384380340576\n",
      "Current RMSE - mu0: 0.9060028195381165, mu05: 0.9844909310340881, mu08: 1.0968400239944458, mu1: 1.210005283355713\n",
      "Current MAE - mu0: 0.4577266573905945, mu05: 0.5411542057991028, mu08: 0.6450328826904297, mu1: 0.7202982902526855\n",
      "Current RMSE - mu0: 0.916311502456665, mu05: 1.001936912536621, mu08: 1.1257383823394775, mu1: 1.237560510635376\n",
      "Current MAE - mu0: 0.4727974534034729, mu05: 0.5595284700393677, mu08: 0.6643913984298706, mu1: 0.7453020811080933\n",
      "Current RMSE - mu0: 0.8737403154373169, mu05: 0.9723813533782959, mu08: 1.0940871238708496, mu1: 1.1809194087982178\n",
      "Current MAE - mu0: 0.44247967004776, mu05: 0.5377417802810669, mu08: 0.6418604254722595, mu1: 0.7142798900604248\n",
      "Current RMSE - mu0: 0.8884543180465698, mu05: 0.9619295001029968, mu08: 1.0853784084320068, mu1: 1.1804358959197998\n",
      "Current MAE - mu0: 0.44624966382980347, mu05: 0.5323913097381592, mu08: 0.6351264715194702, mu1: 0.7130919694900513\n",
      "Current RMSE - mu0: 0.8501488566398621, mu05: 0.945193886756897, mu08: 1.0613160133361816, mu1: 1.1558492183685303\n",
      "Current MAE - mu0: 0.46471184492111206, mu05: 0.5590156316757202, mu08: 0.6579174995422363, mu1: 0.7311771512031555\n",
      "Current RMSE - mu0: 0.7907608151435852, mu05: 0.883062481880188, mu08: 0.9982922673225403, mu1: 1.1072649955749512\n",
      "Current MAE - mu0: 0.45688772201538086, mu05: 0.5435417890548706, mu08: 0.6453830599784851, mu1: 0.7253514528274536\n",
      "Current RMSE - mu0: 0.7885446548461914, mu05: 0.8710196614265442, mu08: 1.0024640560150146, mu1: 1.099155306816101\n",
      "Current MAE - mu0: 0.45285162329673767, mu05: 0.5376938581466675, mu08: 0.644935667514801, mu1: 0.7204766273498535\n",
      "Current RMSE - mu0: 0.8040488362312317, mu05: 0.889362633228302, mu08: 1.0295637845993042, mu1: 1.1382768154144287\n",
      "Current MAE - mu0: 0.46478188037872314, mu05: 0.549720287322998, mu08: 0.6609017848968506, mu1: 0.7429031133651733\n",
      "Current RMSE - mu0: 0.7783694863319397, mu05: 0.8670223951339722, mu08: 1.0077013969421387, mu1: 1.1064302921295166\n",
      "Current MAE - mu0: 0.44564947485923767, mu05: 0.5333988666534424, mu08: 0.6438447833061218, mu1: 0.7221100330352783\n",
      "Current RMSE - mu0: 0.7819000482559204, mu05: 0.8659366965293884, mu08: 1.0074408054351807, mu1: 1.1039350032806396\n",
      "Current MAE - mu0: 0.45247870683670044, mu05: 0.5347200632095337, mu08: 0.6472394466400146, mu1: 0.7218635082244873\n",
      "Current RMSE - mu0: 0.8053361773490906, mu05: 0.8977585434913635, mu08: 1.010242223739624, mu1: 1.131316900253296\n",
      "Current MAE - mu0: 0.4617621898651123, mu05: 0.5523707270622253, mu08: 0.6554665565490723, mu1: 0.7401518225669861\n",
      "Current RMSE - mu0: 0.7800214290618896, mu05: 0.8670922517776489, mu08: 0.9842591285705566, mu1: 1.092428207397461\n",
      "Current MAE - mu0: 0.4458775222301483, mu05: 0.5317816138267517, mu08: 0.6344765424728394, mu1: 0.7174816131591797\n",
      "Current RMSE - mu0: 0.7433173656463623, mu05: 0.8530893921852112, mu08: 0.9755700826644897, mu1: 1.0962079763412476\n",
      "Current MAE - mu0: 0.48319512605667114, mu05: 0.5816714763641357, mu08: 0.6906676292419434, mu1: 0.7839691638946533\n",
      "Current RMSE - mu0: 0.7552223205566406, mu05: 0.8528986573219299, mu08: 1.0013597011566162, mu1: 1.1188993453979492\n",
      "Current MAE - mu0: 0.4899127781391144, mu05: 0.5838878750801086, mu08: 0.7038312554359436, mu1: 0.7948390245437622\n",
      "Current RMSE - mu0: 0.7499357461929321, mu05: 0.8488552570343018, mu08: 0.9983453154563904, mu1: 1.1129142045974731\n",
      "Current MAE - mu0: 0.4861718714237213, mu05: 0.5793878436088562, mu08: 0.701978862285614, mu1: 0.7950950860977173\n",
      "Current RMSE - mu0: 0.749018669128418, mu05: 0.8538633584976196, mu08: 0.9790606498718262, mu1: 1.0952255725860596\n",
      "Current MAE - mu0: 0.4860721826553345, mu05: 0.5830434560775757, mu08: 0.6894408464431763, mu1: 0.7853408455848694\n",
      "Current RMSE - mu0: 0.7606819272041321, mu05: 0.8631981015205383, mu08: 1.0092965364456177, mu1: 1.1090751886367798\n",
      "Current MAE - mu0: 0.4950374364852905, mu05: 0.5922155976295471, mu08: 0.7088575959205627, mu1: 0.7910284399986267\n",
      "Current RMSE - mu0: 0.7538266777992249, mu05: 0.8580484986305237, mu08: 0.9921808242797852, mu1: 1.0974853038787842\n",
      "Current MAE - mu0: 0.488447368144989, mu05: 0.5843046307563782, mu08: 0.7006038427352905, mu1: 0.786479115486145\n",
      "Current RMSE - mu0: 0.7413586378097534, mu05: 0.8416829109191895, mu08: 0.981552243232727, mu1: 1.0926002264022827\n",
      "Current MAE - mu0: 0.48233628273010254, mu05: 0.5780795812606812, mu08: 0.6945683360099792, mu1: 0.7804637551307678\n",
      "Current RMSE - mu0: 0.734817385673523, mu05: 0.8308236598968506, mu08: 0.9636756181716919, mu1: 1.0769026279449463\n",
      "Current MAE - mu0: 0.42764925956726074, mu05: 0.5268106460571289, mu08: 0.642620325088501, mu1: 0.7240088582038879\n",
      "Current RMSE - mu0: 0.7052740454673767, mu05: 0.796703040599823, mu08: 0.9193613529205322, mu1: 1.029381275177002\n",
      "Current MAE - mu0: 0.3664110004901886, mu05: 0.4632405638694763, mu08: 0.5699000358581543, mu1: 0.6576439142227173\n",
      "Current RMSE - mu0: 0.7139080762863159, mu05: 0.816215991973877, mu08: 0.9368432760238647, mu1: 1.0380768775939941\n",
      "Current MAE - mu0: 0.3639916777610779, mu05: 0.46625053882598877, mu08: 0.5760048627853394, mu1: 0.6585779786109924\n",
      "Current RMSE - mu0: 0.6673673391342163, mu05: 0.7500720620155334, mu08: 0.8963522911071777, mu1: 1.0181246995925903\n",
      "Current MAE - mu0: 0.3475947380065918, mu05: 0.4459613561630249, mu08: 0.5598899722099304, mu1: 0.6447433829307556\n",
      "Current RMSE - mu0: 0.688434362411499, mu05: 0.7840705513954163, mu08: 0.9070581197738647, mu1: 1.0101277828216553\n",
      "Current MAE - mu0: 0.35243579745292664, mu05: 0.44961512088775635, mu08: 0.5615071058273315, mu1: 0.6467885971069336\n",
      "Current RMSE - mu0: 0.7072844505310059, mu05: 0.8036556243896484, mu08: 0.9449451565742493, mu1: 1.0431997776031494\n",
      "Current MAE - mu0: 0.3641771078109741, mu05: 0.4682996869087219, mu08: 0.5773656964302063, mu1: 0.661790668964386\n",
      "Current RMSE - mu0: 0.6934240460395813, mu05: 0.7846333384513855, mu08: 0.9176149964332581, mu1: 1.0411161184310913\n",
      "Current MAE - mu0: 0.3557058572769165, mu05: 0.45337778329849243, mu08: 0.5686147809028625, mu1: 0.6535688638687134\n",
      "Current RMSE - mu0: 0.6978731751441956, mu05: 0.8109908699989319, mu08: 0.9186345338821411, mu1: 1.0347230434417725\n",
      "Current MAE - mu0: 0.36102738976478577, mu05: 0.4641956686973572, mu08: 0.5729278326034546, mu1: 0.6555957794189453\n",
      "Current RMSE - mu0: 0.14022953808307648, mu05: 0.2608215808868408, mu08: 0.36979639530181885, mu1: 0.4623491168022156\n",
      "Current MAE - mu0: 0.10171476006507874, mu05: 0.19903884828090668, mu08: 0.28564974665641785, mu1: 0.3529511094093323\n",
      "Current RMSE - mu0: 0.14122040569782257, mu05: 0.25972577929496765, mu08: 0.3770803213119507, mu1: 0.46048808097839355\n",
      "Current MAE - mu0: 0.1025550365447998, mu05: 0.19869375228881836, mu08: 0.2884179651737213, mu1: 0.35286596417427063\n",
      "Current RMSE - mu0: 0.16772015392780304, mu05: 0.2757052779197693, mu08: 0.3949248790740967, mu1: 0.4777160882949829\n",
      "Current MAE - mu0: 0.12497927248477936, mu05: 0.21174736320972443, mu08: 0.30436307191848755, mu1: 0.36799392104148865\n",
      "Current RMSE - mu0: 0.14480163156986237, mu05: 0.26174265146255493, mu08: 0.3742871880531311, mu1: 0.45478498935699463\n",
      "Current MAE - mu0: 0.1096668392419815, mu05: 0.2009919285774231, mu08: 0.28956663608551025, mu1: 0.34975484013557434\n",
      "Current RMSE - mu0: 0.13467469811439514, mu05: 0.2576638460159302, mu08: 0.3722168803215027, mu1: 0.45375534892082214\n",
      "Current MAE - mu0: 0.09970225393772125, mu05: 0.19693253934383392, mu08: 0.2869240641593933, mu1: 0.3487318456172943\n",
      "Current RMSE - mu0: 0.13977280259132385, mu05: 0.2591730058193207, mu08: 0.37592601776123047, mu1: 0.4590762257575989\n",
      "Current MAE - mu0: 0.10212257504463196, mu05: 0.19773414731025696, mu08: 0.2885788083076477, mu1: 0.35258954763412476\n",
      "Current RMSE - mu0: 0.1344594657421112, mu05: 0.25486013293266296, mu08: 0.3746393918991089, mu1: 0.454866886138916\n",
      "Current MAE - mu0: 0.09579972922801971, mu05: 0.19275325536727905, mu08: 0.28686124086380005, mu1: 0.3479745090007782\n",
      "Current RMSE - mu0: 0.42524853348731995, mu05: 0.5320984125137329, mu08: 0.6644762754440308, mu1: 0.7631434798240662\n",
      "Current MAE - mu0: 0.2533906102180481, mu05: 0.3483036458492279, mu08: 0.4524993300437927, mu1: 0.5295087695121765\n",
      "Current RMSE - mu0: 0.7205169796943665, mu05: 0.8237264156341553, mu08: 0.9666378498077393, mu1: 1.0608835220336914\n",
      "Current MAE - mu0: 0.4117003083229065, mu05: 0.5082741975784302, mu08: 0.621679425239563, mu1: 0.7041851282119751\n",
      "Current RMSE - mu0: 0.7020902633666992, mu05: 0.8073422908782959, mu08: 0.938673734664917, mu1: 1.0432190895080566\n",
      "Current MAE - mu0: 0.40802499651908875, mu05: 0.5056658983230591, mu08: 0.6147875785827637, mu1: 0.6991976499557495\n",
      "Current RMSE - mu0: 0.7105756998062134, mu05: 0.8136244416236877, mu08: 0.9471040964126587, mu1: 1.0422537326812744\n",
      "Current MAE - mu0: 0.4095785319805145, mu05: 0.5045390129089355, mu08: 0.6148488521575928, mu1: 0.6934458017349243\n",
      "Current RMSE - mu0: 0.7128889560699463, mu05: 0.8121721744537354, mu08: 0.957146942615509, mu1: 1.0663800239562988\n",
      "Current MAE - mu0: 0.4026903510093689, mu05: 0.49785515666007996, mu08: 0.6135104894638062, mu1: 0.6998447775840759\n",
      "Current RMSE - mu0: 0.7026591897010803, mu05: 0.8125889897346497, mu08: 0.9331105947494507, mu1: 1.052237629890442\n",
      "Current MAE - mu0: 0.40304768085479736, mu05: 0.5002603530883789, mu08: 0.6042817831039429, mu1: 0.692974328994751\n",
      "Current RMSE - mu0: 0.7355519533157349, mu05: 0.8312278985977173, mu08: 0.964642345905304, mu1: 1.085618019104004\n",
      "Current MAE - mu0: 0.4134639501571655, mu05: 0.508112370967865, mu08: 0.6216248273849487, mu1: 0.7081891298294067\n",
      "Current RMSE - mu0: 0.7080152034759521, mu05: 0.8180403113365173, mu08: 0.942433774471283, mu1: 1.0577991008758545\n",
      "Current MAE - mu0: 0.40470054745674133, mu05: 0.5056586265563965, mu08: 0.6120399236679077, mu1: 0.70355224609375\n",
      "Current RMSE - mu0: 0.9553757309913635, mu05: 1.0599868297576904, mu08: 1.20243239402771, mu1: 1.3162446022033691\n",
      "Current MAE - mu0: 0.5781471729278564, mu05: 0.6725614070892334, mu08: 0.7956376075744629, mu1: 0.8914133310317993\n",
      "Current RMSE - mu0: 0.9253472089767456, mu05: 1.0361871719360352, mu08: 1.1780391931533813, mu1: 1.3052161931991577\n",
      "Current MAE - mu0: 0.552733302116394, mu05: 0.6555325388908386, mu08: 0.7747706174850464, mu1: 0.8761601448059082\n",
      "Current RMSE - mu0: 0.9262030124664307, mu05: 1.0302619934082031, mu08: 1.1965856552124023, mu1: 1.3247098922729492\n",
      "Current MAE - mu0: 0.5646387338638306, mu05: 0.6621589660644531, mu08: 0.7885300517082214, mu1: 0.8902935981750488\n",
      "Current RMSE - mu0: 0.9658935070037842, mu05: 1.0665072202682495, mu08: 1.2360469102859497, mu1: 1.3499408960342407\n",
      "Current MAE - mu0: 0.5889526009559631, mu05: 0.6877362728118896, mu08: 0.8111324906349182, mu1: 0.9033443927764893\n",
      "Current RMSE - mu0: 0.9195876121520996, mu05: 1.0318471193313599, mu08: 1.1921145915985107, mu1: 1.2947912216186523\n",
      "Current MAE - mu0: 0.5457018613815308, mu05: 0.6479673981666565, mu08: 0.774424135684967, mu1: 0.869430661201477\n",
      "Current RMSE - mu0: 0.9305989742279053, mu05: 1.0424151420593262, mu08: 1.1921883821487427, mu1: 1.2985926866531372\n",
      "Current MAE - mu0: 0.5645997524261475, mu05: 0.6640449166297913, mu08: 0.7880133986473083, mu1: 0.8746739625930786\n",
      "Current RMSE - mu0: 0.9683723449707031, mu05: 1.082507848739624, mu08: 1.2221516370773315, mu1: 1.341700792312622\n",
      "Current MAE - mu0: 0.5783078670501709, mu05: 0.6825809478759766, mu08: 0.8002316355705261, mu1: 0.8927634954452515\n",
      "Current RMSE - mu0: 0.8825597763061523, mu05: 0.988064169883728, mu08: 1.122196912765503, mu1: 1.2497254610061646\n",
      "Current MAE - mu0: 0.5453464984893799, mu05: 0.6467347741127014, mu08: 0.76100754737854, mu1: 0.8565189838409424\n",
      "Current RMSE - mu0: 0.8855571746826172, mu05: 0.9925923347473145, mu08: 1.1347019672393799, mu1: 1.2535685300827026\n",
      "Current MAE - mu0: 0.5852704644203186, mu05: 0.6824454069137573, mu08: 0.8038617372512817, mu1: 0.8920204639434814\n",
      "Current RMSE - mu0: 0.9194031953811646, mu05: 1.0208162069320679, mu08: 1.1757310628890991, mu1: 1.2848670482635498\n",
      "Current MAE - mu0: 0.6031875610351562, mu05: 0.6970250010490417, mu08: 0.8225871324539185, mu1: 0.9084258079528809\n",
      "Current RMSE - mu0: 0.8755894303321838, mu05: 0.985763669013977, mu08: 1.1264780759811401, mu1: 1.235779047012329\n",
      "Current MAE - mu0: 0.5723162889480591, mu05: 0.6698098182678223, mu08: 0.7845670580863953, mu1: 0.8803032040596008\n",
      "Current RMSE - mu0: 0.8767399787902832, mu05: 0.9805020093917847, mu08: 1.1315338611602783, mu1: 1.2313377857208252\n",
      "Current MAE - mu0: 0.5790565013885498, mu05: 0.6729215383529663, mu08: 0.795199990272522, mu1: 0.8784457445144653\n",
      "Current RMSE - mu0: 0.9017497897148132, mu05: 1.0105702877044678, mu08: 1.148137092590332, mu1: 1.272691249847412\n",
      "Current MAE - mu0: 0.5894956588745117, mu05: 0.6881793737411499, mu08: 0.804759681224823, mu1: 0.902803897857666\n",
      "Current RMSE - mu0: 0.8580477237701416, mu05: 0.9623422622680664, mu08: 1.109178900718689, mu1: 1.232002854347229\n",
      "Current MAE - mu0: 0.5595320463180542, mu05: 0.6543843746185303, mu08: 0.7767102718353271, mu1: 0.8663508892059326\n",
      "Current RMSE - mu0: 0.8898090124130249, mu05: 0.9995579719543457, mu08: 1.1399860382080078, mu1: 1.2725534439086914\n",
      "Current MAE - mu0: 0.5816680192947388, mu05: 0.6781590580940247, mu08: 0.795177698135376, mu1: 0.8970944881439209\n",
      "Current RMSE - mu0: 0.6475314497947693, mu05: 0.7338740825653076, mu08: 0.8485718369483948, mu1: 0.9463049173355103\n",
      "Current MAE - mu0: 0.3664838373661041, mu05: 0.45714884996414185, mu08: 0.5627157688140869, mu1: 0.6371952295303345\n",
      "Current RMSE - mu0: 0.5973560810089111, mu05: 0.6799492835998535, mu08: 0.7863460779190063, mu1: 0.8774206638336182\n",
      "Current MAE - mu0: 0.3373875021934509, mu05: 0.42520377039909363, mu08: 0.5231260657310486, mu1: 0.6002097129821777\n",
      "Current RMSE - mu0: 0.6181734800338745, mu05: 0.7006250023841858, mu08: 0.8233045339584351, mu1: 0.9016256332397461\n",
      "Current MAE - mu0: 0.3507569134235382, mu05: 0.4402065873146057, mu08: 0.54544997215271, mu1: 0.6139878034591675\n",
      "Current RMSE - mu0: 0.5851224660873413, mu05: 0.6799870729446411, mu08: 0.7922191619873047, mu1: 0.9021354913711548\n",
      "Current MAE - mu0: 0.3403107523918152, mu05: 0.43501943349838257, mu08: 0.5332992672920227, mu1: 0.6203671097755432\n",
      "Current RMSE - mu0: 0.5879589915275574, mu05: 0.6705994009971619, mu08: 0.7719745635986328, mu1: 0.8739163875579834\n",
      "Current MAE - mu0: 0.33927491307258606, mu05: 0.42773324251174927, mu08: 0.520414412021637, mu1: 0.6031967401504517\n",
      "Current RMSE - mu0: 0.5955071449279785, mu05: 0.6855937242507935, mu08: 0.7996413707733154, mu1: 0.8937028050422668\n",
      "Current MAE - mu0: 0.3431410789489746, mu05: 0.43378275632858276, mu08: 0.5360723733901978, mu1: 0.6113473176956177\n",
      "Current RMSE - mu0: 0.6138556003570557, mu05: 0.6994470953941345, mu08: 0.8217884302139282, mu1: 0.9144070148468018\n",
      "Current MAE - mu0: 0.35366731882095337, mu05: 0.44314199686050415, mu08: 0.546688437461853, mu1: 0.6252790689468384\n",
      "Current RMSE - mu0: 0.692680835723877, mu05: 0.7830841541290283, mu08: 0.8984602689743042, mu1: 1.024183988571167\n",
      "Current MAE - mu0: 0.4322703778743744, mu05: 0.5234731435775757, mu08: 0.6244716644287109, mu1: 0.7176364064216614\n",
      "Current RMSE - mu0: 0.7841651439666748, mu05: 0.8940125703811646, mu08: 1.033794641494751, mu1: 1.151626706123352\n",
      "Current MAE - mu0: 0.5204540491104126, mu05: 0.6166200637817383, mu08: 0.7353609204292297, mu1: 0.8285840749740601\n",
      "Current RMSE - mu0: 0.8132460117340088, mu05: 0.9219553470611572, mu08: 1.0602885484695435, mu1: 1.1801049709320068\n",
      "Current MAE - mu0: 0.5374926924705505, mu05: 0.6369640827178955, mu08: 0.7553790211677551, mu1: 0.8548754453659058\n",
      "Current RMSE - mu0: 0.7691714763641357, mu05: 0.8737541437149048, mu08: 1.0173375606536865, mu1: 1.1166412830352783\n",
      "Current MAE - mu0: 0.507358193397522, mu05: 0.604539155960083, mu08: 0.7246831655502319, mu1: 0.8082598447799683\n",
      "Current RMSE - mu0: 0.7874298691749573, mu05: 0.8955711126327515, mu08: 1.0373969078063965, mu1: 1.1470414400100708\n",
      "Current MAE - mu0: 0.519426167011261, mu05: 0.6192031502723694, mu08: 0.7375969886779785, mu1: 0.8267336487770081\n",
      "Current RMSE - mu0: 0.7886757254600525, mu05: 0.8965712785720825, mu08: 1.047288417816162, mu1: 1.1658748388290405\n",
      "Current MAE - mu0: 0.528972864151001, mu05: 0.6254540681838989, mu08: 0.7485507130622864, mu1: 0.844201385974884\n",
      "Current RMSE - mu0: 0.7602264285087585, mu05: 0.8666188716888428, mu08: 1.016192078590393, mu1: 1.126339316368103\n",
      "Current MAE - mu0: 0.500014066696167, mu05: 0.5985962152481079, mu08: 0.7241241335868835, mu1: 0.8109111785888672\n",
      "Current RMSE - mu0: 0.7892476320266724, mu05: 0.900558590888977, mu08: 1.052241563796997, mu1: 1.1726152896881104\n",
      "Current MAE - mu0: 0.5265308618545532, mu05: 0.6254057884216309, mu08: 0.7483351230621338, mu1: 0.8452661037445068\n",
      "Current RMSE - mu0: 0.5997154712677002, mu05: 0.6951045393943787, mu08: 0.814003586769104, mu1: 0.917002260684967\n",
      "Current MAE - mu0: 0.33150213956832886, mu05: 0.4199858009815216, mu08: 0.5205036401748657, mu1: 0.599181592464447\n",
      "Current RMSE - mu0: 0.6619857549667358, mu05: 0.7495675086975098, mu08: 0.8699943423271179, mu1: 0.9636359810829163\n",
      "Current MAE - mu0: 0.3575451076030731, mu05: 0.4444025456905365, mu08: 0.5466416478157043, mu1: 0.6220960021018982\n",
      "Current RMSE - mu0: 0.6040273904800415, mu05: 0.7039483189582825, mu08: 0.8172370195388794, mu1: 0.9215735197067261\n",
      "Current MAE - mu0: 0.33459967374801636, mu05: 0.42620959877967834, mu08: 0.5228321552276611, mu1: 0.6056135892868042\n",
      "Current RMSE - mu0: 0.6176135540008545, mu05: 0.708293080329895, mu08: 0.8415305614471436, mu1: 0.9393489360809326\n",
      "Current MAE - mu0: 0.34739482402801514, mu05: 0.4285673499107361, mu08: 0.535577118396759, mu1: 0.616851270198822\n",
      "Current RMSE - mu0: 0.629245400428772, mu05: 0.7160891890525818, mu08: 0.8451537489891052, mu1: 0.9384548664093018\n",
      "Current MAE - mu0: 0.34188735485076904, mu05: 0.4275185167789459, mu08: 0.5318881869316101, mu1: 0.6115367412567139\n",
      "Current RMSE - mu0: 0.6396613121032715, mu05: 0.7370234131813049, mu08: 0.845510721206665, mu1: 0.9501031041145325\n",
      "Current MAE - mu0: 0.3480380177497864, mu05: 0.44084638357162476, mu08: 0.5364100933074951, mu1: 0.6134543418884277\n",
      "Current RMSE - mu0: 0.6243090629577637, mu05: 0.7179792523384094, mu08: 0.8352063894271851, mu1: 0.9367231130599976\n",
      "Current MAE - mu0: 0.3463103175163269, mu05: 0.4331802427768707, mu08: 0.5325238704681396, mu1: 0.6079450249671936\n",
      "Current RMSE - mu0: 0.6374815702438354, mu05: 0.7272191047668457, mu08: 0.8491396903991699, mu1: 0.9507549405097961\n",
      "Current MAE - mu0: 0.365039199590683, mu05: 0.45014941692352295, mu08: 0.549639105796814, mu1: 0.6265053749084473\n",
      "Current RMSE - mu0: 0.5202608108520508, mu05: 0.6144720315933228, mu08: 0.73476642370224, mu1: 0.8391594886779785\n",
      "Current MAE - mu0: 0.3174261152744293, mu05: 0.4041513502597809, mu08: 0.5037897825241089, mu1: 0.5843970775604248\n",
      "Current RMSE - mu0: 0.5307586193084717, mu05: 0.6230348348617554, mu08: 0.7614741325378418, mu1: 0.8398686051368713\n",
      "Current MAE - mu0: 0.3277994990348816, mu05: 0.41198182106018066, mu08: 0.5191933512687683, mu1: 0.5847983360290527\n",
      "Current RMSE - mu0: 0.5660549998283386, mu05: 0.6633317470550537, mu08: 0.782742977142334, mu1: 0.8691657781600952\n",
      "Current MAE - mu0: 0.34719550609588623, mu05: 0.43441566824913025, mu08: 0.53110671043396, mu1: 0.6028202176094055\n",
      "Current RMSE - mu0: 0.5222888588905334, mu05: 0.6133237481117249, mu08: 0.7433542609214783, mu1: 0.8430182933807373\n",
      "Current MAE - mu0: 0.32419925928115845, mu05: 0.40647292137145996, mu08: 0.5095444917678833, mu1: 0.5840087532997131\n",
      "Current RMSE - mu0: 0.5380300879478455, mu05: 0.6281775236129761, mu08: 0.7489076852798462, mu1: 0.8670523166656494\n",
      "Current MAE - mu0: 0.3317857086658478, mu05: 0.4149841070175171, mu08: 0.5124038457870483, mu1: 0.5989891290664673\n",
      "Current RMSE - mu0: 0.5908836126327515, mu05: 0.6769333481788635, mu08: 0.8041162490844727, mu1: 0.9037468433380127\n",
      "Current MAE - mu0: 0.3591737747192383, mu05: 0.4420906603336334, mu08: 0.5445324182510376, mu1: 0.6200627088546753\n",
      "Current RMSE - mu0: 0.5390512347221375, mu05: 0.6343125104904175, mu08: 0.7473616600036621, mu1: 0.8593629598617554\n",
      "Current MAE - mu0: 0.3337305188179016, mu05: 0.41858619451522827, mu08: 0.5118177533149719, mu1: 0.5968217849731445\n",
      "Current RMSE - mu0: 0.9230190515518188, mu05: 1.0052765607833862, mu08: 1.131150722503662, mu1: 1.2290884256362915\n",
      "Current MAE - mu0: 0.4599764347076416, mu05: 0.5475286245346069, mu08: 0.6533506512641907, mu1: 0.7303798794746399\n",
      "Current RMSE - mu0: 0.8904106616973877, mu05: 0.9775251150131226, mu08: 1.1078760623931885, mu1: 1.2060911655426025\n",
      "Current MAE - mu0: 0.45487505197525024, mu05: 0.5463473796844482, mu08: 0.6549085378646851, mu1: 0.7355586886405945\n",
      "Current RMSE - mu0: 0.8680400848388672, mu05: 0.9525960087776184, mu08: 1.0598266124725342, mu1: 1.1814773082733154\n",
      "Current MAE - mu0: 0.43824732303619385, mu05: 0.529807448387146, mu08: 0.62518709897995, mu1: 0.7141191363334656\n",
      "Current RMSE - mu0: 0.891905665397644, mu05: 0.9822562336921692, mu08: 1.1045591831207275, mu1: 1.1994006633758545\n",
      "Current MAE - mu0: 0.44979268312454224, mu05: 0.5385075211524963, mu08: 0.6444089412689209, mu1: 0.7198628187179565\n",
      "Current RMSE - mu0: 0.855698823928833, mu05: 0.9470112919807434, mu08: 1.0704126358032227, mu1: 1.163999080657959\n",
      "Current MAE - mu0: 0.44156649708747864, mu05: 0.5350350141525269, mu08: 0.6355794668197632, mu1: 0.7108217477798462\n",
      "Current RMSE - mu0: 0.8582794666290283, mu05: 0.9418773651123047, mu08: 1.0714948177337646, mu1: 1.1604526042938232\n",
      "Current MAE - mu0: 0.4398743510246277, mu05: 0.5296405553817749, mu08: 0.6357647776603699, mu1: 0.706142246723175\n",
      "Current RMSE - mu0: 0.8979182243347168, mu05: 0.9899359345436096, mu08: 1.1114780902862549, mu1: 1.197036862373352\n",
      "Current MAE - mu0: 0.4515173137187958, mu05: 0.5426498055458069, mu08: 0.6477972269058228, mu1: 0.7188074588775635\n",
      "Current RMSE - mu0: 0.8593767285346985, mu05: 0.9563380479812622, mu08: 1.0727827548980713, mu1: 1.1944303512573242\n",
      "Current MAE - mu0: 0.4728640019893646, mu05: 0.5615456700325012, mu08: 0.6612747311592102, mu1: 0.752638041973114\n",
      "Current RMSE - mu0: 0.7804333567619324, mu05: 0.8656644821166992, mu08: 0.9932302236557007, mu1: 1.0903851985931396\n",
      "Current MAE - mu0: 0.44720280170440674, mu05: 0.5333120226860046, mu08: 0.6385568380355835, mu1: 0.7205116748809814\n",
      "Current RMSE - mu0: 0.7843600511550903, mu05: 0.8722548484802246, mu08: 1.0002310276031494, mu1: 1.074674129486084\n",
      "Current MAE - mu0: 0.4525458812713623, mu05: 0.538818359375, mu08: 0.6463026404380798, mu1: 0.7143659591674805\n",
      "Current RMSE - mu0: 0.7984915971755981, mu05: 0.8848893642425537, mu08: 1.0163297653198242, mu1: 1.114475965499878\n",
      "Current MAE - mu0: 0.46482938528060913, mu05: 0.5518481731414795, mu08: 0.6570796966552734, mu1: 0.7340103983879089\n",
      "Current RMSE - mu0: 0.7997077703475952, mu05: 0.8849301338195801, mu08: 1.0169755220413208, mu1: 1.1090714931488037\n",
      "Current MAE - mu0: 0.4575110673904419, mu05: 0.5426723957061768, mu08: 0.6492190957069397, mu1: 0.7282590866088867\n",
      "Current RMSE - mu0: 0.7914107441902161, mu05: 0.8849153518676758, mu08: 1.0141496658325195, mu1: 1.096628189086914\n",
      "Current MAE - mu0: 0.4569776654243469, mu05: 0.5451277494430542, mu08: 0.651735782623291, mu1: 0.7243204116821289\n",
      "Current RMSE - mu0: 0.8175380229949951, mu05: 0.9040399789810181, mu08: 1.0410842895507812, mu1: 1.1455841064453125\n",
      "Current MAE - mu0: 0.46976298093795776, mu05: 0.5545002818107605, mu08: 0.6668511629104614, mu1: 0.7470550537109375\n",
      "Current RMSE - mu0: 0.7860572338104248, mu05: 0.8797518014907837, mu08: 0.998675525188446, mu1: 1.0990787744522095\n",
      "Current MAE - mu0: 0.4468526244163513, mu05: 0.5375918745994568, mu08: 0.6402420997619629, mu1: 0.722366988658905\n",
      "Current RMSE - mu0: 0.752262532711029, mu05: 0.8548011183738708, mu08: 0.9761495590209961, mu1: 1.106316328048706\n",
      "Current MAE - mu0: 0.48910921812057495, mu05: 0.5836198925971985, mu08: 0.6945301294326782, mu1: 0.7914184331893921\n",
      "Current RMSE - mu0: 0.7537413835525513, mu05: 0.8569319248199463, mu08: 1.00351881980896, mu1: 1.1097676753997803\n",
      "Current MAE - mu0: 0.4899860620498657, mu05: 0.5855809450149536, mu08: 0.7072542905807495, mu1: 0.7919514179229736\n",
      "Current RMSE - mu0: 0.7559093236923218, mu05: 0.8601571321487427, mu08: 1.0029964447021484, mu1: 1.1113265752792358\n",
      "Current MAE - mu0: 0.4891672730445862, mu05: 0.5879384279251099, mu08: 0.7044579982757568, mu1: 0.7904309034347534\n",
      "Current RMSE - mu0: 0.7466593980789185, mu05: 0.8493823409080505, mu08: 0.9892714023590088, mu1: 1.1117676496505737\n",
      "Current MAE - mu0: 0.48504573106765747, mu05: 0.5819815993309021, mu08: 0.6969771385192871, mu1: 0.793839156627655\n",
      "Current RMSE - mu0: 0.755954921245575, mu05: 0.8609451055526733, mu08: 0.9993877410888672, mu1: 1.1189155578613281\n",
      "Current MAE - mu0: 0.4902414381504059, mu05: 0.5870562791824341, mu08: 0.7023530006408691, mu1: 0.7993596792221069\n",
      "Current RMSE - mu0: 0.754612922668457, mu05: 0.8574919700622559, mu08: 0.9958264827728271, mu1: 1.1179933547973633\n",
      "Current MAE - mu0: 0.4904337525367737, mu05: 0.5853309631347656, mu08: 0.7028248310089111, mu1: 0.8001207113265991\n",
      "Current RMSE - mu0: 0.7560584545135498, mu05: 0.8632702827453613, mu08: 0.9879997968673706, mu1: 1.1038810014724731\n",
      "Current MAE - mu0: 0.490864634513855, mu05: 0.5907776355743408, mu08: 0.699591875076294, mu1: 0.7940301895141602\n",
      "Current RMSE - mu0: 0.7197514772415161, mu05: 0.8195773363113403, mu08: 0.9552650451660156, mu1: 1.0703355073928833\n",
      "Current MAE - mu0: 0.4197311997413635, mu05: 0.5170891880989075, mu08: 0.627983808517456, mu1: 0.7209282517433167\n",
      "Current RMSE - mu0: 0.686421275138855, mu05: 0.7818287014961243, mu08: 0.9128952026367188, mu1: 1.0208044052124023\n",
      "Current MAE - mu0: 0.3561367392539978, mu05: 0.4540846645832062, mu08: 0.5686531066894531, mu1: 0.6513371467590332\n",
      "Current RMSE - mu0: 0.6923191547393799, mu05: 0.7944250106811523, mu08: 0.9100907444953918, mu1: 1.0132441520690918\n",
      "Current MAE - mu0: 0.3591095507144928, mu05: 0.46060609817504883, mu08: 0.5647215843200684, mu1: 0.6504018902778625\n",
      "Current RMSE - mu0: 0.6902474164962769, mu05: 0.7773299217224121, mu08: 0.9189856052398682, mu1: 1.0255322456359863\n",
      "Current MAE - mu0: 0.349452942609787, mu05: 0.4483422636985779, mu08: 0.5682253837585449, mu1: 0.6484352946281433\n",
      "Current RMSE - mu0: 0.695143461227417, mu05: 0.7847430109977722, mu08: 0.9156507253646851, mu1: 1.0333163738250732\n",
      "Current MAE - mu0: 0.3594479560852051, mu05: 0.4575313329696655, mu08: 0.5674153566360474, mu1: 0.6608449220657349\n",
      "Current RMSE - mu0: 0.6950206160545349, mu05: 0.7961498498916626, mu08: 0.9213435053825378, mu1: 1.046583890914917\n",
      "Current MAE - mu0: 0.35667532682418823, mu05: 0.45669904351234436, mu08: 0.5702203512191772, mu1: 0.6571998596191406\n",
      "Current RMSE - mu0: 0.6678040027618408, mu05: 0.7436726689338684, mu08: 0.8887803554534912, mu1: 0.9992589950561523\n",
      "Current MAE - mu0: 0.3460586965084076, mu05: 0.44097432494163513, mu08: 0.5590444207191467, mu1: 0.6396253108978271\n",
      "Current RMSE - mu0: 0.685287356376648, mu05: 0.7777278423309326, mu08: 0.8995535969734192, mu1: 1.0131754875183105\n",
      "Current MAE - mu0: 0.35358500480651855, mu05: 0.45332831144332886, mu08: 0.5669307708740234, mu1: 0.648324728012085\n",
      "Current RMSE - mu0: 0.1473962515592575, mu05: 0.26565101742744446, mu08: 0.38530731201171875, mu1: 0.46402865648269653\n",
      "Current MAE - mu0: 0.10568737238645554, mu05: 0.20135033130645752, mu08: 0.2944011390209198, mu1: 0.35587090253829956\n",
      "Current RMSE - mu0: 0.13157115876674652, mu05: 0.25180089473724365, mu08: 0.3708275556564331, mu1: 0.44879239797592163\n",
      "Current MAE - mu0: 0.09310106933116913, mu05: 0.19145353138446808, mu08: 0.2843584418296814, mu1: 0.34509944915771484\n",
      "Current RMSE - mu0: 0.16176430881023407, mu05: 0.2742236256599426, mu08: 0.3827948272228241, mu1: 0.46938440203666687\n",
      "Current MAE - mu0: 0.11644693464040756, mu05: 0.2080041766166687, mu08: 0.2938319444656372, mu1: 0.3601089119911194\n",
      "Current RMSE - mu0: 0.1508951187133789, mu05: 0.26491183042526245, mu08: 0.3851815462112427, mu1: 0.464252233505249\n",
      "Current MAE - mu0: 0.11406926810741425, mu05: 0.20371389389038086, mu08: 0.2949488162994385, mu1: 0.3573853373527527\n",
      "Current RMSE - mu0: 0.13232555985450745, mu05: 0.25369614362716675, mu08: 0.37201160192489624, mu1: 0.4592320919036865\n",
      "Current MAE - mu0: 0.0957716703414917, mu05: 0.19317203760147095, mu08: 0.2847077250480652, mu1: 0.35089758038520813\n",
      "Current RMSE - mu0: 0.1756182312965393, mu05: 0.2811020016670227, mu08: 0.39767223596572876, mu1: 0.47796255350112915\n",
      "Current MAE - mu0: 0.12450054287910461, mu05: 0.21324914693832397, mu08: 0.3042823076248169, mu1: 0.36467474699020386\n",
      "Current RMSE - mu0: 0.16295862197875977, mu05: 0.27377375960350037, mu08: 0.3927675485610962, mu1: 0.4702898859977722\n",
      "Current MAE - mu0: 0.11948159337043762, mu05: 0.21038970351219177, mu08: 0.29985007643699646, mu1: 0.36241614818573\n",
      "Current RMSE - mu0: 0.42589977383613586, mu05: 0.5396696925163269, mu08: 0.6601189374923706, mu1: 0.7467880249023438\n",
      "Current MAE - mu0: 0.25692665576934814, mu05: 0.3540796637535095, mu08: 0.45151031017303467, mu1: 0.5201643705368042\n",
      "Current RMSE - mu0: 0.721014142036438, mu05: 0.8298566341400146, mu08: 0.9662424921989441, mu1: 1.0766106843948364\n",
      "Current MAE - mu0: 0.4081175625324249, mu05: 0.5056332945823669, mu08: 0.618000864982605, mu1: 0.7036268711090088\n",
      "Current RMSE - mu0: 0.7180103063583374, mu05: 0.8156779408454895, mu08: 0.9594894647598267, mu1: 1.0631896257400513\n",
      "Current MAE - mu0: 0.4082823693752289, mu05: 0.5045240521430969, mu08: 0.6175041198730469, mu1: 0.7014954090118408\n",
      "Current RMSE - mu0: 0.7240557670593262, mu05: 0.8301200866699219, mu08: 0.9542042016983032, mu1: 1.0773817300796509\n",
      "Current MAE - mu0: 0.4141843616962433, mu05: 0.5110114812850952, mu08: 0.6154279708862305, mu1: 0.7108392119407654\n",
      "Current RMSE - mu0: 0.7171132564544678, mu05: 0.8233718872070312, mu08: 0.961174726486206, mu1: 1.0775766372680664\n",
      "Current MAE - mu0: 0.40503185987472534, mu05: 0.5048056244850159, mu08: 0.615307092666626, mu1: 0.7033299207687378\n",
      "Current RMSE - mu0: 0.7238993048667908, mu05: 0.8375338315963745, mu08: 0.9573090672492981, mu1: 1.0812069177627563\n",
      "Current MAE - mu0: 0.4139176607131958, mu05: 0.5166091322898865, mu08: 0.6199182271957397, mu1: 0.7117195129394531\n",
      "Current RMSE - mu0: 0.7068544626235962, mu05: 0.810169517993927, mu08: 0.938111424446106, mu1: 1.0520799160003662\n",
      "Current MAE - mu0: 0.40951332449913025, mu05: 0.5049546957015991, mu08: 0.607480525970459, mu1: 0.6990779638290405\n",
      "Current RMSE - mu0: 0.7090731263160706, mu05: 0.8039402365684509, mu08: 0.9473536610603333, mu1: 1.0410873889923096\n",
      "Current MAE - mu0: 0.4056108593940735, mu05: 0.5003620386123657, mu08: 0.6143132448196411, mu1: 0.6889662146568298\n",
      "Current RMSE - mu0: 0.9462785720825195, mu05: 1.0551557540893555, mu08: 1.1954338550567627, mu1: 1.3062834739685059\n",
      "Current MAE - mu0: 0.5687219500541687, mu05: 0.6668931245803833, mu08: 0.7866731286048889, mu1: 0.8785916566848755\n",
      "Current RMSE - mu0: 0.923213005065918, mu05: 1.0370395183563232, mu08: 1.1639244556427002, mu1: 1.3105762004852295\n",
      "Current MAE - mu0: 0.5541126728057861, mu05: 0.6562938094139099, mu08: 0.7718645334243774, mu1: 0.8790051937103271\n",
      "Current RMSE - mu0: 0.9286372661590576, mu05: 1.03090500831604, mu08: 1.183234453201294, mu1: 1.297699213027954\n",
      "Current MAE - mu0: 0.5614012479782104, mu05: 0.655239462852478, mu08: 0.7737280130386353, mu1: 0.8696079850196838\n",
      "Current RMSE - mu0: 0.9606680870056152, mu05: 1.0727641582489014, mu08: 1.2139654159545898, mu1: 1.351484775543213\n",
      "Current MAE - mu0: 0.5880233645439148, mu05: 0.6891417503356934, mu08: 0.8154591917991638, mu1: 0.9035943746566772\n",
      "Current RMSE - mu0: 0.9085825681686401, mu05: 1.0235400199890137, mu08: 1.1521251201629639, mu1: 1.2542860507965088\n",
      "Current MAE - mu0: 0.5411081314086914, mu05: 0.6426764130592346, mu08: 0.7572293281555176, mu1: 0.8516033887863159\n",
      "Current RMSE - mu0: 0.9072777032852173, mu05: 1.0185061693191528, mu08: 1.1666388511657715, mu1: 1.272668719291687\n",
      "Current MAE - mu0: 0.5453218221664429, mu05: 0.6447608470916748, mu08: 0.7589243650436401, mu1: 0.8574698567390442\n",
      "Current RMSE - mu0: 0.949465274810791, mu05: 1.0477070808410645, mu08: 1.2110083103179932, mu1: 1.3110237121582031\n",
      "Current MAE - mu0: 0.5739577412605286, mu05: 0.6698351502418518, mu08: 0.7958828210830688, mu1: 0.8874821662902832\n",
      "Current RMSE - mu0: 0.8868478536605835, mu05: 0.9953932762145996, mu08: 1.1507002115249634, mu1: 1.253259301185608\n",
      "Current MAE - mu0: 0.5549662113189697, mu05: 0.652742862701416, mu08: 0.7773350477218628, mu1: 0.8741687536239624\n",
      "Current RMSE - mu0: 0.8878906965255737, mu05: 0.9954134225845337, mu08: 1.1273691654205322, mu1: 1.2619041204452515\n",
      "Current MAE - mu0: 0.5845966935157776, mu05: 0.6831893920898438, mu08: 0.7936907410621643, mu1: 0.8950236439704895\n",
      "Current RMSE - mu0: 0.9248418807983398, mu05: 1.0374442338943481, mu08: 1.1917672157287598, mu1: 1.3159644603729248\n",
      "Current MAE - mu0: 0.6075778603553772, mu05: 0.7053588628768921, mu08: 0.8356673717498779, mu1: 0.9303970336914062\n",
      "Current RMSE - mu0: 0.8694173097610474, mu05: 0.9706520438194275, mu08: 1.1283267736434937, mu1: 1.2422220706939697\n",
      "Current MAE - mu0: 0.5667964220046997, mu05: 0.6624528169631958, mu08: 0.786832869052887, mu1: 0.8725290894508362\n",
      "Current RMSE - mu0: 0.8817667961120605, mu05: 0.9855128526687622, mu08: 1.1226216554641724, mu1: 1.2421891689300537\n",
      "Current MAE - mu0: 0.5834246873855591, mu05: 0.6752362847328186, mu08: 0.7874540090560913, mu1: 0.8789400458335876\n",
      "Current RMSE - mu0: 0.9405227303504944, mu05: 1.0429455041885376, mu08: 1.178187608718872, mu1: 1.3016197681427002\n",
      "Current MAE - mu0: 0.6161633133888245, mu05: 0.7129511833190918, mu08: 0.8303384184837341, mu1: 0.9251377582550049\n",
      "Current RMSE - mu0: 0.8497920036315918, mu05: 0.9573158621788025, mu08: 1.0987588167190552, mu1: 1.220747947692871\n",
      "Current MAE - mu0: 0.5561175346374512, mu05: 0.6531078815460205, mu08: 0.7682424783706665, mu1: 0.862334132194519\n",
      "Current RMSE - mu0: 0.8728429079055786, mu05: 0.9767325520515442, mu08: 1.1250231266021729, mu1: 1.2399568557739258\n",
      "Current MAE - mu0: 0.5828037261962891, mu05: 0.6766819953918457, mu08: 0.7985645532608032, mu1: 0.8858965635299683\n",
      "Current RMSE - mu0: 0.596192479133606, mu05: 0.6869325041770935, mu08: 0.7967104911804199, mu1: 0.9000823497772217\n",
      "Current MAE - mu0: 0.34551599621772766, mu05: 0.43561670184135437, mu08: 0.5338407754898071, mu1: 0.6133544445037842\n",
      "Current RMSE - mu0: 0.6111078262329102, mu05: 0.6913081407546997, mu08: 0.8084133863449097, mu1: 0.8897202014923096\n",
      "Current MAE - mu0: 0.3449476659297943, mu05: 0.4331064224243164, mu08: 0.5337467193603516, mu1: 0.6071935892105103\n"
     ]
    }
   ],
   "source": [
    "args.s = 4\n",
    "train_loader, val_loader, test_loader, args = dataloading.load_data(args)\n",
    "in_channels = next(iter(test_loader))[0].shape[1]\n",
    "height, width = next(iter(test_loader))[0].shape[2], next(iter(test_loader))[0].shape[3]\n",
    "cnf4x = srflow.SRFlow((in_channels, height, width), args.filter_size, args.L, args.K, args.bsz, 4, args.constraint, args.nb, args.condch, args.noscale, args.noscaletest)\n",
    "exp_dir = 'runs/srflow_noresm_None__2024_08_19_09_10_41_4x/'\n",
    "cnf_path = '/home/christina/Documents/clim-var-ds-cnf-own/runs/srflow_noresm_None__2024_08_19_09_10_41_4x/model_epoch_8_step_12750.tar'\n",
    "\n",
    "# Load the model\n",
    "cnf4x = load_model(exp_dir, cnf4x, cnf_path).to(args.device)\n",
    "metric_eval_flow(test_loader, cnf4x, exp_dir, args)"
   ]
  },
  {
   "cell_type": "markdown",
   "id": "289006c6-5490-4f18-b4ec-e2b58e2d601f",
   "metadata": {},
   "source": [
    "#### 8x"
   ]
  },
  {
   "cell_type": "code",
   "execution_count": null,
   "id": "e21961a4-8992-4750-b853-de7eff2b8ce4",
   "metadata": {},
   "outputs": [],
   "source": []
  },
  {
   "cell_type": "code",
   "execution_count": null,
   "id": "c5fc20b2-b8ac-4eac-af0f-4320639308a7",
   "metadata": {},
   "outputs": [],
   "source": []
  },
  {
   "cell_type": "code",
   "execution_count": null,
   "id": "9a33f941-a30a-4eac-bc03-db0daf5a93c4",
   "metadata": {},
   "outputs": [],
   "source": []
  },
  {
   "cell_type": "code",
   "execution_count": null,
   "id": "45934053-378f-4c95-8a02-786c0a130cfe",
   "metadata": {},
   "outputs": [],
   "source": []
  },
  {
   "cell_type": "markdown",
   "id": "7c5d0e93-f4e4-4e47-a062-94c0b29f2cb3",
   "metadata": {},
   "source": [
    "#### 16x"
   ]
  },
  {
   "cell_type": "code",
   "execution_count": null,
   "id": "af79fd6b-1df1-4bd7-a520-aaa95b261a86",
   "metadata": {},
   "outputs": [],
   "source": []
  },
  {
   "cell_type": "code",
   "execution_count": null,
   "id": "5a80358c-416a-4e65-9141-4b2adf26bfe0",
   "metadata": {},
   "outputs": [],
   "source": []
  },
  {
   "cell_type": "code",
   "execution_count": null,
   "id": "2e57c60c-c0d5-4ecf-a846-55b9fd64e974",
   "metadata": {},
   "outputs": [],
   "source": []
  },
  {
   "cell_type": "code",
   "execution_count": null,
   "id": "6973a37f-e1e0-42e9-96bd-59a6b0420475",
   "metadata": {},
   "outputs": [],
   "source": []
  },
  {
   "cell_type": "code",
   "execution_count": null,
   "id": "3f1691f5-b543-444e-9204-cde4cebe7737",
   "metadata": {},
   "outputs": [],
   "source": []
  },
  {
   "cell_type": "code",
   "execution_count": 10,
   "id": "25a48072-d21e-4428-b9d3-391ea4a32304",
   "metadata": {},
   "outputs": [],
   "source": [
    "def plot_std(model):\n",
    "    \"\"\"\n",
    "    For this experiment we visualize the super-resolution space for a single\n",
    "    low-resolution image and its possible HR target predictions. We visualize\n",
    "    the standard deviation of these predictions from the mean of the model.\n",
    "    \"\"\"\n",
    "    color = 'plasma'\n",
    "    savedir_viz = \"experiments/{}_{}_{}/snapshots/population_std/\".format(exp_name, modelname, args.trainset)\n",
    "    os.makedirs(savedir_viz, exist_ok=True)\n",
    "    model.eval()\n",
    "    cmap = 'viridis' if args.trainset == 'era5-TCW' else 'inferno'\n",
    "    with torch.no_grad():\n",
    "        for batch_idx, item in enumerate(test_loader):\n",
    "\n",
    "            y = item[0].to(args.device)\n",
    "            x = item[1].to(args.device)\n",
    "\n",
    "            y_unorm = item[2].to(args.device)\n",
    "            x_unnorm = item[3].to(args.device)\n",
    "\n",
    "            mu0 = model(x)\n",
    "\n",
    "            samples = []\n",
    "            n = 20\n",
    "            sq_diff = torch.zeros_like(mu0)\n",
    "            for n in range(n):\n",
    "                mu1 = model(x)\n",
    "                samples.append(mu0)\n",
    "                sq_diff += (mu1 - mu0)**2\n",
    "\n",
    "            # compute population standard deviation\n",
    "            sigma = torch.sqrt(sq_diff / n)\n",
    "\n",
    "            # create plot\n",
    "            plt.figure()\n",
    "            plt.imshow(sigma[0,...].permute(1,2,0).cpu().numpy(), cmap=color)\n",
    "            plt.axis('off')\n",
    "            # plt.show()\n",
    "            plt.savefig(savedir_viz + '/sigma_{}.png'.format(batch_idx), dpi=300, bbox_inches='tight')\n",
    "            plt.close()\n",
    "\n",
    "            plt.figure()\n",
    "            plt.imshow(mu0[0,...].permute(1,2,0).cpu().numpy(), cmap=cmap)\n",
    "            plt.axis('off')\n",
    "            # plt.show()\n",
    "            plt.savefig(savedir_viz + '/mu0_{}.png'.format(batch_idx), dpi=300, bbox_inches='tight')\n",
    "            plt.close()\n",
    "\n",
    "            fig, (ax1, ax3, ax4, ax5, ax6, ax7) = plt.subplots(1,6)\n",
    "            # fig.suptitle('Y, Y_hat, mu, sigma')\n",
    "            ax1.imshow(y[0,...].permute(1,2,0).cpu().numpy(), cmap=cmap)\n",
    "            divider = make_axes_locatable(ax1)\n",
    "            cax = divider.append_axes(\"right\", size=\"5%\", pad=0.05)\n",
    "            cax.set_axis_off()\n",
    "            ax1.set_title('Ground Truth', fontsize=5)\n",
    "            ax1.axis('off')\n",
    "            # ax2.imshow(mu0[0,...].permute(1,2,0).cpu().numpy(), cmap=cmap)\n",
    "            # divider = make_axes_locatable(ax2)\n",
    "            # cax = divider.append_axes(\"right\", size=\"5%\", pad=0.05)\n",
    "            # cax.set_axis_off()\n",
    "            # ax2.set_title('Mean', fontsize=5)\n",
    "            # ax2.axis('off')\n",
    "            ax3.imshow(samples[1][0,...].permute(1,2,0).cpu().numpy(), cmap=cmap)\n",
    "            divider = make_axes_locatable(ax3)\n",
    "            cax = divider.append_axes(\"right\", size=\"5%\", pad=0.05)\n",
    "            cax.set_axis_off()\n",
    "            ax3.set_title('Sample 1', fontsize=5)\n",
    "            ax3.axis('off')\n",
    "            ax4.imshow(samples[2][0,...].permute(1,2,0).cpu().numpy(), cmap=cmap)\n",
    "            divider = make_axes_locatable(ax4)\n",
    "            cax = divider.append_axes(\"right\", size=\"5%\", pad=0.05)\n",
    "            cax.set_axis_off()\n",
    "            ax4.set_title('Sample 2', fontsize=5)\n",
    "            ax4.axis('off')\n",
    "            ax5.imshow(samples[2][0,...].permute(1,2,0).cpu().numpy(), cmap=cmap)\n",
    "            divider = make_axes_locatable(ax5)\n",
    "            cax = divider.append_axes(\"right\", size=\"5%\", pad=0.05)\n",
    "            cax.set_axis_off()\n",
    "            ax5.set_title('Sample 3', fontsize=5)\n",
    "            ax5.axis('off')\n",
    "            ax6.imshow(samples[2][0,...].permute(1,2,0).cpu().numpy(), cmap=cmap)\n",
    "            divider = make_axes_locatable(ax6)\n",
    "            cax = divider.append_axes(\"right\", size=\"5%\", pad=0.05)\n",
    "            cax.set_axis_off()\n",
    "            ax6.set_title('Sample 4', fontsize=5)\n",
    "            ax6.axis('off')\n",
    "            divider = make_axes_locatable(ax7)\n",
    "            cax = divider.append_axes(\"right\", size=\"5%\", pad=0.05)\n",
    "            im7 = ax7.imshow(sigma[0,...].permute(1,2,0).cpu().numpy(), cmap='magma')\n",
    "            cbar = fig.colorbar(im7,cmap='magma', cax=cax)\n",
    "            cbar.ax.tick_params(labelsize=5)\n",
    "            ax7.set_title('Std. Dev.', fontsize=5)\n",
    "            ax7.axis('off')\n",
    "            plt.tight_layout()\n",
    "            plt.savefig(savedir_viz + '/std_multiplot_{}.png'.format(batch_idx), dpi=300, bbox_inches='tight')\n",
    "            # plt.show()\n",
    "            plt.close()\n",
    "\n",
    "    return None"
   ]
  },
  {
   "cell_type": "code",
   "execution_count": null,
   "id": "41d94cf2-be70-45b4-89bf-9c06d2fcea3e",
   "metadata": {},
   "outputs": [],
   "source": []
  },
  {
   "cell_type": "code",
   "execution_count": null,
   "id": "cb177aea-61e3-4ab7-8174-bb8fa402a398",
   "metadata": {},
   "outputs": [],
   "source": []
  },
  {
   "cell_type": "code",
   "execution_count": null,
   "id": "f8b22e9e-7ce6-4c74-a3ac-81fc674e883f",
   "metadata": {},
   "outputs": [],
   "source": []
  },
  {
   "cell_type": "code",
   "execution_count": null,
   "id": "264f30ab-bb5c-4557-9df9-718fdae3fd54",
   "metadata": {},
   "outputs": [],
   "source": []
  },
  {
   "cell_type": "code",
   "execution_count": null,
   "id": "c5d985bf-522e-4548-ba2d-69b4332e988c",
   "metadata": {},
   "outputs": [],
   "source": [
    "# especially focus on analyzing extreme value predictions"
   ]
  },
  {
   "cell_type": "code",
   "execution_count": null,
   "id": "7e8ab0b0-40db-4250-87aa-eca4e1baa5a0",
   "metadata": {},
   "outputs": [],
   "source": []
  },
  {
   "cell_type": "markdown",
   "id": "99064919-f20b-41f1-aefc-51d7ac0a4725",
   "metadata": {},
   "source": [
    "### Scatter Plot (Predicted vs Target)\n",
    "![image.png](attachment:image.png)"
   ]
  },
  {
   "cell_type": "markdown",
   "id": "5e7d44f7-7c96-40d1-8486-a50ab42e2946",
   "metadata": {},
   "source": [
    "### Cumulative Distribution of  Residual Errors\n",
    "![image.png](attachment:image.png)"
   ]
  },
  {
   "cell_type": "code",
   "execution_count": null,
   "id": "d1deda00-919a-4bf8-9aba-24c58aaf084b",
   "metadata": {},
   "outputs": [],
   "source": []
  },
  {
   "cell_type": "code",
   "execution_count": null,
   "id": "2bcd5591-1151-40f9-a8d5-02923a8a0324",
   "metadata": {},
   "outputs": [],
   "source": []
  },
  {
   "cell_type": "code",
   "execution_count": null,
   "id": "aa6755db-4ebb-440e-9fb6-6fe490faccdc",
   "metadata": {},
   "outputs": [],
   "source": []
  },
  {
   "cell_type": "code",
   "execution_count": null,
   "id": "11bd36fc-e406-48d9-ba9b-ec9b1e41a745",
   "metadata": {},
   "outputs": [],
   "source": []
  },
  {
   "cell_type": "markdown",
   "id": "e23aae61-a32b-41c6-b87e-530f158f5589",
   "metadata": {
    "jp-MarkdownHeadingCollapsed": true
   },
   "source": [
    "## Evaluate Power Spectrum"
   ]
  },
  {
   "cell_type": "code",
   "execution_count": 61,
   "id": "6301c39b-6fd5-4f46-8c61-8811143d1067",
   "metadata": {},
   "outputs": [],
   "source": [
    "import os\n",
    "import torch\n",
    "import numpy as np\n",
    "import matplotlib.pyplot as plt\n",
    "\n",
    "def compute_power_spectrum(image):\n",
    "    # Apply FFT\n",
    "    f_transform = np.fft.fft2(image)\n",
    "    f_transform_shifted = np.fft.fftshift(f_transform)\n",
    "\n",
    "    # Compute the power spectrum\n",
    "    power_spectrum = np.abs(f_transform_shifted) ** 2\n",
    "\n",
    "    # Use logarithmic scale for visualization\n",
    "    log_power_spectrum = np.log(1 + power_spectrum)\n",
    "    \n",
    "    return log_power_spectrum\n",
    "    \n",
    "def compute_radial_profile(power_spectrum):\n",
    "    # Get the dimensions of the image\n",
    "    rows, cols = power_spectrum.shape\n",
    "    center_row, center_col = rows // 2, cols // 2\n",
    "\n",
    "    # Create a grid of coordinates\n",
    "    Y, X = np.indices((rows, cols))\n",
    "    distances = np.sqrt((X - center_col) ** 2 + (Y - center_row) ** 2)\n",
    "\n",
    "    # Create radial bins\n",
    "    max_radius = np.max(distances)\n",
    "    bin_edges = np.arange(0, max_radius + 1)\n",
    "    radial_sum = np.zeros(bin_edges.size)\n",
    "    radial_count = np.zeros(bin_edges.size)\n",
    "\n",
    "    for i in range(rows):\n",
    "        for j in range(cols):\n",
    "            radius = int(distances[i, j])\n",
    "            radial_sum[radius] += power_spectrum[i, j]\n",
    "            radial_count[radius] += 1\n",
    "\n",
    "    radial_mean = radial_sum / (radial_count + 1e-10)  # Avoid division by zero\n",
    "    return radial_mean\n",
    "\n",
    "def save_radial_profile(radial_profile, file_path):\n",
    "    \"\"\"Save the radial profile to a file.\"\"\"\n",
    "    np.savetxt(file_path, radial_profile)\n",
    "    \n",
    "def process_images(model, dataloader, output_dir, device, args, modeltype):\n",
    "    model.eval()\n",
    "    \n",
    "    # Ensure output directory exists\n",
    "    if not os.path.exists(output_dir):\n",
    "        os.makedirs(output_dir)\n",
    "    \n",
    "    with torch.no_grad():\n",
    "        for batch_idx, item in enumerate(dataloader):\n",
    "            \n",
    "            y = item[0].to(device)\n",
    "            x = item[1].to(device)\n",
    "            \n",
    "            y_unorm = item[2].to(device)\n",
    "            x_unorm = item[3].to(device)\n",
    "\n",
    "            if modeltype == 'srflow':\n",
    "                # Forward pass\n",
    "                z, _ = model.forward(x_hr=y, xlr=x)\n",
    "                mu0, _, _ = model(xlr=x, reverse=True, eps=0)\n",
    "                mu0_denorm = inv_min_max_scaler(mu0, y_unorm)\n",
    "                \n",
    "            elif modeltype == 'srgan':\n",
    "                mu0 = model(x, eps=0)\n",
    "                mu0_denorm = inv_min_max_scaler(mu0, y_unorm)            \n",
    "\n",
    "            # Compute power spectrum of model output\n",
    "            mu0_np = mu0_denorm.cpu().numpy()\n",
    "            power_spectrum_model = compute_power_spectrum(mu0_np[0, 0])  # Assuming single-channel image\n",
    "            radial_profile_model = compute_radial_profile(power_spectrum_model)\n",
    "\n",
    "            # Compute power spectrum of ground truth\n",
    "            y_np = y_unorm.cpu().numpy()\n",
    "            power_spectrum_gt = compute_power_spectrum(y_np[0, 0])  # Assuming single-channel image\n",
    "            radial_profile_gt = compute_radial_profile(power_spectrum_gt)\n",
    "\n",
    "            # Save the radial profiles to files\n",
    "            model_profile_path = os.path.join(output_dir, f'radial_profile_model_{batch_idx}.txt')\n",
    "            ground_truth_profile_path = os.path.join(output_dir, f'radial_profile_gt_{batch_idx}.txt')\n",
    "            save_radial_profile(radial_profile_model, model_profile_path)\n",
    "            save_radial_profile(radial_profile_gt, ground_truth_profile_path)\n",
    "\n",
    "            # Plot and save the radial profiles\n",
    "            output_path = os.path.join(output_dir, f'power_spectrum_comparison_{batch_idx}.png')\n",
    "            plt.figure()\n",
    "            plt.plot(np.arange(len(radial_profile_model)), radial_profile_model, color='royalblue', label='Model Output')\n",
    "            plt.plot(np.arange(len(radial_profile_gt)), radial_profile_gt, color='darkorange', label='Ground Truth')\n",
    "            plt.xlabel('Spatial Frequency (k)')\n",
    "            plt.ylabel('Log Power Spectrum')\n",
    "            plt.title(f'Power Spectrum Comparison - upsampling factor {args.s}x')\n",
    "            plt.legend()\n",
    "            plt.grid(True)\n",
    "            plt.savefig(output_path, bbox_inches='tight')\n",
    "            plt.close()\n",
    "\n",
    "            print(f'Processed and saved: {output_path}')\n",
    "\n",
    "            if batch_idx == 5:\n",
    "                break\n"
   ]
  },
  {
   "cell_type": "markdown",
   "id": "f7fd29c7-b2c2-41bf-8956-88fdd43c9840",
   "metadata": {},
   "source": [
    "#### SRFlow 2x"
   ]
  },
  {
   "cell_type": "code",
   "execution_count": 62,
   "id": "9c37acd4-f0b9-48f4-9d46-a40308adb801",
   "metadata": {},
   "outputs": [
    {
     "name": "stdout",
     "output_type": "stream",
     "text": [
      "Loading ERA5 TCW ...\n",
      "Model loaded successfully.\n",
      "Processed and saved: radial_power_spectra/srflow/2x/denorm/power_spectrum_comparison_0.png\n",
      "Processed and saved: radial_power_spectra/srflow/2x/denorm/power_spectrum_comparison_1.png\n",
      "Processed and saved: radial_power_spectra/srflow/2x/denorm/power_spectrum_comparison_2.png\n",
      "Processed and saved: radial_power_spectra/srflow/2x/denorm/power_spectrum_comparison_3.png\n",
      "Processed and saved: radial_power_spectra/srflow/2x/denorm/power_spectrum_comparison_4.png\n",
      "Processed and saved: radial_power_spectra/srflow/2x/denorm/power_spectrum_comparison_5.png\n"
     ]
    }
   ],
   "source": [
    "args.s = 2\n",
    "args.bsz = 64\n",
    "train_loader, val_loader, test_loader, args = dataloading.load_data(args)\n",
    "in_channels = next(iter(test_loader))[0].shape[1]\n",
    "height, width = next(iter(test_loader))[0].shape[2], next(iter(test_loader))[0].shape[3]\n",
    "cnf2x = srflow.SRFlow((in_channels, height, width), args.filter_size, args.L, args.K, args.bsz, 2, args.constraint, args.nb, args.condch, args.noscale, args.noscaletest)\n",
    "exp_dir = 'runs/srflow_era5-TCW_None_2024_06_29_13_26_09_2x/'\n",
    "cnf_path = '/home/christina/Documents/clim-var-ds-cnf-own/runs/srflow_era5-TCW_None_2024_06_29_13_26_09_2x/model_checkpoints/model_epoch_8_step_21500.tar'\n",
    "# Load the model\n",
    "cnf2x = load_model(exp_dir, cnf2x, cnf_path).to(args.device)\n",
    "process_images(cnf2x, test_loader, 'radial_power_spectra/srflow/2x/denorm/', args.device, args, modeltype='srflow')"
   ]
  },
  {
   "cell_type": "markdown",
   "id": "e34ace78-0c68-452e-8c8e-9012e9559815",
   "metadata": {},
   "source": [
    "#### SRGAN 2x"
   ]
  },
  {
   "cell_type": "code",
   "execution_count": 63,
   "id": "1bd37191-3c11-415c-aca1-f8c12e7c59b3",
   "metadata": {},
   "outputs": [
    {
     "name": "stdout",
     "output_type": "stream",
     "text": [
      "Loading ERA5 TCW ...\n",
      "Model loaded successfully.\n"
     ]
    },
    {
     "name": "stderr",
     "output_type": "stream",
     "text": [
      "/home/christina/anaconda3/lib/python3.7/site-packages/torch/nn/functional.py:3635: UserWarning: Default upsampling behavior when mode=bicubic is changed to align_corners=False since 0.4.0. Please specify align_corners=True if the old behavior is desired. See the documentation of nn.Upsample for details.\n",
      "  \"See the documentation of nn.Upsample for details.\".format(mode)\n"
     ]
    },
    {
     "name": "stdout",
     "output_type": "stream",
     "text": [
      "Processed and saved: radial_power_spectra/srgan/2x/denorm/power_spectrum_comparison_0.png\n"
     ]
    },
    {
     "name": "stderr",
     "output_type": "stream",
     "text": [
      "/home/christina/anaconda3/lib/python3.7/site-packages/torch/nn/functional.py:3635: UserWarning: Default upsampling behavior when mode=bicubic is changed to align_corners=False since 0.4.0. Please specify align_corners=True if the old behavior is desired. See the documentation of nn.Upsample for details.\n",
      "  \"See the documentation of nn.Upsample for details.\".format(mode)\n"
     ]
    },
    {
     "name": "stdout",
     "output_type": "stream",
     "text": [
      "Processed and saved: radial_power_spectra/srgan/2x/denorm/power_spectrum_comparison_1.png\n"
     ]
    },
    {
     "name": "stderr",
     "output_type": "stream",
     "text": [
      "/home/christina/anaconda3/lib/python3.7/site-packages/torch/nn/functional.py:3635: UserWarning: Default upsampling behavior when mode=bicubic is changed to align_corners=False since 0.4.0. Please specify align_corners=True if the old behavior is desired. See the documentation of nn.Upsample for details.\n",
      "  \"See the documentation of nn.Upsample for details.\".format(mode)\n"
     ]
    },
    {
     "name": "stdout",
     "output_type": "stream",
     "text": [
      "Processed and saved: radial_power_spectra/srgan/2x/denorm/power_spectrum_comparison_2.png\n"
     ]
    },
    {
     "name": "stderr",
     "output_type": "stream",
     "text": [
      "/home/christina/anaconda3/lib/python3.7/site-packages/torch/nn/functional.py:3635: UserWarning: Default upsampling behavior when mode=bicubic is changed to align_corners=False since 0.4.0. Please specify align_corners=True if the old behavior is desired. See the documentation of nn.Upsample for details.\n",
      "  \"See the documentation of nn.Upsample for details.\".format(mode)\n"
     ]
    },
    {
     "name": "stdout",
     "output_type": "stream",
     "text": [
      "Processed and saved: radial_power_spectra/srgan/2x/denorm/power_spectrum_comparison_3.png\n"
     ]
    },
    {
     "name": "stderr",
     "output_type": "stream",
     "text": [
      "/home/christina/anaconda3/lib/python3.7/site-packages/torch/nn/functional.py:3635: UserWarning: Default upsampling behavior when mode=bicubic is changed to align_corners=False since 0.4.0. Please specify align_corners=True if the old behavior is desired. See the documentation of nn.Upsample for details.\n",
      "  \"See the documentation of nn.Upsample for details.\".format(mode)\n"
     ]
    },
    {
     "name": "stdout",
     "output_type": "stream",
     "text": [
      "Processed and saved: radial_power_spectra/srgan/2x/denorm/power_spectrum_comparison_4.png\n"
     ]
    },
    {
     "name": "stderr",
     "output_type": "stream",
     "text": [
      "/home/christina/anaconda3/lib/python3.7/site-packages/torch/nn/functional.py:3635: UserWarning: Default upsampling behavior when mode=bicubic is changed to align_corners=False since 0.4.0. Please specify align_corners=True if the old behavior is desired. See the documentation of nn.Upsample for details.\n",
      "  \"See the documentation of nn.Upsample for details.\".format(mode)\n"
     ]
    },
    {
     "name": "stdout",
     "output_type": "stream",
     "text": [
      "Processed and saved: radial_power_spectra/srgan/2x/denorm/power_spectrum_comparison_5.png\n"
     ]
    }
   ],
   "source": [
    "args.s = 2\n",
    "args.bsz = 64\n",
    "train_loader, val_loader, test_loader, args = dataloading.load_data(args)\n",
    "in_channels = next(iter(test_loader))[0].shape[1]\n",
    "height, width = next(iter(test_loader))[0].shape[2], next(iter(test_loader))[0].shape[3]\n",
    "srgan2x = srgan.Generator(in_channels, out_nc=1, height=height, width=width, nf=128, s=args.s, nb=1)\n",
    "exp_dir = 'runs/SRGANruns/srgan_era5-TCW_None__2024_07_13_14_29_28_2x/'\n",
    "gan_path = '/home/christina/Documents/clim-var-ds-cnf-own/runs/SRGANruns/srgan_era5-TCW_None__2024_07_13_14_29_28_2x/model_checkpoints/generator_epoch_13_step_34000.tar'\n",
    "# Load the model\n",
    "srgan2x = load_model(exp_dir, srgan2x, gan_path).to(args.device)\n",
    "process_images(srgan2x, test_loader, 'radial_power_spectra/srgan/2x/denorm/', args.device, args, modeltype='srgan')"
   ]
  },
  {
   "cell_type": "markdown",
   "id": "c63e68b3-74c8-4b8f-abdf-4ec500d73703",
   "metadata": {},
   "source": [
    "### SRFlow 4x"
   ]
  },
  {
   "cell_type": "code",
   "execution_count": 55,
   "id": "6e5db06f-e11f-4928-8a73-0784f9495635",
   "metadata": {},
   "outputs": [
    {
     "name": "stdout",
     "output_type": "stream",
     "text": [
      "Loading ERA5 TCW ...\n",
      "Model loaded successfully.\n",
      "Processed and saved: radial_power_spectra/srflow/4x/power_spectrum_comparison_0.png\n",
      "Processed and saved: radial_power_spectra/srflow/4x/power_spectrum_comparison_1.png\n",
      "Processed and saved: radial_power_spectra/srflow/4x/power_spectrum_comparison_2.png\n",
      "Processed and saved: radial_power_spectra/srflow/4x/power_spectrum_comparison_3.png\n",
      "Processed and saved: radial_power_spectra/srflow/4x/power_spectrum_comparison_4.png\n",
      "Processed and saved: radial_power_spectra/srflow/4x/power_spectrum_comparison_5.png\n"
     ]
    }
   ],
   "source": [
    "args.s = 4\n",
    "args.bsz = 64\n",
    "train_loader, val_loader, test_loader, args = dataloading.load_data(args)\n",
    "in_channels = next(iter(test_loader))[0].shape[1]\n",
    "height, width = next(iter(test_loader))[0].shape[2], next(iter(test_loader))[0].shape[3]\n",
    "cnf4x = srflow.SRFlow((in_channels, height, width), args.filter_size, args.L, args.K, args.bsz, 4, args.constraint, args.nb, args.condch, args.noscale, args.noscaletest)\n",
    "exp_dir = 'runs/srflow_era5-TCW_None_2024_06_29_13_26_13_4x/'\n",
    "cnf_path = '/home/christina/Documents/clim-var-ds-cnf-own/runs/srflow_era5-TCW_None_2024_06_29_13_26_13_4x/model_checkpoints/model_epoch_10_step_26250.tar'\n",
    "# Load the model\n",
    "cnf4x = load_model(exp_dir, cnf4x, cnf_path).to(args.device)\n",
    "process_images(cnf4x, test_loader, 'radial_power_spectra/srflow/4x/', args.device, args, modeltype='srflow')"
   ]
  },
  {
   "cell_type": "markdown",
   "id": "fefbf45e-7cc1-4a40-a7aa-e31a62d6c636",
   "metadata": {},
   "source": [
    "### SRGAN 4x"
   ]
  },
  {
   "cell_type": "code",
   "execution_count": 64,
   "id": "9f338f64-992a-454f-a76d-ae4435b167ed",
   "metadata": {},
   "outputs": [
    {
     "name": "stdout",
     "output_type": "stream",
     "text": [
      "Loading ERA5 TCW ...\n",
      "Model loaded successfully.\n"
     ]
    },
    {
     "name": "stderr",
     "output_type": "stream",
     "text": [
      "/home/christina/anaconda3/lib/python3.7/site-packages/torch/nn/functional.py:3635: UserWarning: Default upsampling behavior when mode=bicubic is changed to align_corners=False since 0.4.0. Please specify align_corners=True if the old behavior is desired. See the documentation of nn.Upsample for details.\n",
      "  \"See the documentation of nn.Upsample for details.\".format(mode)\n"
     ]
    },
    {
     "name": "stdout",
     "output_type": "stream",
     "text": [
      "Processed and saved: radial_power_spectra/srgan/4x/denorm/power_spectrum_comparison_0.png\n"
     ]
    },
    {
     "name": "stderr",
     "output_type": "stream",
     "text": [
      "/home/christina/anaconda3/lib/python3.7/site-packages/torch/nn/functional.py:3635: UserWarning: Default upsampling behavior when mode=bicubic is changed to align_corners=False since 0.4.0. Please specify align_corners=True if the old behavior is desired. See the documentation of nn.Upsample for details.\n",
      "  \"See the documentation of nn.Upsample for details.\".format(mode)\n"
     ]
    },
    {
     "name": "stdout",
     "output_type": "stream",
     "text": [
      "Processed and saved: radial_power_spectra/srgan/4x/denorm/power_spectrum_comparison_1.png\n"
     ]
    },
    {
     "name": "stderr",
     "output_type": "stream",
     "text": [
      "/home/christina/anaconda3/lib/python3.7/site-packages/torch/nn/functional.py:3635: UserWarning: Default upsampling behavior when mode=bicubic is changed to align_corners=False since 0.4.0. Please specify align_corners=True if the old behavior is desired. See the documentation of nn.Upsample for details.\n",
      "  \"See the documentation of nn.Upsample for details.\".format(mode)\n"
     ]
    },
    {
     "name": "stdout",
     "output_type": "stream",
     "text": [
      "Processed and saved: radial_power_spectra/srgan/4x/denorm/power_spectrum_comparison_2.png\n"
     ]
    },
    {
     "name": "stderr",
     "output_type": "stream",
     "text": [
      "/home/christina/anaconda3/lib/python3.7/site-packages/torch/nn/functional.py:3635: UserWarning: Default upsampling behavior when mode=bicubic is changed to align_corners=False since 0.4.0. Please specify align_corners=True if the old behavior is desired. See the documentation of nn.Upsample for details.\n",
      "  \"See the documentation of nn.Upsample for details.\".format(mode)\n"
     ]
    },
    {
     "name": "stdout",
     "output_type": "stream",
     "text": [
      "Processed and saved: radial_power_spectra/srgan/4x/denorm/power_spectrum_comparison_3.png\n"
     ]
    },
    {
     "name": "stderr",
     "output_type": "stream",
     "text": [
      "/home/christina/anaconda3/lib/python3.7/site-packages/torch/nn/functional.py:3635: UserWarning: Default upsampling behavior when mode=bicubic is changed to align_corners=False since 0.4.0. Please specify align_corners=True if the old behavior is desired. See the documentation of nn.Upsample for details.\n",
      "  \"See the documentation of nn.Upsample for details.\".format(mode)\n"
     ]
    },
    {
     "name": "stdout",
     "output_type": "stream",
     "text": [
      "Processed and saved: radial_power_spectra/srgan/4x/denorm/power_spectrum_comparison_4.png\n"
     ]
    },
    {
     "name": "stderr",
     "output_type": "stream",
     "text": [
      "/home/christina/anaconda3/lib/python3.7/site-packages/torch/nn/functional.py:3635: UserWarning: Default upsampling behavior when mode=bicubic is changed to align_corners=False since 0.4.0. Please specify align_corners=True if the old behavior is desired. See the documentation of nn.Upsample for details.\n",
      "  \"See the documentation of nn.Upsample for details.\".format(mode)\n"
     ]
    },
    {
     "name": "stdout",
     "output_type": "stream",
     "text": [
      "Processed and saved: radial_power_spectra/srgan/4x/denorm/power_spectrum_comparison_5.png\n"
     ]
    }
   ],
   "source": [
    "args.s = 4\n",
    "args.bsz = 64\n",
    "train_loader, val_loader, test_loader, args = dataloading.load_data(args)\n",
    "in_channels = next(iter(test_loader))[0].shape[1]\n",
    "height, width = next(iter(test_loader))[0].shape[2], next(iter(test_loader))[0].shape[3]\n",
    "srgan4x = srgan.Generator(in_channels, out_nc=1, height=height, width=width, nf=128, s=args.s, nb=1)\n",
    "exp_dir = 'runs/SRGANruns/srgan_era5-TCW_None__2024_07_13_14_29_33_4x/'\n",
    "gan_path = '/home/christina/Documents/clim-var-ds-cnf-own/runs/SRGANruns/srgan_era5-TCW_None__2024_07_13_14_29_33_4x/model_checkpoints/generator_epoch_11_step_28250.tar'\n",
    "# Load the model\n",
    "srgan4x = load_model(exp_dir, srgan4x, gan_path).to(args.device)\n",
    "process_images(srgan4x, test_loader, 'radial_power_spectra/srgan/4x/denorm/', args.device, args, modeltype='srgan')"
   ]
  },
  {
   "cell_type": "markdown",
   "id": "dd484daa-e503-400b-ad80-1402025ccf66",
   "metadata": {},
   "source": [
    "### SRFlow 8x"
   ]
  },
  {
   "cell_type": "code",
   "execution_count": 65,
   "id": "d17c07a7-1e5e-4b08-a723-3e937c74933a",
   "metadata": {},
   "outputs": [
    {
     "name": "stdout",
     "output_type": "stream",
     "text": [
      "Loading ERA5 TCW ...\n",
      "Model loaded successfully.\n",
      "Processed and saved: radial_power_spectra/srflow/8x/denorm/power_spectrum_comparison_0.png\n",
      "Processed and saved: radial_power_spectra/srflow/8x/denorm/power_spectrum_comparison_1.png\n",
      "Processed and saved: radial_power_spectra/srflow/8x/denorm/power_spectrum_comparison_2.png\n",
      "Processed and saved: radial_power_spectra/srflow/8x/denorm/power_spectrum_comparison_3.png\n",
      "Processed and saved: radial_power_spectra/srflow/8x/denorm/power_spectrum_comparison_4.png\n",
      "Processed and saved: radial_power_spectra/srflow/8x/denorm/power_spectrum_comparison_5.png\n"
     ]
    }
   ],
   "source": [
    "args.s = 8\n",
    "args.bsz = 64\n",
    "args.device = 'cuda'\n",
    "train_loader, val_loader, test_loader, args = dataloading.load_data(args)\n",
    "in_channels = next(iter(test_loader))[0].shape[1]\n",
    "height, width = next(iter(test_loader))[0].shape[2], next(iter(test_loader))[0].shape[3]\n",
    "cnf8x = srflow.SRFlow((in_channels, height, width), args.filter_size, args.L, args.K, args.bsz, args.s, args.constraint, args.nb, args.condch, args.noscale, args.noscaletest)\n",
    "exp_dir = 'runs/srflow_era5-TCW_None_2024_06_29_13_26_12_8x/'\n",
    "cnf_path = '/home/christina/Documents/clim-var-ds-cnf-own/runs/srflow_era5-TCW_None_2024_06_29_13_26_12_8x/model_checkpoints/model_epoch_4_step_11500.tar'\n",
    "# Load the model\n",
    "cnf8x = load_model(exp_dir, cnf8x, cnf_path).to(args.device)\n",
    "process_images(cnf8x, test_loader, 'radial_power_spectra/srflow/8x/denorm/', args.device, args, modeltype='srflow')"
   ]
  },
  {
   "cell_type": "markdown",
   "id": "00083c81-17b0-48b2-8a60-b28f44f77d4f",
   "metadata": {},
   "source": [
    "### SRGAN 8x"
   ]
  },
  {
   "cell_type": "code",
   "execution_count": 66,
   "id": "357a6af3-17ab-4af4-8c46-a928dc1bb053",
   "metadata": {},
   "outputs": [
    {
     "name": "stdout",
     "output_type": "stream",
     "text": [
      "Loading ERA5 TCW ...\n",
      "Model loaded successfully.\n"
     ]
    },
    {
     "name": "stderr",
     "output_type": "stream",
     "text": [
      "/home/christina/anaconda3/lib/python3.7/site-packages/torch/nn/functional.py:3635: UserWarning: Default upsampling behavior when mode=bicubic is changed to align_corners=False since 0.4.0. Please specify align_corners=True if the old behavior is desired. See the documentation of nn.Upsample for details.\n",
      "  \"See the documentation of nn.Upsample for details.\".format(mode)\n"
     ]
    },
    {
     "name": "stdout",
     "output_type": "stream",
     "text": [
      "Processed and saved: radial_power_spectra/srgan/8x/denorm/power_spectrum_comparison_0.png\n"
     ]
    },
    {
     "name": "stderr",
     "output_type": "stream",
     "text": [
      "/home/christina/anaconda3/lib/python3.7/site-packages/torch/nn/functional.py:3635: UserWarning: Default upsampling behavior when mode=bicubic is changed to align_corners=False since 0.4.0. Please specify align_corners=True if the old behavior is desired. See the documentation of nn.Upsample for details.\n",
      "  \"See the documentation of nn.Upsample for details.\".format(mode)\n"
     ]
    },
    {
     "name": "stdout",
     "output_type": "stream",
     "text": [
      "Processed and saved: radial_power_spectra/srgan/8x/denorm/power_spectrum_comparison_1.png\n"
     ]
    },
    {
     "name": "stderr",
     "output_type": "stream",
     "text": [
      "/home/christina/anaconda3/lib/python3.7/site-packages/torch/nn/functional.py:3635: UserWarning: Default upsampling behavior when mode=bicubic is changed to align_corners=False since 0.4.0. Please specify align_corners=True if the old behavior is desired. See the documentation of nn.Upsample for details.\n",
      "  \"See the documentation of nn.Upsample for details.\".format(mode)\n"
     ]
    },
    {
     "name": "stdout",
     "output_type": "stream",
     "text": [
      "Processed and saved: radial_power_spectra/srgan/8x/denorm/power_spectrum_comparison_2.png\n"
     ]
    },
    {
     "name": "stderr",
     "output_type": "stream",
     "text": [
      "/home/christina/anaconda3/lib/python3.7/site-packages/torch/nn/functional.py:3635: UserWarning: Default upsampling behavior when mode=bicubic is changed to align_corners=False since 0.4.0. Please specify align_corners=True if the old behavior is desired. See the documentation of nn.Upsample for details.\n",
      "  \"See the documentation of nn.Upsample for details.\".format(mode)\n"
     ]
    },
    {
     "name": "stdout",
     "output_type": "stream",
     "text": [
      "Processed and saved: radial_power_spectra/srgan/8x/denorm/power_spectrum_comparison_3.png\n"
     ]
    },
    {
     "name": "stderr",
     "output_type": "stream",
     "text": [
      "/home/christina/anaconda3/lib/python3.7/site-packages/torch/nn/functional.py:3635: UserWarning: Default upsampling behavior when mode=bicubic is changed to align_corners=False since 0.4.0. Please specify align_corners=True if the old behavior is desired. See the documentation of nn.Upsample for details.\n",
      "  \"See the documentation of nn.Upsample for details.\".format(mode)\n"
     ]
    },
    {
     "name": "stdout",
     "output_type": "stream",
     "text": [
      "Processed and saved: radial_power_spectra/srgan/8x/denorm/power_spectrum_comparison_4.png\n"
     ]
    },
    {
     "name": "stderr",
     "output_type": "stream",
     "text": [
      "/home/christina/anaconda3/lib/python3.7/site-packages/torch/nn/functional.py:3635: UserWarning: Default upsampling behavior when mode=bicubic is changed to align_corners=False since 0.4.0. Please specify align_corners=True if the old behavior is desired. See the documentation of nn.Upsample for details.\n",
      "  \"See the documentation of nn.Upsample for details.\".format(mode)\n"
     ]
    },
    {
     "name": "stdout",
     "output_type": "stream",
     "text": [
      "Processed and saved: radial_power_spectra/srgan/8x/denorm/power_spectrum_comparison_5.png\n"
     ]
    }
   ],
   "source": [
    "args.s = 8\n",
    "args.bsz = 64\n",
    "train_loader, val_loader, test_loader, args = dataloading.load_data(args)\n",
    "in_channels = next(iter(test_loader))[0].shape[1]\n",
    "height, width = next(iter(test_loader))[0].shape[2], next(iter(test_loader))[0].shape[3]\n",
    "srgan8x = srgan.Generator(in_channels, out_nc=1, height=height, width=width, nf=128, s=args.s, nb=1)\n",
    "exp_dir = 'runs/SRGANruns/srgan_era5-TCW_None__2024_07_13_14_29_38_8x/'\n",
    "gan_path = '/home/christina/Documents/clim-var-ds-cnf-own/runs/SRGANruns/srgan_era5-TCW_None__2024_07_13_14_29_38_8x/model_checkpoints/generator_epoch_11_step_30000.tar'\n",
    "# Load the model\n",
    "srgan8x = load_model(exp_dir, srgan8x, gan_path).to(args.device)\n",
    "process_images(srgan8x, test_loader, 'radial_power_spectra/srgan/8x/denorm/', args.device, args, modeltype='srgan')"
   ]
  },
  {
   "cell_type": "markdown",
   "id": "05b9cea4-077b-4662-9c66-703f36861d93",
   "metadata": {},
   "source": [
    "### SRFlow 16x"
   ]
  },
  {
   "cell_type": "code",
   "execution_count": 67,
   "id": "5b385ebe-bbc9-48c3-b7b6-41d5cb1d6e56",
   "metadata": {},
   "outputs": [
    {
     "name": "stdout",
     "output_type": "stream",
     "text": [
      "Loading ERA5 TCW ...\n",
      "Model loaded successfully.\n",
      "Processed and saved: radial_power_spectra/srflow/16x/denorm/power_spectrum_comparison_0.png\n",
      "Processed and saved: radial_power_spectra/srflow/16x/denorm/power_spectrum_comparison_1.png\n",
      "Processed and saved: radial_power_spectra/srflow/16x/denorm/power_spectrum_comparison_2.png\n",
      "Processed and saved: radial_power_spectra/srflow/16x/denorm/power_spectrum_comparison_3.png\n",
      "Processed and saved: radial_power_spectra/srflow/16x/denorm/power_spectrum_comparison_4.png\n",
      "Processed and saved: radial_power_spectra/srflow/16x/denorm/power_spectrum_comparison_5.png\n"
     ]
    }
   ],
   "source": [
    "args.s = 16\n",
    "args.bsz = 64\n",
    "args.device = 'cuda'\n",
    "train_loader, val_loader, test_loader, args = dataloading.load_data(args)\n",
    "in_channels = next(iter(test_loader))[0].shape[1]\n",
    "height, width = next(iter(test_loader))[0].shape[2], next(iter(test_loader))[0].shape[3]\n",
    "cnf16x = srflow.SRFlow((in_channels, height, width), args.filter_size, args.L, args.K, args.bsz, 16, args.constraint, args.nb, args.condch, args.noscale, args.noscaletest)\n",
    "exp_dir = 'runs/srflow_era5-TCW_None_2024_06_29_13_26_12_16x/'\n",
    "cnf_path = '/home/christina/Documents/clim-var-ds-cnf-own/runs/srflow_era5-TCW_None_2024_06_29_13_26_12_16x/model_checkpoints/model_epoch_5_step_13750.tar'\n",
    "# Load the model\n",
    "cnf16x = load_model(exp_dir, cnf16x, cnf_path).to(args.device)\n",
    "process_images(cnf16x, test_loader, 'radial_power_spectra/srflow/16x/denorm/', args.device, args, modeltype='srflow')"
   ]
  },
  {
   "cell_type": "markdown",
   "id": "93fe9d14-a740-4bc8-9366-17b508e6d6a8",
   "metadata": {},
   "source": [
    "### SRGAN 16x"
   ]
  },
  {
   "cell_type": "code",
   "execution_count": 68,
   "id": "7939c4fb-b7cd-4af5-97bf-1a78aec55291",
   "metadata": {},
   "outputs": [
    {
     "name": "stdout",
     "output_type": "stream",
     "text": [
      "Loading ERA5 TCW ...\n",
      "Model loaded successfully.\n"
     ]
    },
    {
     "name": "stderr",
     "output_type": "stream",
     "text": [
      "/home/christina/anaconda3/lib/python3.7/site-packages/torch/nn/functional.py:3635: UserWarning: Default upsampling behavior when mode=bicubic is changed to align_corners=False since 0.4.0. Please specify align_corners=True if the old behavior is desired. See the documentation of nn.Upsample for details.\n",
      "  \"See the documentation of nn.Upsample for details.\".format(mode)\n"
     ]
    },
    {
     "name": "stdout",
     "output_type": "stream",
     "text": [
      "Processed and saved: radial_power_spectra/srgan/16x/denorm/power_spectrum_comparison_0.png\n"
     ]
    },
    {
     "name": "stderr",
     "output_type": "stream",
     "text": [
      "/home/christina/anaconda3/lib/python3.7/site-packages/torch/nn/functional.py:3635: UserWarning: Default upsampling behavior when mode=bicubic is changed to align_corners=False since 0.4.0. Please specify align_corners=True if the old behavior is desired. See the documentation of nn.Upsample for details.\n",
      "  \"See the documentation of nn.Upsample for details.\".format(mode)\n"
     ]
    },
    {
     "name": "stdout",
     "output_type": "stream",
     "text": [
      "Processed and saved: radial_power_spectra/srgan/16x/denorm/power_spectrum_comparison_1.png\n"
     ]
    },
    {
     "name": "stderr",
     "output_type": "stream",
     "text": [
      "/home/christina/anaconda3/lib/python3.7/site-packages/torch/nn/functional.py:3635: UserWarning: Default upsampling behavior when mode=bicubic is changed to align_corners=False since 0.4.0. Please specify align_corners=True if the old behavior is desired. See the documentation of nn.Upsample for details.\n",
      "  \"See the documentation of nn.Upsample for details.\".format(mode)\n"
     ]
    },
    {
     "name": "stdout",
     "output_type": "stream",
     "text": [
      "Processed and saved: radial_power_spectra/srgan/16x/denorm/power_spectrum_comparison_2.png\n"
     ]
    },
    {
     "name": "stderr",
     "output_type": "stream",
     "text": [
      "/home/christina/anaconda3/lib/python3.7/site-packages/torch/nn/functional.py:3635: UserWarning: Default upsampling behavior when mode=bicubic is changed to align_corners=False since 0.4.0. Please specify align_corners=True if the old behavior is desired. See the documentation of nn.Upsample for details.\n",
      "  \"See the documentation of nn.Upsample for details.\".format(mode)\n"
     ]
    },
    {
     "name": "stdout",
     "output_type": "stream",
     "text": [
      "Processed and saved: radial_power_spectra/srgan/16x/denorm/power_spectrum_comparison_3.png\n"
     ]
    },
    {
     "name": "stderr",
     "output_type": "stream",
     "text": [
      "/home/christina/anaconda3/lib/python3.7/site-packages/torch/nn/functional.py:3635: UserWarning: Default upsampling behavior when mode=bicubic is changed to align_corners=False since 0.4.0. Please specify align_corners=True if the old behavior is desired. See the documentation of nn.Upsample for details.\n",
      "  \"See the documentation of nn.Upsample for details.\".format(mode)\n"
     ]
    },
    {
     "name": "stdout",
     "output_type": "stream",
     "text": [
      "Processed and saved: radial_power_spectra/srgan/16x/denorm/power_spectrum_comparison_4.png\n"
     ]
    },
    {
     "name": "stderr",
     "output_type": "stream",
     "text": [
      "/home/christina/anaconda3/lib/python3.7/site-packages/torch/nn/functional.py:3635: UserWarning: Default upsampling behavior when mode=bicubic is changed to align_corners=False since 0.4.0. Please specify align_corners=True if the old behavior is desired. See the documentation of nn.Upsample for details.\n",
      "  \"See the documentation of nn.Upsample for details.\".format(mode)\n"
     ]
    },
    {
     "name": "stdout",
     "output_type": "stream",
     "text": [
      "Processed and saved: radial_power_spectra/srgan/16x/denorm/power_spectrum_comparison_5.png\n"
     ]
    }
   ],
   "source": [
    "args.s = 16\n",
    "train_loader, val_loader, test_loader, args = dataloading.load_data(args)\n",
    "in_channels = next(iter(test_loader))[0].shape[1]\n",
    "height, width = next(iter(test_loader))[0].shape[2], next(iter(test_loader))[0].shape[3]\n",
    "srgan16x = srgan.Generator(in_channels, out_nc=1, height=height, width=width, nf=128, s=args.s, nb=1)\n",
    "\n",
    "exp_dir = 'runs/SRGANruns/srgan_era5-TCW_None__2024_07_20_14_56_31_16x/'\n",
    "gan_path = '/home/christina/Documents/clim-var-ds-cnf-own/runs/SRGANruns/srgan_era5-TCW_None__2024_07_20_14_56_31_16x/model_checkpoints/generator_epoch_13_step_34250.tar'\n",
    "\n",
    "# Load the model\n",
    "srgan16x = load_model(exp_dir, srgan16x, gan_path).to(args.device)\n",
    "process_images(srgan16x, test_loader, 'radial_power_spectra/srgan/16x/denorm/', args.device, args, modeltype='srgan')"
   ]
  },
  {
   "cell_type": "code",
   "execution_count": 29,
   "id": "8c4e4671-0a17-4f0b-88cc-04fb41314dbd",
   "metadata": {},
   "outputs": [
    {
     "data": {
      "image/png": "[encoded data removed]",
      "text/plain": [
       "<Figure size 864x576 with 1 Axes>"
      ]
     },
     "metadata": {
      "needs_background": "light"
     },
     "output_type": "display_data"
    }
   ],
   "source": [
    "import os\n",
    "import numpy as np\n",
    "import matplotlib.pyplot as plt\n",
    "\n",
    "def load_radial_profile(file_path):\n",
    "    \"\"\"Load the radial profile from a text file.\"\"\"\n",
    "    return np.loadtxt(file_path)\n",
    "\n",
    "def plot_radial_profiles_from_folders(folder_paths, downsampling_factors, ground_truth_folder, output_path):\n",
    "    \"\"\"\n",
    "    Plot radial profiles for different downsampling factors and a common ground truth.\n",
    "    \n",
    "    Parameters:\n",
    "    - folder_paths: List of directories containing radial profile text files for different downsampling factors.\n",
    "    - downsampling_factors: List of downsampling factors corresponding to each folder.\n",
    "    - ground_truth_folder: Directory containing the radial profile text file for the ground truth.\n",
    "    - output_path: Path where the plot will be saved.\n",
    "    \"\"\"\n",
    "    plt.figure(figsize=(12, 8))\n",
    "    \n",
    "    # Load the ground truth radial profile\n",
    "    gt_profile_path = os.path.join(ground_truth_folder, 'radial_profile_gt_2.txt')\n",
    "    if os.path.exists(gt_profile_path):\n",
    "        radial_profile_gt = load_radial_profile(gt_profile_path)\n",
    "        plt.plot(np.arange(len(radial_profile_gt)), radial_profile_gt, label='Ground Truth', linestyle='--', color='black')\n",
    "    else:\n",
    "        raise FileNotFoundError(f\"Ground truth file not found: {gt_profile_path}\")\n",
    "\n",
    "    # Load and plot radial profiles for model outputs\n",
    "    for folder_path, factor in zip(folder_paths, downsampling_factors):\n",
    "        model_profile_path = os.path.join(folder_path, 'radial_profile_model_2.txt')\n",
    "        if os.path.exists(model_profile_path):\n",
    "            radial_profile_model = load_radial_profile(model_profile_path)\n",
    "            plt.plot(np.arange(len(radial_profile_model)), radial_profile_model, label=f'Model Output {factor}x')\n",
    "\n",
    "    # Set plot labels and title\n",
    "    plt.xlabel('Radial Distance (bins)')\n",
    "    plt.ylabel('Log Power Spectrum')\n",
    "    plt.title('Radial Profiles Comparison Across Downsampling Factors')\n",
    "    plt.legend()\n",
    "    plt.grid(True)\n",
    "    plt.savefig(output_path, bbox_inches='tight')\n",
    "    plt.show()\n",
    "\n",
    "folder_paths = [\n",
    "    'radial_power_spectra/srflow/2x/',\n",
    "    'radial_power_spectra/srflow/4x/',\n",
    "    'radial_power_spectra/srflow/8x/',\n",
    "    'radial_power_spectra/srflow/16x/'\n",
    "]\n",
    "\n",
    "downsampling_factors = ['2', '4', '8', '16']\n",
    "ground_truth_folder = 'radial_power_spectra/srflow/2x/'\n",
    "output_path = 'radial_power_spectra/radial_profiles_comparison.png'\n",
    "\n",
    "plot_radial_profiles_from_folders(folder_paths, downsampling_factors, ground_truth_folder, output_path)\n"
   ]
  },
  {
   "cell_type": "code",
   "execution_count": 60,
   "id": "c9df40f4-4360-4f40-9852-f9f72c97fc99",
   "metadata": {},
   "outputs": [
    {
     "data": {
      "image/png": "[encoded data removed]",
      "text/plain": [
       "<Figure size 1008x720 with 1 Axes>"
      ]
     },
     "metadata": {
      "needs_background": "light"
     },
     "output_type": "display_data"
    }
   ],
   "source": [
    "import os\n",
    "import numpy as np\n",
    "import matplotlib.pyplot as plt\n",
    "\n",
    "def load_radial_profile(file_path):\n",
    "    \"\"\"Load the radial profile from a text file.\"\"\"\n",
    "    return np.loadtxt(file_path)\n",
    "\n",
    "def plot_comparison_radial_profiles(cnf_folders, gan_folders, downsampling_factors, ground_truth_folder, output_path):\n",
    "    \"\"\"\n",
    "    Plot and compare radial profiles for CNF and GAN models across different downsampling factors.\n",
    "    \n",
    "    Parameters:\n",
    "    - cnf_folders: List of directories containing radial profile text files for CNF models.\n",
    "    - gan_folders: List of directories containing radial profile text files for GAN models.\n",
    "    - downsampling_factors: List of downsampling factors corresponding to each folder.\n",
    "    - ground_truth_folder: Directory containing the radial profile text file for the ground truth.\n",
    "    - output_path: Path where the plot will be saved.\n",
    "    \"\"\"\n",
    "    plt.figure(figsize=(14, 10))\n",
    "    \n",
    "    # Load and plot the ground truth radial profile\n",
    "    gt_profile_path = os.path.join(ground_truth_folder, 'radial_profile_gt_0.txt')\n",
    "    if os.path.exists(gt_profile_path):\n",
    "        radial_profile_gt = load_radial_profile(gt_profile_path)\n",
    "        plt.plot(np.arange(len(radial_profile_gt)), radial_profile_gt, label='Ground Truth', linestyle='--', color='black')\n",
    "    else:\n",
    "        raise FileNotFoundError(f\"Ground truth file not found: {gt_profile_path}\")\n",
    "\n",
    "    # Load and plot radial profiles for CNF models\n",
    "    for folder_path, factor in zip(cnf_folders, downsampling_factors):\n",
    "        model_profile_path = os.path.join(folder_path, 'radial_profile_model_0.txt')\n",
    "        if os.path.exists(model_profile_path):\n",
    "            radial_profile_cnf = load_radial_profile(model_profile_path)\n",
    "            plt.plot(np.arange(len(radial_profile_cnf)), radial_profile_cnf, label=f'CNF Output {factor}x')\n",
    "\n",
    "    # Load and plot radial profiles for GAN models\n",
    "    for folder_path, factor in zip(gan_folders, downsampling_factors):\n",
    "        model_profile_path = os.path.join(folder_path, 'radial_profile_model_0.txt')\n",
    "        if os.path.exists(model_profile_path):\n",
    "            radial_profile_gan = load_radial_profile(model_profile_path)\n",
    "            plt.plot(np.arange(len(radial_profile_gan)), radial_profile_gan, label=f'GAN Output {factor}x', linestyle='--')\n",
    "\n",
    "    # Set plot labels and title\n",
    "    plt.xlabel('Radial Distance (bins)')\n",
    "    plt.ylabel('Log Power Spectrum')\n",
    "    plt.title('Comparison of Radial Profiles: CNF vs. GAN')\n",
    "    plt.legend()\n",
    "    plt.grid(True)\n",
    "    plt.savefig(output_path, bbox_inches='tight')\n",
    "    plt.show()\n",
    "\n",
    "\n",
    "folder_paths = [\n",
    "    'radial_power_spectra/srflow/2x/',\n",
    "    'radial_power_spectra/srflow/4x/',\n",
    "    'radial_power_spectra/srflow/8x/',\n",
    "    'radial_power_spectra/srflow/16x/'\n",
    "]\n",
    "\n",
    "cnf_folders = [\n",
    "    'radial_power_spectra/srflow/2x/',\n",
    "    'radial_power_spectra/srflow/4x/',\n",
    "    'radial_power_spectra/srflow/8x/',\n",
    "    'radial_power_spectra/srflow/16x/'\n",
    "]\n",
    "\n",
    "gan_folders = [\n",
    "    'radial_power_spectra/srgan/2x/',\n",
    "    'radial_power_spectra/srgan/4x/',\n",
    "    'radial_power_spectra/srgan/8x/',\n",
    "    'radial_power_spectra/srgan/16x/'\n",
    "]\n",
    "\n",
    "downsampling_factors = ['2', '4', '8', '16']\n",
    "ground_truth_folder = 'radial_power_spectra/srflow/2x/'\n",
    "output_path = 'radial_power_spectra/radial_profiles_comparison.png'\n",
    "\n",
    "plot_comparison_radial_profiles(cnf_folders, gan_folders, downsampling_factors, ground_truth_folder, output_path)"
   ]
  },
  {
   "cell_type": "code",
   "execution_count": null,
   "id": "6e1fa124-cfae-4e93-af48-4022d3d2c6da",
   "metadata": {},
   "outputs": [],
   "source": []
  },
  {
   "cell_type": "code",
   "execution_count": 11,
   "id": "36484d32-032e-4d7c-814d-295df49cc7b9",
   "metadata": {},
   "outputs": [
    {
     "data": {
      "image/png": "[encoded data removed]",
      "text/plain": [
       "<Figure size 1008x720 with 1 Axes>"
      ]
     },
     "metadata": {
      "needs_background": "light"
     },
     "output_type": "display_data"
    }
   ],
   "source": [
    "import os\n",
    "import numpy as np\n",
    "import matplotlib.pyplot as plt\n",
    "\n",
    "def load_radial_profile(file_path):\n",
    "    \"\"\"Load the radial profile from a text file.\"\"\"\n",
    "    return np.loadtxt(file_path)\n",
    "\n",
    "def plot_comparison_radial_profiles(cnf_folders, gan_folders, downsampling_factors, ground_truth_folder, output_path):\n",
    "    \"\"\"\n",
    "    Plot and compare radial profiles for CNF and GAN models across different downsampling factors.\n",
    "    \n",
    "    Parameters:\n",
    "    - cnf_folders: List of directories containing radial profile text files for CNF models.\n",
    "    - gan_folders: List of directories containing radial profile text files for GAN models.\n",
    "    - downsampling_factors: List of downsampling factors corresponding to each folder.\n",
    "    - ground_truth_folder: Directory containing the radial profile text file for the ground truth.\n",
    "    - output_path: Path where the plot will be saved.\n",
    "    \"\"\"\n",
    "    # Define color map for different downsampling factors\n",
    "    color_map = {\n",
    "        '2': 'blue',\n",
    "        '4': 'orange',\n",
    "        '8': 'green',\n",
    "        '16': 'red'\n",
    "    }\n",
    "    \n",
    "    plt.figure(figsize=(14, 10))\n",
    "    \n",
    "    # Load and plot the ground truth radial profile\n",
    "    gt_profile_path = os.path.join(ground_truth_folder, 'radial_profile_gt_0.txt')\n",
    "    if os.path.exists(gt_profile_path):\n",
    "        radial_profile_gt = load_radial_profile(gt_profile_path)\n",
    "        plt.plot(np.arange(len(radial_profile_gt)), radial_profile_gt, label='Ground Truth', color='black')\n",
    "    else:\n",
    "        raise FileNotFoundError(f\"Ground truth file not found: {gt_profile_path}\")\n",
    "\n",
    "    # Load and plot radial profiles for CNF models\n",
    "    for folder_path, factor in zip(cnf_folders, downsampling_factors):\n",
    "        model_profile_path = os.path.join(folder_path, 'radial_profile_model_0.txt')\n",
    "        if os.path.exists(model_profile_path):\n",
    "            radial_profile_cnf = load_radial_profile(model_profile_path)\n",
    "            plt.plot(np.arange(len(radial_profile_cnf)), radial_profile_cnf, label=f'CNF Output {factor}x', color=color_map[factor])\n",
    "\n",
    "    # Load and plot radial profiles for GAN models\n",
    "    for folder_path, factor in zip(gan_folders, downsampling_factors):\n",
    "        model_profile_path = os.path.join(folder_path, 'radial_profile_model_0.txt')\n",
    "        if os.path.exists(model_profile_path):\n",
    "            radial_profile_gan = load_radial_profile(model_profile_path)\n",
    "            plt.plot(np.arange(len(radial_profile_gan)), radial_profile_gan, label=f'GAN Output {factor}x', linestyle='--', color=color_map[factor])\n",
    "\n",
    "    # Set plot labels and title\n",
    "    plt.xlabel('Radial Distance (bins)')\n",
    "    plt.ylabel('Log Power Spectrum')\n",
    "    plt.title('Comparison of Radial Profiles: CNF vs. GAN')\n",
    "    plt.legend()\n",
    "    plt.grid(True)\n",
    "    plt.savefig(output_path, bbox_inches='tight')\n",
    "    plt.show()\n",
    "\n",
    "# Define folder paths and parameters\n",
    "cnf_folders = [\n",
    "    'radial_power_spectra/srflow/2x/',\n",
    "    'radial_power_spectra/srflow/4x/',\n",
    "    'radial_power_spectra/srflow/8x/',\n",
    "    'radial_power_spectra/srflow/16x/'\n",
    "]\n",
    "\n",
    "gan_folders = [\n",
    "    'radial_power_spectra/srgan/2x/',\n",
    "    'radial_power_spectra/srgan/4x/',\n",
    "    'radial_power_spectra/srgan/8x/',\n",
    "    'radial_power_spectra/srgan/16x/'\n",
    "]\n",
    "\n",
    "downsampling_factors = ['2', '4', '8', '16']\n",
    "ground_truth_folder = 'radial_power_spectra/srflow/2x/'\n",
    "output_path = 'radial_power_spectra/radial_profiles_comparison.png'\n",
    "\n",
    "plot_comparison_radial_profiles(cnf_folders, gan_folders, downsampling_factors, ground_truth_folder, output_path)\n"
   ]
  },
  {
   "cell_type": "code",
   "execution_count": null,
   "id": "dc9c77ed-25f9-4e33-9f23-78496044d309",
   "metadata": {},
   "outputs": [],
   "source": []
  },
  {
   "cell_type": "code",
   "execution_count": null,
   "id": "0e823231-18dc-4a8f-8668-496174f902be",
   "metadata": {},
   "outputs": [],
   "source": []
  },
  {
   "cell_type": "code",
   "execution_count": null,
   "id": "1146ad68-d53d-4246-8eb9-44bc3ade446d",
   "metadata": {},
   "outputs": [],
   "source": []
  },
  {
   "cell_type": "code",
   "execution_count": null,
   "id": "03945cbf-1106-4f42-8845-7dd49cf4186a",
   "metadata": {},
   "outputs": [],
   "source": []
  },
  {
   "cell_type": "code",
   "execution_count": null,
   "id": "0cfe8a91-7553-4378-90b1-5f5d5f1c5dcb",
   "metadata": {},
   "outputs": [],
   "source": []
  }
 ],
 "metadata": {
  "kernelspec": {
   "display_name": "stflow",
   "language": "python",
   "name": "stflow"
  },
  "language_info": {
   "codemirror_mode": {
    "name": "ipython",
    "version": 3
   },
   "file_extension": ".py",
   "mimetype": "text/x-python",
   "name": "python",
   "nbconvert_exporter": "python",
   "pygments_lexer": "ipython3",
   "version": "3.7.6"
  }
 },
 "nbformat": 4,
 "nbformat_minor": 5
}
